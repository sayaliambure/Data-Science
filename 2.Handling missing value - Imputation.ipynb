{
 "cells": [
  {
   "cell_type": "markdown",
   "id": "a489c305",
   "metadata": {},
   "source": [
    "# Univariate imputation for Numerical data\n",
    "https://www.notion.so/Handling-missing-value-01e3ce468b814980875d2726638ee8e9"
   ]
  },
  {
   "cell_type": "markdown",
   "id": "5ec9e098",
   "metadata": {},
   "source": [
    "## -->fill using pandas"
   ]
  },
  {
   "cell_type": "code",
   "execution_count": 1,
   "id": "c0dbd65a",
   "metadata": {},
   "outputs": [],
   "source": [
    "import numpy as mp\n",
    "import pandas as pd\n",
    "import matplotlib.pyplot as plt"
   ]
  },
  {
   "cell_type": "code",
   "execution_count": 2,
   "id": "a70923cf",
   "metadata": {},
   "outputs": [],
   "source": [
    "from sklearn.model_selection import train_test_split\n",
    "from sklearn.impute import SimpleImputer\n",
    "from sklearn.compose import ColumnTransformer"
   ]
  },
  {
   "cell_type": "code",
   "execution_count": 3,
   "id": "dfe2673b",
   "metadata": {},
   "outputs": [
    {
     "data": {
      "text/html": [
       "<div>\n",
       "<style scoped>\n",
       "    .dataframe tbody tr th:only-of-type {\n",
       "        vertical-align: middle;\n",
       "    }\n",
       "\n",
       "    .dataframe tbody tr th {\n",
       "        vertical-align: top;\n",
       "    }\n",
       "\n",
       "    .dataframe thead th {\n",
       "        text-align: right;\n",
       "    }\n",
       "</style>\n",
       "<table border=\"1\" class=\"dataframe\">\n",
       "  <thead>\n",
       "    <tr style=\"text-align: right;\">\n",
       "      <th></th>\n",
       "      <th>Age</th>\n",
       "      <th>Fare</th>\n",
       "      <th>Family</th>\n",
       "      <th>Survived</th>\n",
       "    </tr>\n",
       "  </thead>\n",
       "  <tbody>\n",
       "    <tr>\n",
       "      <th>0</th>\n",
       "      <td>22.0</td>\n",
       "      <td>7.2500</td>\n",
       "      <td>1</td>\n",
       "      <td>0</td>\n",
       "    </tr>\n",
       "    <tr>\n",
       "      <th>1</th>\n",
       "      <td>38.0</td>\n",
       "      <td>71.2833</td>\n",
       "      <td>1</td>\n",
       "      <td>1</td>\n",
       "    </tr>\n",
       "    <tr>\n",
       "      <th>2</th>\n",
       "      <td>26.0</td>\n",
       "      <td>7.9250</td>\n",
       "      <td>0</td>\n",
       "      <td>1</td>\n",
       "    </tr>\n",
       "    <tr>\n",
       "      <th>3</th>\n",
       "      <td>35.0</td>\n",
       "      <td>53.1000</td>\n",
       "      <td>1</td>\n",
       "      <td>1</td>\n",
       "    </tr>\n",
       "    <tr>\n",
       "      <th>4</th>\n",
       "      <td>35.0</td>\n",
       "      <td>8.0500</td>\n",
       "      <td>0</td>\n",
       "      <td>0</td>\n",
       "    </tr>\n",
       "  </tbody>\n",
       "</table>\n",
       "</div>"
      ],
      "text/plain": [
       "    Age     Fare  Family  Survived\n",
       "0  22.0   7.2500       1         0\n",
       "1  38.0  71.2833       1         1\n",
       "2  26.0   7.9250       0         1\n",
       "3  35.0  53.1000       1         1\n",
       "4  35.0   8.0500       0         0"
      ]
     },
     "execution_count": 3,
     "metadata": {},
     "output_type": "execute_result"
    }
   ],
   "source": [
    "df = pd.read_csv('datasets/titanic_toy.csv')\n",
    "df.head()"
   ]
  },
  {
   "cell_type": "code",
   "execution_count": 4,
   "id": "0a2e4592",
   "metadata": {},
   "outputs": [
    {
     "name": "stdout",
     "output_type": "stream",
     "text": [
      "<class 'pandas.core.frame.DataFrame'>\n",
      "RangeIndex: 891 entries, 0 to 890\n",
      "Data columns (total 4 columns):\n",
      " #   Column    Non-Null Count  Dtype  \n",
      "---  ------    --------------  -----  \n",
      " 0   Age       714 non-null    float64\n",
      " 1   Fare      846 non-null    float64\n",
      " 2   Family    891 non-null    int64  \n",
      " 3   Survived  891 non-null    int64  \n",
      "dtypes: float64(2), int64(2)\n",
      "memory usage: 28.0 KB\n"
     ]
    }
   ],
   "source": [
    "df.info()"
   ]
  },
  {
   "cell_type": "code",
   "execution_count": 5,
   "id": "824dc2f4",
   "metadata": {},
   "outputs": [
    {
     "data": {
      "text/plain": [
       "Age         0.198653\n",
       "Fare        0.050505\n",
       "Family      0.000000\n",
       "Survived    0.000000\n",
       "dtype: float64"
      ]
     },
     "execution_count": 5,
     "metadata": {},
     "output_type": "execute_result"
    }
   ],
   "source": [
    "df.isnull().mean()  # % of data missing"
   ]
  },
  {
   "cell_type": "code",
   "execution_count": 6,
   "id": "7bb2f069",
   "metadata": {},
   "outputs": [],
   "source": [
    "x=df.drop(columns=['Survived'])\n",
    "y=df['Survived']\n",
    "\n",
    "# train test split\n",
    "x_train, x_test, y_train, y_test = train_test_split(x, y, test_size=0.2, random_state=2)"
   ]
  },
  {
   "cell_type": "code",
   "execution_count": 7,
   "id": "d12215f2",
   "metadata": {},
   "outputs": [
    {
     "data": {
      "text/plain": [
       "((712, 3), (179, 3))"
      ]
     },
     "execution_count": 7,
     "metadata": {},
     "output_type": "execute_result"
    }
   ],
   "source": [
    "x_train.shape, x_test.shape"
   ]
  },
  {
   "cell_type": "code",
   "execution_count": 8,
   "id": "cabf23a9",
   "metadata": {},
   "outputs": [
    {
     "data": {
      "text/plain": [
       "Age       0.207865\n",
       "Fare      0.050562\n",
       "Family    0.000000\n",
       "dtype: float64"
      ]
     },
     "execution_count": 8,
     "metadata": {},
     "output_type": "execute_result"
    }
   ],
   "source": [
    "x_train.isnull().mean()"
   ]
  },
  {
   "cell_type": "code",
   "execution_count": 9,
   "id": "4a2f3ae6",
   "metadata": {},
   "outputs": [
    {
     "name": "stdout",
     "output_type": "stream",
     "text": [
      "29.78590425531915 28.75 32.617596893491076 14.4583\n"
     ]
    }
   ],
   "source": [
    "mean_age = x_train['Age'].mean()\n",
    "median_age = x_train['Age'].median()\n",
    "\n",
    "mean_fare = x_train['Fare'].mean()\n",
    "median_fare = x_train['Fare'].median()\n",
    "print(mean_age, median_age, mean_fare, median_fare)"
   ]
  },
  {
   "cell_type": "code",
   "execution_count": 10,
   "id": "9337274c",
   "metadata": {},
   "outputs": [],
   "source": [
    "# Now make new col where you fill the missing value with mean\n",
    "# and other col where you fill the missing value with median\n",
    "\n",
    "x_train['Age_mean'] = x_train['Age'].fillna(mean_age)\n",
    "x_train['Age_median'] = x_train['Age'].fillna(median_age)\n",
    "\n",
    "x_train['Fare_mean'] = x_train['Fare'].fillna(mean_fare)\n",
    "x_train['Fare_median'] = x_train['Fare'].fillna(median_fare)"
   ]
  },
  {
   "cell_type": "code",
   "execution_count": 11,
   "id": "91e96e06",
   "metadata": {},
   "outputs": [
    {
     "data": {
      "text/html": [
       "<div>\n",
       "<style scoped>\n",
       "    .dataframe tbody tr th:only-of-type {\n",
       "        vertical-align: middle;\n",
       "    }\n",
       "\n",
       "    .dataframe tbody tr th {\n",
       "        vertical-align: top;\n",
       "    }\n",
       "\n",
       "    .dataframe thead th {\n",
       "        text-align: right;\n",
       "    }\n",
       "</style>\n",
       "<table border=\"1\" class=\"dataframe\">\n",
       "  <thead>\n",
       "    <tr style=\"text-align: right;\">\n",
       "      <th></th>\n",
       "      <th>Age</th>\n",
       "      <th>Fare</th>\n",
       "      <th>Family</th>\n",
       "      <th>Age_mean</th>\n",
       "      <th>Age_median</th>\n",
       "      <th>Fare_mean</th>\n",
       "      <th>Fare_median</th>\n",
       "    </tr>\n",
       "  </thead>\n",
       "  <tbody>\n",
       "    <tr>\n",
       "      <th>748</th>\n",
       "      <td>19.0</td>\n",
       "      <td>53.100</td>\n",
       "      <td>1</td>\n",
       "      <td>19.0</td>\n",
       "      <td>19.0</td>\n",
       "      <td>53.100</td>\n",
       "      <td>53.100</td>\n",
       "    </tr>\n",
       "    <tr>\n",
       "      <th>293</th>\n",
       "      <td>24.0</td>\n",
       "      <td>8.850</td>\n",
       "      <td>0</td>\n",
       "      <td>24.0</td>\n",
       "      <td>24.0</td>\n",
       "      <td>8.850</td>\n",
       "      <td>8.850</td>\n",
       "    </tr>\n",
       "    <tr>\n",
       "      <th>610</th>\n",
       "      <td>39.0</td>\n",
       "      <td>31.275</td>\n",
       "      <td>6</td>\n",
       "      <td>39.0</td>\n",
       "      <td>39.0</td>\n",
       "      <td>31.275</td>\n",
       "      <td>31.275</td>\n",
       "    </tr>\n",
       "    <tr>\n",
       "      <th>632</th>\n",
       "      <td>32.0</td>\n",
       "      <td>30.500</td>\n",
       "      <td>0</td>\n",
       "      <td>32.0</td>\n",
       "      <td>32.0</td>\n",
       "      <td>30.500</td>\n",
       "      <td>30.500</td>\n",
       "    </tr>\n",
       "    <tr>\n",
       "      <th>188</th>\n",
       "      <td>40.0</td>\n",
       "      <td>15.500</td>\n",
       "      <td>2</td>\n",
       "      <td>40.0</td>\n",
       "      <td>40.0</td>\n",
       "      <td>15.500</td>\n",
       "      <td>15.500</td>\n",
       "    </tr>\n",
       "  </tbody>\n",
       "</table>\n",
       "</div>"
      ],
      "text/plain": [
       "      Age    Fare  Family  Age_mean  Age_median  Fare_mean  Fare_median\n",
       "748  19.0  53.100       1      19.0        19.0     53.100       53.100\n",
       "293  24.0   8.850       0      24.0        24.0      8.850        8.850\n",
       "610  39.0  31.275       6      39.0        39.0     31.275       31.275\n",
       "632  32.0  30.500       0      32.0        32.0     30.500       30.500\n",
       "188  40.0  15.500       2      40.0        40.0     15.500       15.500"
      ]
     },
     "execution_count": 11,
     "metadata": {},
     "output_type": "execute_result"
    }
   ],
   "source": [
    "x_train.sample(5)"
   ]
  },
  {
   "cell_type": "code",
   "execution_count": 12,
   "id": "33f3f923",
   "metadata": {},
   "outputs": [
    {
     "name": "stdout",
     "output_type": "stream",
     "text": [
      "Actual var of Age:  204.3495133904614\n",
      "var after mean impute:  161.81262452718673\n",
      "var after median impute:  161.9895663346054\n",
      "Actual var of fare:  2448.197913706318\n",
      "var after mean impute:  2324.2385256705547\n",
      "var after median impute:  2340.0910219753637\n"
     ]
    }
   ],
   "source": [
    "# When you impute mean values, variance shrinks\n",
    "# As variance is measure of how far values are form mean\n",
    "# So make sure there are no drastic changes\n",
    "print(\"Actual var of Age: \", x_train['Age'].var())\n",
    "print(\"var after mean impute: \", x_train['Age_mean'].var())\n",
    "print(\"var after median impute: \", x_train['Age_median'].var())\n",
    "\n",
    "\n",
    "print(\"Actual var of fare: \", x_train['Fare'].var())\n",
    "print(\"var after mean impute: \", x_train['Fare_mean'].var())\n",
    "print(\"var after median impute: \", x_train['Fare_median'].var())\n"
   ]
  },
  {
   "cell_type": "code",
   "execution_count": 13,
   "id": "be4f1d7e",
   "metadata": {},
   "outputs": [
    {
     "data": {
      "text/plain": [
       "<matplotlib.legend.Legend at 0x1fd9025fdc0>"
      ]
     },
     "execution_count": 13,
     "metadata": {},
     "output_type": "execute_result"
    },
    {
     "data": {
      "image/png": "[encoded data removed]",
      "text/plain": [
       "<Figure size 432x288 with 1 Axes>"
      ]
     },
     "metadata": {
      "needs_background": "light"
     },
     "output_type": "display_data"
    }
   ],
   "source": [
    "# change in disrtibution of age\n",
    "fig = plt.figure()\n",
    "ax=fig.add_subplot(111)\n",
    "\n",
    "# og variable distribution\n",
    "x_train['Age'].plot(kind='kde', ax=ax)\n",
    "x_train['Age_mean'].plot(kind='kde', ax=ax, color='red')\n",
    "x_train['Age_median'].plot(kind='kde', ax=ax, color='green')\n",
    "\n",
    "lines, labels=ax.get_legend_handles_labels()\n",
    "ax.legend(lines, labels, loc='best')"
   ]
  },
  {
   "cell_type": "code",
   "execution_count": 14,
   "id": "9479fe11",
   "metadata": {},
   "outputs": [
    {
     "data": {
      "text/plain": [
       "<matplotlib.legend.Legend at 0x1fd943d3160>"
      ]
     },
     "execution_count": 14,
     "metadata": {},
     "output_type": "execute_result"
    },
    {
     "data": {
      "image/png": "[encoded data removed]",
      "text/plain": [
       "<Figure size 432x288 with 1 Axes>"
      ]
     },
     "metadata": {
      "needs_background": "light"
     },
     "output_type": "display_data"
    }
   ],
   "source": [
    "# change in disrtibution of fare\n",
    "fig = plt.figure()\n",
    "ax=fig.add_subplot(111)\n",
    "\n",
    "# og variable distribution\n",
    "x_train['Fare'].plot(kind='kde', ax=ax)\n",
    "x_train['Fare_mean'].plot(kind='kde', ax=ax, color='red')\n",
    "x_train['Fare_median'].plot(kind='kde', ax=ax, color='green')\n",
    "\n",
    "lines, labels=ax.get_legend_handles_labels()\n",
    "ax.legend(lines, labels, loc='best')"
   ]
  },
  {
   "cell_type": "code",
   "execution_count": 15,
   "id": "2dea5943",
   "metadata": {},
   "outputs": [
    {
     "data": {
      "text/html": [
       "<div>\n",
       "<style scoped>\n",
       "    .dataframe tbody tr th:only-of-type {\n",
       "        vertical-align: middle;\n",
       "    }\n",
       "\n",
       "    .dataframe tbody tr th {\n",
       "        vertical-align: top;\n",
       "    }\n",
       "\n",
       "    .dataframe thead th {\n",
       "        text-align: right;\n",
       "    }\n",
       "</style>\n",
       "<table border=\"1\" class=\"dataframe\">\n",
       "  <thead>\n",
       "    <tr style=\"text-align: right;\">\n",
       "      <th></th>\n",
       "      <th>Age</th>\n",
       "      <th>Fare</th>\n",
       "      <th>Family</th>\n",
       "      <th>Age_mean</th>\n",
       "      <th>Age_median</th>\n",
       "      <th>Fare_mean</th>\n",
       "      <th>Fare_median</th>\n",
       "    </tr>\n",
       "  </thead>\n",
       "  <tbody>\n",
       "    <tr>\n",
       "      <th>Age</th>\n",
       "      <td>204.349513</td>\n",
       "      <td>70.719262</td>\n",
       "      <td>-6.498901</td>\n",
       "      <td>204.349513</td>\n",
       "      <td>204.349513</td>\n",
       "      <td>66.665205</td>\n",
       "      <td>64.858859</td>\n",
       "    </tr>\n",
       "    <tr>\n",
       "      <th>Fare</th>\n",
       "      <td>70.719262</td>\n",
       "      <td>2448.197914</td>\n",
       "      <td>17.258917</td>\n",
       "      <td>55.603719</td>\n",
       "      <td>57.957599</td>\n",
       "      <td>2448.197914</td>\n",
       "      <td>2448.197914</td>\n",
       "    </tr>\n",
       "    <tr>\n",
       "      <th>Family</th>\n",
       "      <td>-6.498901</td>\n",
       "      <td>17.258917</td>\n",
       "      <td>2.735252</td>\n",
       "      <td>-5.146106</td>\n",
       "      <td>-5.112563</td>\n",
       "      <td>16.385048</td>\n",
       "      <td>16.476305</td>\n",
       "    </tr>\n",
       "    <tr>\n",
       "      <th>Age_mean</th>\n",
       "      <td>204.349513</td>\n",
       "      <td>55.603719</td>\n",
       "      <td>-5.146106</td>\n",
       "      <td>161.812625</td>\n",
       "      <td>161.812625</td>\n",
       "      <td>52.788341</td>\n",
       "      <td>51.358000</td>\n",
       "    </tr>\n",
       "    <tr>\n",
       "      <th>Age_median</th>\n",
       "      <td>204.349513</td>\n",
       "      <td>57.957599</td>\n",
       "      <td>-5.112563</td>\n",
       "      <td>161.812625</td>\n",
       "      <td>161.989566</td>\n",
       "      <td>55.023037</td>\n",
       "      <td>53.553455</td>\n",
       "    </tr>\n",
       "    <tr>\n",
       "      <th>Fare_mean</th>\n",
       "      <td>66.665205</td>\n",
       "      <td>2448.197914</td>\n",
       "      <td>16.385048</td>\n",
       "      <td>52.788341</td>\n",
       "      <td>55.023037</td>\n",
       "      <td>2324.238526</td>\n",
       "      <td>2324.238526</td>\n",
       "    </tr>\n",
       "    <tr>\n",
       "      <th>Fare_median</th>\n",
       "      <td>64.858859</td>\n",
       "      <td>2448.197914</td>\n",
       "      <td>16.476305</td>\n",
       "      <td>51.358000</td>\n",
       "      <td>53.553455</td>\n",
       "      <td>2324.238526</td>\n",
       "      <td>2340.091022</td>\n",
       "    </tr>\n",
       "  </tbody>\n",
       "</table>\n",
       "</div>"
      ],
      "text/plain": [
       "                    Age         Fare     Family    Age_mean  Age_median  \\\n",
       "Age          204.349513    70.719262  -6.498901  204.349513  204.349513   \n",
       "Fare          70.719262  2448.197914  17.258917   55.603719   57.957599   \n",
       "Family        -6.498901    17.258917   2.735252   -5.146106   -5.112563   \n",
       "Age_mean     204.349513    55.603719  -5.146106  161.812625  161.812625   \n",
       "Age_median   204.349513    57.957599  -5.112563  161.812625  161.989566   \n",
       "Fare_mean     66.665205  2448.197914  16.385048   52.788341   55.023037   \n",
       "Fare_median   64.858859  2448.197914  16.476305   51.358000   53.553455   \n",
       "\n",
       "               Fare_mean  Fare_median  \n",
       "Age            66.665205    64.858859  \n",
       "Fare         2448.197914  2448.197914  \n",
       "Family         16.385048    16.476305  \n",
       "Age_mean       52.788341    51.358000  \n",
       "Age_median     55.023037    53.553455  \n",
       "Fare_mean    2324.238526  2324.238526  \n",
       "Fare_median  2324.238526  2340.091022  "
      ]
     },
     "execution_count": 15,
     "metadata": {},
     "output_type": "execute_result"
    }
   ],
   "source": [
    "x_train.cov()"
   ]
  },
  {
   "cell_type": "code",
   "execution_count": 16,
   "id": "6e2fb328",
   "metadata": {},
   "outputs": [
    {
     "data": {
      "text/html": [
       "<div>\n",
       "<style scoped>\n",
       "    .dataframe tbody tr th:only-of-type {\n",
       "        vertical-align: middle;\n",
       "    }\n",
       "\n",
       "    .dataframe tbody tr th {\n",
       "        vertical-align: top;\n",
       "    }\n",
       "\n",
       "    .dataframe thead th {\n",
       "        text-align: right;\n",
       "    }\n",
       "</style>\n",
       "<table border=\"1\" class=\"dataframe\">\n",
       "  <thead>\n",
       "    <tr style=\"text-align: right;\">\n",
       "      <th></th>\n",
       "      <th>Age</th>\n",
       "      <th>Fare</th>\n",
       "      <th>Family</th>\n",
       "      <th>Age_mean</th>\n",
       "      <th>Age_median</th>\n",
       "      <th>Fare_mean</th>\n",
       "      <th>Fare_median</th>\n",
       "    </tr>\n",
       "  </thead>\n",
       "  <tbody>\n",
       "    <tr>\n",
       "      <th>Age</th>\n",
       "      <td>1.000000</td>\n",
       "      <td>0.092644</td>\n",
       "      <td>-0.299113</td>\n",
       "      <td>1.000000</td>\n",
       "      <td>1.000000</td>\n",
       "      <td>0.090156</td>\n",
       "      <td>0.087356</td>\n",
       "    </tr>\n",
       "    <tr>\n",
       "      <th>Fare</th>\n",
       "      <td>0.092644</td>\n",
       "      <td>1.000000</td>\n",
       "      <td>0.208268</td>\n",
       "      <td>0.088069</td>\n",
       "      <td>0.091757</td>\n",
       "      <td>1.000000</td>\n",
       "      <td>1.000000</td>\n",
       "    </tr>\n",
       "    <tr>\n",
       "      <th>Family</th>\n",
       "      <td>-0.299113</td>\n",
       "      <td>0.208268</td>\n",
       "      <td>1.000000</td>\n",
       "      <td>-0.244610</td>\n",
       "      <td>-0.242883</td>\n",
       "      <td>0.205499</td>\n",
       "      <td>0.205942</td>\n",
       "    </tr>\n",
       "    <tr>\n",
       "      <th>Age_mean</th>\n",
       "      <td>1.000000</td>\n",
       "      <td>0.088069</td>\n",
       "      <td>-0.244610</td>\n",
       "      <td>1.000000</td>\n",
       "      <td>0.999454</td>\n",
       "      <td>0.086078</td>\n",
       "      <td>0.083461</td>\n",
       "    </tr>\n",
       "    <tr>\n",
       "      <th>Age_median</th>\n",
       "      <td>1.000000</td>\n",
       "      <td>0.091757</td>\n",
       "      <td>-0.242883</td>\n",
       "      <td>0.999454</td>\n",
       "      <td>1.000000</td>\n",
       "      <td>0.089673</td>\n",
       "      <td>0.086982</td>\n",
       "    </tr>\n",
       "    <tr>\n",
       "      <th>Fare_mean</th>\n",
       "      <td>0.090156</td>\n",
       "      <td>1.000000</td>\n",
       "      <td>0.205499</td>\n",
       "      <td>0.086078</td>\n",
       "      <td>0.089673</td>\n",
       "      <td>1.000000</td>\n",
       "      <td>0.996607</td>\n",
       "    </tr>\n",
       "    <tr>\n",
       "      <th>Fare_median</th>\n",
       "      <td>0.087356</td>\n",
       "      <td>1.000000</td>\n",
       "      <td>0.205942</td>\n",
       "      <td>0.083461</td>\n",
       "      <td>0.086982</td>\n",
       "      <td>0.996607</td>\n",
       "      <td>1.000000</td>\n",
       "    </tr>\n",
       "  </tbody>\n",
       "</table>\n",
       "</div>"
      ],
      "text/plain": [
       "                  Age      Fare    Family  Age_mean  Age_median  Fare_mean  \\\n",
       "Age          1.000000  0.092644 -0.299113  1.000000    1.000000   0.090156   \n",
       "Fare         0.092644  1.000000  0.208268  0.088069    0.091757   1.000000   \n",
       "Family      -0.299113  0.208268  1.000000 -0.244610   -0.242883   0.205499   \n",
       "Age_mean     1.000000  0.088069 -0.244610  1.000000    0.999454   0.086078   \n",
       "Age_median   1.000000  0.091757 -0.242883  0.999454    1.000000   0.089673   \n",
       "Fare_mean    0.090156  1.000000  0.205499  0.086078    0.089673   1.000000   \n",
       "Fare_median  0.087356  1.000000  0.205942  0.083461    0.086982   0.996607   \n",
       "\n",
       "             Fare_median  \n",
       "Age             0.087356  \n",
       "Fare            1.000000  \n",
       "Family          0.205942  \n",
       "Age_mean        0.083461  \n",
       "Age_median      0.086982  \n",
       "Fare_mean       0.996607  \n",
       "Fare_median     1.000000  "
      ]
     },
     "execution_count": 16,
     "metadata": {},
     "output_type": "execute_result"
    }
   ],
   "source": [
    "x_train.corr()"
   ]
  },
  {
   "cell_type": "code",
   "execution_count": 17,
   "id": "6dd926a5",
   "metadata": {},
   "outputs": [
    {
     "data": {
      "text/plain": [
       "<Axes: >"
      ]
     },
     "execution_count": 17,
     "metadata": {},
     "output_type": "execute_result"
    },
    {
     "data": {
      "image/png": "[encoded data removed]",
      "text/plain": [
       "<Figure size 432x288 with 1 Axes>"
      ]
     },
     "metadata": {
      "needs_background": "light"
     },
     "output_type": "display_data"
    }
   ],
   "source": [
    "x_train[['Age', 'Age_mean', 'Age_median']].boxplot()"
   ]
  },
  {
   "cell_type": "code",
   "execution_count": 18,
   "id": "24c3e276",
   "metadata": {},
   "outputs": [
    {
     "data": {
      "text/plain": [
       "<Axes: >"
      ]
     },
     "execution_count": 18,
     "metadata": {},
     "output_type": "execute_result"
    },
    {
     "data": {
      "image/png": "[encoded data removed]",
      "text/plain": [
       "<Figure size 432x288 with 1 Axes>"
      ]
     },
     "metadata": {
      "needs_background": "light"
     },
     "output_type": "display_data"
    }
   ],
   "source": [
    "x_train[['Fare', 'Fare_mean', 'Fare_median']].boxplot()"
   ]
  },
  {
   "cell_type": "code",
   "execution_count": null,
   "id": "068bd567",
   "metadata": {},
   "outputs": [],
   "source": []
  },
  {
   "cell_type": "markdown",
   "id": "5b925c12",
   "metadata": {},
   "source": [
    "# -->Fill using sklean\n",
    "using sklearn simple imputer\n",
    "https://scikit-learn.org/stable/modules/generated/sklearn.impute.SimpleImputer.html"
   ]
  },
  {
   "cell_type": "code",
   "execution_count": 19,
   "id": "c974a5fc",
   "metadata": {},
   "outputs": [],
   "source": [
    "x_train, x_test, y_train, y_test = train_test_split(x, y, test_size=0.2, random_state=2)"
   ]
  },
  {
   "cell_type": "code",
   "execution_count": 20,
   "id": "19874e95",
   "metadata": {},
   "outputs": [],
   "source": [
    "imputer1 = SimpleImputer(strategy='median')\n",
    "imputer2 = SimpleImputer(strategy='mean')"
   ]
  },
  {
   "cell_type": "code",
   "execution_count": 21,
   "id": "14941290",
   "metadata": {},
   "outputs": [],
   "source": [
    "# impute mean to Age col and median or fare col\n",
    "trf = ColumnTransformer([\n",
    "    ('imputer1', imputer1, ['Age']),\n",
    "    ('imputer2', imputer2, ['Fare'])\n",
    "    \n",
    "], remainder='passthrough')"
   ]
  },
  {
   "cell_type": "code",
   "execution_count": 22,
   "id": "8e80c5c3",
   "metadata": {},
   "outputs": [
    {
     "data": {
      "text/plain": [
       "ColumnTransformer(remainder='passthrough',\n",
       "                  transformers=[('imputer1', SimpleImputer(strategy='median'),\n",
       "                                 ['Age']),\n",
       "                                ('imputer2', SimpleImputer(), ['Fare'])])"
      ]
     },
     "execution_count": 22,
     "metadata": {},
     "output_type": "execute_result"
    }
   ],
   "source": [
    "trf.fit(x_train)"
   ]
  },
  {
   "cell_type": "code",
   "execution_count": 23,
   "id": "61cd0773",
   "metadata": {},
   "outputs": [
    {
     "data": {
      "text/plain": [
       "array([28.75])"
      ]
     },
     "execution_count": 23,
     "metadata": {},
     "output_type": "execute_result"
    }
   ],
   "source": [
    "trf.named_transformers_['imputer1'].statistics_  #gives mean of age"
   ]
  },
  {
   "cell_type": "code",
   "execution_count": 24,
   "id": "16712697",
   "metadata": {},
   "outputs": [
    {
     "data": {
      "text/plain": [
       "array([32.61759689])"
      ]
     },
     "execution_count": 24,
     "metadata": {},
     "output_type": "execute_result"
    }
   ],
   "source": [
    "trf.named_transformers_['imputer2'].statistics_  #gives median of Fare"
   ]
  },
  {
   "cell_type": "code",
   "execution_count": 25,
   "id": "b46f8eab",
   "metadata": {},
   "outputs": [],
   "source": [
    "x_train = trf.transform(x_train)\n",
    "x_test = trf.transform(x_test)"
   ]
  },
  {
   "cell_type": "code",
   "execution_count": 26,
   "id": "9d7883c0",
   "metadata": {},
   "outputs": [
    {
     "data": {
      "text/plain": [
       "array([[ 40.    ,  27.7208,   0.    ],\n",
       "       [  4.    ,  16.7   ,   2.    ],\n",
       "       [ 47.    ,   9.    ,   0.    ],\n",
       "       ...,\n",
       "       [ 71.    ,  49.5042,   0.    ],\n",
       "       [ 28.75  , 221.7792,   0.    ],\n",
       "       [ 28.75  ,  25.925 ,   0.    ]])"
      ]
     },
     "execution_count": 26,
     "metadata": {},
     "output_type": "execute_result"
    }
   ],
   "source": [
    "x_train"
   ]
  },
  {
   "cell_type": "code",
   "execution_count": null,
   "id": "a7b04dfc",
   "metadata": {},
   "outputs": [],
   "source": []
  },
  {
   "cell_type": "markdown",
   "id": "add08b5f",
   "metadata": {},
   "source": [
    "# filling arbitary values"
   ]
  },
  {
   "cell_type": "code",
   "execution_count": 29,
   "id": "b0dbc17f",
   "metadata": {},
   "outputs": [
    {
     "ename": "IndexError",
     "evalue": "only integers, slices (`:`), ellipsis (`...`), numpy.newaxis (`None`) and integer or boolean arrays are valid indices",
     "output_type": "error",
     "traceback": [
      "\u001b[1;31m---------------------------------------------------------------------------\u001b[0m",
      "\u001b[1;31mIndexError\u001b[0m                                Traceback (most recent call last)",
      "Cell \u001b[1;32mIn[29], line 1\u001b[0m\n\u001b[1;32m----> 1\u001b[0m x_train[\u001b[38;5;124m'\u001b[39m\u001b[38;5;124mAge_99\u001b[39m\u001b[38;5;124m'\u001b[39m] \u001b[38;5;241m=\u001b[39m \u001b[43mx_train\u001b[49m\u001b[43m[\u001b[49m\u001b[38;5;124;43m\"\u001b[39;49m\u001b[38;5;124;43mAge\u001b[39;49m\u001b[38;5;124;43m\"\u001b[39;49m\u001b[43m]\u001b[49m\u001b[38;5;241m.\u001b[39mfillna(\u001b[38;5;241m99\u001b[39m)\n\u001b[0;32m      2\u001b[0m x_train[\u001b[38;5;124m'\u001b[39m\u001b[38;5;124mAge_minus\u001b[39m\u001b[38;5;124m'\u001b[39m] \u001b[38;5;241m=\u001b[39m x_train[\u001b[38;5;124m'\u001b[39m\u001b[38;5;124mAge\u001b[39m\u001b[38;5;124m'\u001b[39m]\u001b[38;5;241m.\u001b[39mfillna(\u001b[38;5;241m-\u001b[39m\u001b[38;5;241m1\u001b[39m)\n\u001b[0;32m      4\u001b[0m x_train[\u001b[38;5;124m'\u001b[39m\u001b[38;5;124mFare_99\u001b[39m\u001b[38;5;124m'\u001b[39m] \u001b[38;5;241m=\u001b[39m x_train[\u001b[38;5;124m'\u001b[39m\u001b[38;5;124mFare\u001b[39m\u001b[38;5;124m'\u001b[39m]\u001b[38;5;241m.\u001b[39mfillna(\u001b[38;5;241m99\u001b[39m)\n",
      "\u001b[1;31mIndexError\u001b[0m: only integers, slices (`:`), ellipsis (`...`), numpy.newaxis (`None`) and integer or boolean arrays are valid indices"
     ]
    }
   ],
   "source": [
    "x_train['Age_99'] = x_train[\"Age\"].fillna(99)\n",
    "x_train['Age_minus'] = x_train['Age'].fillna(-1)\n",
    "\n",
    "x_train['Fare_99'] = x_train['Fare'].fillna(99)\n",
    "x_train['Fare_minus'] = x_train['Fare'].fillna(-1)"
   ]
  },
  {
   "cell_type": "code",
   "execution_count": null,
   "id": "cf1dec7b",
   "metadata": {},
   "outputs": [],
   "source": []
  },
  {
   "cell_type": "code",
   "execution_count": null,
   "id": "471e958c",
   "metadata": {},
   "outputs": [],
   "source": []
  },
  {
   "cell_type": "code",
   "execution_count": null,
   "id": "be1ee2bd",
   "metadata": {},
   "outputs": [],
   "source": []
  },
  {
   "cell_type": "code",
   "execution_count": null,
   "id": "f5517a66",
   "metadata": {},
   "outputs": [],
   "source": []
  },
  {
   "cell_type": "code",
   "execution_count": null,
   "id": "2aec7881",
   "metadata": {},
   "outputs": [],
   "source": []
  },
  {
   "cell_type": "code",
   "execution_count": null,
   "id": "662f1bd6",
   "metadata": {},
   "outputs": [],
   "source": []
  },
  {
   "cell_type": "code",
   "execution_count": null,
   "id": "ef2f0e68",
   "metadata": {},
   "outputs": [],
   "source": []
  },
  {
   "cell_type": "code",
   "execution_count": null,
   "id": "8b58b554",
   "metadata": {},
   "outputs": [],
   "source": []
  },
  {
   "cell_type": "code",
   "execution_count": null,
   "id": "73ec8490",
   "metadata": {},
   "outputs": [],
   "source": []
  },
  {
   "cell_type": "code",
   "execution_count": null,
   "id": "ba2dfb79",
   "metadata": {},
   "outputs": [],
   "source": []
  },
  {
   "cell_type": "code",
   "execution_count": null,
   "id": "df172e94",
   "metadata": {},
   "outputs": [],
   "source": []
  },
  {
   "cell_type": "code",
   "execution_count": null,
   "id": "944d91a3",
   "metadata": {},
   "outputs": [],
   "source": []
  },
  {
   "cell_type": "code",
   "execution_count": null,
   "id": "1f57ea52",
   "metadata": {},
   "outputs": [],
   "source": []
  },
  {
   "cell_type": "code",
   "execution_count": null,
   "id": "18aa8bae",
   "metadata": {},
   "outputs": [],
   "source": []
  },
  {
   "cell_type": "code",
   "execution_count": null,
   "id": "eacbe60f",
   "metadata": {},
   "outputs": [],
   "source": []
  },
  {
   "cell_type": "code",
   "execution_count": null,
   "id": "7b1a29c1",
   "metadata": {},
   "outputs": [],
   "source": []
  },
  {
   "cell_type": "code",
   "execution_count": null,
   "id": "625d3290",
   "metadata": {},
   "outputs": [],
   "source": []
  }
 ],
 "metadata": {
  "kernelspec": {
   "display_name": "Python 3 (ipykernel)",
   "language": "python",
   "name": "python3"
  },
  "language_info": {
   "codemirror_mode": {
    "name": "ipython",
    "version": 3
   },
   "file_extension": ".py",
   "mimetype": "text/x-python",
   "name": "python",
   "nbconvert_exporter": "python",
   "pygments_lexer": "ipython3",
   "version": "3.9.7"
  }
 },
 "nbformat": 4,
 "nbformat_minor": 5
}
