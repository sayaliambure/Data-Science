{
 "cells": [
  {
   "cell_type": "code",
   "execution_count": 1,
   "id": "00229b75",
   "metadata": {},
   "outputs": [],
   "source": [
    "from sklearn.datasets import make_regression\n",
    "import matplotlib.pyplot as plt\n",
    "import numpy as np\n",
    "from sklearn.model_selection import cross_val_score"
   ]
  },
  {
   "cell_type": "code",
   "execution_count": 2,
   "id": "5acc6182",
   "metadata": {},
   "outputs": [
    {
     "data": {
      "text/plain": [
       "<matplotlib.collections.PathCollection at 0x1bddc697580>"
      ]
     },
     "execution_count": 2,
     "metadata": {},
     "output_type": "execute_result"
    },
    {
     "data": {
      "image/png": "[encoded data removed]",
      "text/plain": [
       "<Figure size 432x288 with 1 Axes>"
      ]
     },
     "metadata": {
      "needs_background": "light"
     },
     "output_type": "display_data"
    }
   ],
   "source": [
    "X,y = make_regression(n_samples=100, n_features=1, n_informative=1, n_targets=1,noise=20,random_state=13)\n",
    "plt.scatter(X,y)"
   ]
  },
  {
   "cell_type": "code",
   "execution_count": 3,
   "id": "1483c866",
   "metadata": {},
   "outputs": [
    {
     "name": "stdout",
     "output_type": "stream",
     "text": [
      "[28.12597332]\n",
      "-2.2710144261783825\n"
     ]
    }
   ],
   "source": [
    "# apply actual linear regression from sklearn to fetch actual results\n",
    "from sklearn.model_selection import train_test_split\n",
    "X_train,X_test,y_train,y_test = train_test_split(X,y,test_size=0.2,random_state=2)\n",
    "\n",
    "from sklearn.linear_model import LinearRegression\n",
    "lr = LinearRegression()\n",
    "lr.fit(X_train,y_train)\n",
    "print(lr.coef_)\n",
    "print(lr.intercept_)"
   ]
  },
  {
   "cell_type": "code",
   "execution_count": null,
   "id": "4abff2b6",
   "metadata": {},
   "outputs": [],
   "source": [
    "m = 28.12"
   ]
  },
  {
   "cell_type": "code",
   "execution_count": 4,
   "id": "a3c9e3cf",
   "metadata": {},
   "outputs": [
    {
     "data": {
      "text/plain": [
       "0.6345158782661012"
      ]
     },
     "execution_count": 4,
     "metadata": {},
     "output_type": "execute_result"
    }
   ],
   "source": [
    "y_pred = lr.predict(X_test)\n",
    "from sklearn.metrics import r2_score\n",
    "r2_score(y_test,y_pred)"
   ]
  },
  {
   "cell_type": "markdown",
   "id": "73610a36",
   "metadata": {},
   "source": [
    "## for single variable"
   ]
  },
  {
   "cell_type": "code",
   "execution_count": 21,
   "id": "60107cc7",
   "metadata": {},
   "outputs": [],
   "source": [
    "class GDRegressor:\n",
    "    \n",
    "    def __init__(self,learning_rate,epochs):\n",
    "        self.m = 28.12\n",
    "        self.b = -120\n",
    "        self.lr = learning_rate\n",
    "        self.epochs = epochs\n",
    "        \n",
    "    def fit(self,X,y):\n",
    "        # calcualte the b using GD\n",
    "        for i in range(self.epochs):\n",
    "            loss_slope = -2 * np.sum(y - self.m*X.ravel() - self.b)\n",
    "            self.b = self.b - (self.lr * loss_slope)\n",
    "            print(loss_slope, self.b)\n",
    "        print(self.b)\n",
    "        \n",
    "    def predict(self,X):\n",
    "        return self.m * X + self.b\n",
    "    \n"
   ]
  },
  {
   "cell_type": "code",
   "execution_count": 23,
   "id": "6d14438e",
   "metadata": {
    "collapsed": true
   },
   "outputs": [
    {
     "name": "stdout",
     "output_type": "stream",
     "text": [
      "-23537.64116001603 115.37641160016031\n",
      "23537.64116001603 -120.0\n",
      "-23537.64116001603 115.37641160016031\n",
      "23537.64116001603 -120.0\n",
      "-23537.64116001603 115.37641160016031\n",
      "23537.64116001603 -120.0\n",
      "-23537.64116001603 115.37641160016031\n",
      "23537.64116001603 -120.0\n",
      "-23537.64116001603 115.37641160016031\n",
      "23537.64116001603 -120.0\n",
      "-120.0\n"
     ]
    }
   ],
   "source": [
    "gd = GDRegressor(0.01,10)\n",
    "gd.fit(X, y)\n",
    "# it is stuck in the same loop here\n",
    "# sol - increase epoch, decrease lr"
   ]
  },
  {
   "cell_type": "code",
   "execution_count": 22,
   "id": "f9db5050",
   "metadata": {
    "collapsed": true
   },
   "outputs": [
    {
     "name": "stdout",
     "output_type": "stream",
     "text": [
      "-23537.64116001603 -96.46235883998396\n",
      "-18830.11292801282 -77.63224591197114\n",
      "-15064.090342410256 -62.568155569560886\n",
      "-12051.272273928204 -50.51688329563268\n",
      "-9641.017819142568 -40.87586547649011\n",
      "-7712.814255314051 -33.16305122117606\n",
      "-6170.251404251242 -26.99279981692482\n",
      "-4936.201123400993 -22.056598693523824\n",
      "-3948.9608987207935 -18.107637794803033\n",
      "-3159.168718976635 -14.948469075826399\n",
      "-2527.3349751813084 -12.42113410064509\n",
      "-2021.8679801450467 -10.399266120500045\n",
      "-1617.4943841160375 -8.781771736384007\n",
      "-1293.99550729283 -7.4877762290911765\n",
      "-1035.1964058342637 -6.4525798232569125\n",
      "-828.157124667411 -5.624422698589502\n",
      "-662.5256997339287 -4.961896998855573\n",
      "-530.0205597871429 -4.4318764390684295\n",
      "-424.01644782971437 -4.007859991238715\n",
      "-339.2131582637714 -3.6686468329749435\n",
      "-271.37052661101717 -3.3972763063639264\n",
      "-217.09642128881381 -3.1801798850751126\n",
      "-173.677137031051 -3.0065027480440616\n",
      "-138.94170962484083 -2.867561038419221\n",
      "-111.15336769987276 -2.7564076707193483\n",
      "-88.92269415989811 -2.66748497655945\n",
      "-71.13815532791858 -2.5963468212315317\n",
      "-56.910524262334796 -2.539436296969197\n",
      "-45.52841940986784 -2.4939078775593293\n",
      "-36.422735527894424 -2.4574851420314348\n",
      "-29.138188422315324 -2.4283469536091196\n",
      "-23.310550737852424 -2.405036402871267\n",
      "-18.648440590281957 -2.386387962280985\n",
      "-14.918752472225457 -2.3714692098087595\n",
      "-11.935001977780324 -2.359534207830979\n",
      "-9.548001582224288 -2.349986206248755\n",
      "-7.638401265779464 -2.3423478049829756\n",
      "-6.1107210126235145 -2.336237083970352\n",
      "-4.888576810098989 -2.331348507160253\n",
      "-3.9108614480791175 -2.327437645712174\n",
      "-3.128689158463253 -2.3243089565537107\n",
      "-2.502951326770642 -2.3218060052269403\n",
      "-2.0023610614164724 -2.319803644165524\n",
      "-1.6018888491333385 -2.3182017553163905\n",
      "-1.281511079306597 -2.316920244237084\n",
      "-1.0252088634453287 -2.3158950353736385\n",
      "-0.8201670907562288 -2.315074868282882\n",
      "-0.6561336726047671 -2.3144187346102774\n",
      "-0.5249069380840368 -2.313893827672193\n",
      "-0.419925550466985 -2.3134739021217263\n",
      "-0.3359404403737898 -2.3131379616813526\n",
      "-0.268752352298975 -2.3128692093290537\n",
      "-0.21500188183929936 -2.3126542074472143\n",
      "-0.17200150547120074 -2.312482205941743\n",
      "-0.1376012043770345 -2.312344604737366\n",
      "-0.11008096350155938 -2.3122345237738644\n",
      "-0.08806477080128161 -2.312146459003063\n",
      "-0.07045181664108213 -2.312076007186422\n",
      "-0.056361453312916865 -2.312019645733109\n",
      "-0.04508916265030649 -2.311974556570459\n",
      "-0.03607133012025088 -2.3119384852403386\n",
      "-0.028857064096321494 -2.311909628176242\n",
      "-0.0230856512768014 -2.3118865425249653\n",
      "-0.01846852102165286 -2.3118680740039435\n",
      "-0.014774816817066494 -2.3118532991871263\n",
      "-0.011819853453864937 -2.3118414793336726\n",
      "-0.009455882762985368 -2.3118320234509095\n",
      "-0.007564706210459349 -2.311824458744699\n",
      "-0.006051764968219686 -2.311818406979731\n",
      "-0.004841411974787491 -2.311813565567756\n",
      "-0.0038731295797447274 -2.3118096924381764\n",
      "-0.0030985036637218855 -2.3118065939345125\n",
      "-0.0024788029310300885 -2.3118041151315816\n",
      "-0.001983042344846808 -2.3118021320892366\n",
      "-0.0015864338758433405 -2.3118005456553608\n",
      "-0.001269147100600776 -2.31179927650826\n",
      "-0.001015317680533201 -2.3117982611905794\n",
      "-0.0008122541442929787 -2.311797448936435\n",
      "-0.000649803315468489 -2.3117967991331194\n",
      "-0.0005198426524160027 -2.311796279290467\n",
      "-0.0004158741217992201 -2.311795863416345\n",
      "-0.000332699297587169 -2.3117955307170477\n",
      "-0.00026615943816210574 -2.3117952645576096\n",
      "-0.00021292755040036582 -2.3117950516300594\n",
      "-0.0001703420404339795 -2.311794881288019\n",
      "-0.0001362736322789715 -2.3117947450143865\n",
      "-0.00010901890571801687 -2.3117946359954806\n",
      "-8.721512465115211e-05 -2.311794548780356\n",
      "-6.977209962855113e-05 -2.3117944790082565\n",
      "-5.581767975826324e-05 -2.3117944231905767\n",
      "-4.465414388477029e-05 -2.3117943785364328\n",
      "-3.572331508649995e-05 -2.311794342813118\n",
      "-2.857865209193733e-05 -2.311794314234466\n",
      "-2.2862921525756974e-05 -2.3117942913715446\n",
      "-1.8290337379767152e-05 -2.3117942730812073\n",
      "-1.4632270023184901e-05 -2.3117942584489373\n",
      "-1.1705815950335818e-05 -2.3117942467431214\n",
      "-9.364652811427732e-06 -2.311794237378469\n",
      "-7.491722101349296e-06 -2.311794229886747\n",
      "-5.99337784024101e-06 -2.311794223893369\n",
      "-2.311794223893369\n"
     ]
    }
   ],
   "source": [
    "gd = GDRegressor(0.001,100)\n",
    "gd.fit(X, y)"
   ]
  },
  {
   "cell_type": "markdown",
   "id": "7832411f",
   "metadata": {},
   "source": [
    "## for 2 variables"
   ]
  },
  {
   "cell_type": "code",
   "execution_count": 5,
   "id": "9de0bd12",
   "metadata": {},
   "outputs": [],
   "source": [
    "class GDRegressor:\n",
    "    \n",
    "    def __init__(self,learning_rate,epochs):\n",
    "        self.m = 100\n",
    "        self.b = -120\n",
    "        self.lr = learning_rate\n",
    "        self.epochs = epochs\n",
    "        \n",
    "    def fit(self,X,y):\n",
    "        # calcualte the b using GD\n",
    "        for i in range(self.epochs):\n",
    "            loss_slope_b = -2 * np.sum(y - self.m*X.ravel() - self.b)\n",
    "            loss_slope_m = -2 * np.sum((y - self.m*X.ravel() - self.b)*X.ravel())\n",
    "            \n",
    "            self.b = self.b - (self.lr * loss_slope_b)\n",
    "            self.m = self.m - (self.lr * loss_slope_m)\n",
    "        print(self.m,self.b)\n",
    "        \n",
    "    def predict(self,X):\n",
    "        return self.m * X + self.b\n",
    "    \n"
   ]
  },
  {
   "cell_type": "code",
   "execution_count": 6,
   "id": "bd66ccf5",
   "metadata": {},
   "outputs": [
    {
     "name": "stdout",
     "output_type": "stream",
     "text": [
      "28.159367347119066 -2.3004574196824854\n"
     ]
    }
   ],
   "source": [
    "gd = GDRegressor(0.001,50)  # can do this in 50 epochs instead of 100\n",
    "gd.fit(X_train,y_train)"
   ]
  },
  {
   "cell_type": "code",
   "execution_count": 25,
   "id": "78d98003",
   "metadata": {
    "collapsed": true
   },
   "outputs": [
    {
     "data": {
      "text/plain": [
       "array([[-140.03242542],\n",
       "       [-132.29253584],\n",
       "       [-132.75951696],\n",
       "       [ -93.20640322],\n",
       "       [-113.31143759],\n",
       "       [ -95.78273616],\n",
       "       [-126.8423342 ],\n",
       "       [-114.79931987],\n",
       "       [-140.27451082],\n",
       "       [-132.08870594],\n",
       "       [ -63.3319904 ],\n",
       "       [-108.8295739 ],\n",
       "       [-114.1566625 ],\n",
       "       [-126.53581552],\n",
       "       [-141.61379182],\n",
       "       [-107.2571798 ],\n",
       "       [-102.00646267],\n",
       "       [-109.88995185],\n",
       "       [-165.41683593],\n",
       "       [ -70.81132086],\n",
       "       [-142.18637138],\n",
       "       [-134.39645845],\n",
       "       [-146.10478655],\n",
       "       [ -59.53123096],\n",
       "       [-125.83067352],\n",
       "       [-166.09130672],\n",
       "       [-129.52194531],\n",
       "       [-129.05811723],\n",
       "       [-133.53616421],\n",
       "       [-134.71137772],\n",
       "       [ -99.69834259],\n",
       "       [ -98.4625813 ],\n",
       "       [-107.24811315],\n",
       "       [-155.47635918],\n",
       "       [-181.50168148],\n",
       "       [-153.33397691],\n",
       "       [-113.88525934],\n",
       "       [ -82.59148811],\n",
       "       [-150.57154633],\n",
       "       [-104.18920083],\n",
       "       [-162.54120464],\n",
       "       [-120.0671794 ],\n",
       "       [-127.8211426 ],\n",
       "       [-107.29503703],\n",
       "       [ -86.51736774],\n",
       "       [ -94.06368255],\n",
       "       [ -97.08232814],\n",
       "       [-137.46194923],\n",
       "       [ -94.30561138],\n",
       "       [ -87.9900747 ],\n",
       "       [ -78.41935706],\n",
       "       [-138.30770819],\n",
       "       [-130.57086931],\n",
       "       [-141.78344013],\n",
       "       [-105.90801927],\n",
       "       [ -82.03271626],\n",
       "       [ -99.49586696],\n",
       "       [-122.29604176],\n",
       "       [-144.01849985],\n",
       "       [-106.90569783],\n",
       "       [-121.25142656],\n",
       "       [-121.61781075],\n",
       "       [ -66.77608881],\n",
       "       [-149.39600491],\n",
       "       [-104.12192142],\n",
       "       [-174.10736371],\n",
       "       [-141.48463523],\n",
       "       [-116.42023176],\n",
       "       [-120.7528188 ],\n",
       "       [-124.08334267],\n",
       "       [-104.1727484 ],\n",
       "       [-111.07609205],\n",
       "       [-100.00738877],\n",
       "       [ -98.80408943],\n",
       "       [-130.40766412],\n",
       "       [ -82.17573996],\n",
       "       [-105.03065858],\n",
       "       [-147.67460118],\n",
       "       [ -82.02939539],\n",
       "       [-129.74658287],\n",
       "       [-105.53707259],\n",
       "       [-117.15229363],\n",
       "       [-138.48938557],\n",
       "       [ -96.6349329 ],\n",
       "       [-128.9215191 ],\n",
       "       [-147.56531384],\n",
       "       [ -80.65341562],\n",
       "       [-104.59253713],\n",
       "       [-134.9128067 ],\n",
       "       [-106.19668407],\n",
       "       [-110.1931333 ],\n",
       "       [ -62.2501462 ],\n",
       "       [-102.95116297],\n",
       "       [-130.8109501 ],\n",
       "       [-174.70438596],\n",
       "       [-128.8538091 ],\n",
       "       [ -67.98889464],\n",
       "       [-151.50865322],\n",
       "       [-129.3548428 ],\n",
       "       [-141.2995847 ]])"
      ]
     },
     "execution_count": 25,
     "metadata": {},
     "output_type": "execute_result"
    }
   ],
   "source": [
    "gd.predict(X)"
   ]
  },
  {
   "cell_type": "code",
   "execution_count": 7,
   "id": "202c17c9",
   "metadata": {},
   "outputs": [
    {
     "data": {
      "text/plain": [
       "0.6343842836315579"
      ]
     },
     "execution_count": 7,
     "metadata": {},
     "output_type": "execute_result"
    }
   ],
   "source": [
    "y_pred = gd.predict(X_test)\n",
    "from sklearn.metrics import r2_score\n",
    "r2_score(y_test,y_pred)"
   ]
  },
  {
   "cell_type": "code",
   "execution_count": null,
   "id": "6f8ea4d1",
   "metadata": {},
   "outputs": [],
   "source": []
  },
  {
   "cell_type": "code",
   "execution_count": null,
   "id": "231e668b",
   "metadata": {},
   "outputs": [],
   "source": []
  },
  {
   "cell_type": "code",
   "execution_count": null,
   "id": "24e6c511",
   "metadata": {},
   "outputs": [],
   "source": []
  },
  {
   "cell_type": "code",
   "execution_count": null,
   "id": "e550ed8c",
   "metadata": {},
   "outputs": [],
   "source": []
  },
  {
   "cell_type": "code",
   "execution_count": null,
   "id": "b51e4853",
   "metadata": {},
   "outputs": [],
   "source": []
  }
 ],
 "metadata": {
  "kernelspec": {
   "display_name": "Python 3 (ipykernel)",
   "language": "python",
   "name": "python3"
  },
  "language_info": {
   "codemirror_mode": {
    "name": "ipython",
    "version": 3
   },
   "file_extension": ".py",
   "mimetype": "text/x-python",
   "name": "python",
   "nbconvert_exporter": "python",
   "pygments_lexer": "ipython3",
   "version": "3.9.7"
  }
 },
 "nbformat": 4,
 "nbformat_minor": 5
}
