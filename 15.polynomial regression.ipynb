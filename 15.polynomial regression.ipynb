{
 "cells": [
  {
   "cell_type": "code",
   "execution_count": 1,
   "id": "f435ba41",
   "metadata": {},
   "outputs": [],
   "source": [
    "import numpy as np\n",
    "import matplotlib.pyplot as plt\n",
    "from sklearn.model_selection import train_test_split\n",
    "from sklearn.linear_model import LinearRegression,SGDRegressor\n",
    "from sklearn.preprocessing import PolynomialFeatures,StandardScaler\n",
    "from sklearn.metrics import r2_score\n",
    "from sklearn.pipeline import Pipeline"
   ]
  },
  {
   "cell_type": "code",
   "execution_count": 2,
   "id": "b5caf9e7",
   "metadata": {},
   "outputs": [],
   "source": [
    "X = 6 * np.random.rand(200, 1) - 3\n",
    "y = 0.8 * X**2 + 0.9 * X + 2 + np.random.randn(200, 1)\n",
    "# np.random.randn- random noise"
   ]
  },
  {
   "cell_type": "code",
   "execution_count": 3,
   "id": "8948ec4e",
   "metadata": {},
   "outputs": [
    {
     "data": {
      "image/png": "[encoded data removed]",
      "text/plain": [
       "<Figure size 432x288 with 1 Axes>"
      ]
     },
     "metadata": {
      "needs_background": "light"
     },
     "output_type": "display_data"
    }
   ],
   "source": [
    "# y = 0.8x^2 + 0.9x + 2\n",
    "plt.plot(X, y,'b.')\n",
    "plt.xlabel(\"X\")\n",
    "plt.ylabel(\"y\")\n",
    "plt.show()"
   ]
  },
  {
   "cell_type": "code",
   "execution_count": 4,
   "id": "37f369bc",
   "metadata": {},
   "outputs": [],
   "source": [
    "# Train test split\n",
    "X_train,X_test,y_train,y_test = train_test_split(X,y,test_size=0.2,random_state=2)"
   ]
  },
  {
   "cell_type": "code",
   "execution_count": 5,
   "id": "3856380a",
   "metadata": {},
   "outputs": [
    {
     "data": {
      "text/plain": [
       "LinearRegression()"
      ]
     },
     "execution_count": 5,
     "metadata": {},
     "output_type": "execute_result"
    }
   ],
   "source": [
    "# Applying linear regression\n",
    "lr = LinearRegression()\n",
    "lr.fit(X_train,y_train)"
   ]
  },
  {
   "cell_type": "code",
   "execution_count": 7,
   "id": "30ecfb1f",
   "metadata": {},
   "outputs": [
    {
     "data": {
      "text/plain": [
       "0.258394336340694"
      ]
     },
     "execution_count": 7,
     "metadata": {},
     "output_type": "execute_result"
    }
   ],
   "source": [
    "y_pred = lr.predict(X_test)\n",
    "r2_score(y_test,y_pred)"
   ]
  },
  {
   "cell_type": "code",
   "execution_count": 8,
   "id": "a6b13de9",
   "metadata": {},
   "outputs": [
    {
     "data": {
      "image/png": "[encoded data removed]",
      "text/plain": [
       "<Figure size 432x288 with 1 Axes>"
      ]
     },
     "metadata": {
      "needs_background": "light"
     },
     "output_type": "display_data"
    }
   ],
   "source": [
    "plt.plot(X_train,lr.predict(X_train),color='r')\n",
    "plt.plot(X, y, \"b.\")\n",
    "plt.xlabel(\"X\")\n",
    "plt.ylabel(\"y\")\n",
    "plt.show()"
   ]
  },
  {
   "cell_type": "code",
   "execution_count": null,
   "id": "bbbe3cb9",
   "metadata": {},
   "outputs": [],
   "source": []
  },
  {
   "cell_type": "code",
   "execution_count": 9,
   "id": "0502858a",
   "metadata": {},
   "outputs": [],
   "source": [
    "# Applying Polynomial Linear Regression\n",
    "# degree 2\n",
    "poly = PolynomialFeatures(degree=2,include_bias=True)\n",
    "# bias - x^0\n",
    "\n",
    "X_train_trans = poly.fit_transform(X_train)\n",
    "X_test_trans = poly.transform(X_test)"
   ]
  },
  {
   "cell_type": "code",
   "execution_count": 10,
   "id": "86577cd1",
   "metadata": {},
   "outputs": [
    {
     "name": "stdout",
     "output_type": "stream",
     "text": [
      "[-0.34910631]\n",
      "[ 1.         -0.34910631  0.12187522]\n"
     ]
    }
   ],
   "source": [
    "print(X_train[0])         #x\n",
    "print(X_train_trans[0])    #x^0, x^1, x^2"
   ]
  },
  {
   "cell_type": "code",
   "execution_count": 11,
   "id": "faa51678",
   "metadata": {},
   "outputs": [
    {
     "data": {
      "text/plain": [
       "LinearRegression()"
      ]
     },
     "execution_count": 11,
     "metadata": {},
     "output_type": "execute_result"
    }
   ],
   "source": [
    "lr = LinearRegression()\n",
    "lr.fit(X_train_trans,y_train)"
   ]
  },
  {
   "cell_type": "code",
   "execution_count": 12,
   "id": "06cca253",
   "metadata": {},
   "outputs": [],
   "source": [
    "y_pred = lr.predict(X_test_trans)"
   ]
  },
  {
   "cell_type": "code",
   "execution_count": 14,
   "id": "e9889f14",
   "metadata": {},
   "outputs": [
    {
     "data": {
      "text/plain": [
       "0.8832605295571335"
      ]
     },
     "execution_count": 14,
     "metadata": {},
     "output_type": "execute_result"
    }
   ],
   "source": [
    "r2_score(y_test,y_pred)"
   ]
  },
  {
   "cell_type": "code",
   "execution_count": 15,
   "id": "1eda8217",
   "metadata": {},
   "outputs": [
    {
     "name": "stdout",
     "output_type": "stream",
     "text": [
      "[[0.         0.89271083 0.78748892]]\n",
      "[2.04702456]\n"
     ]
    }
   ],
   "source": [
    "print(lr.coef_)           #x^0, x^1, x^2\n",
    "print(lr.intercept_)      #b0"
   ]
  },
  {
   "cell_type": "code",
   "execution_count": 16,
   "id": "9b3dee8c",
   "metadata": {},
   "outputs": [],
   "source": [
    "X_new=np.linspace(-3, 3, 200).reshape(200, 1)\n",
    "X_new_poly = poly.transform(X_new)\n",
    "y_new = lr.predict(X_new_poly)"
   ]
  },
  {
   "cell_type": "code",
   "execution_count": 17,
   "id": "daee5c5f",
   "metadata": {},
   "outputs": [
    {
     "data": {
      "image/png": "[encoded data removed]",
      "text/plain": [
       "<Figure size 432x288 with 1 Axes>"
      ]
     },
     "metadata": {
      "needs_background": "light"
     },
     "output_type": "display_data"
    }
   ],
   "source": [
    "plt.plot(X_new, y_new, \"r-\", linewidth=2, label=\"Predictions\")\n",
    "plt.plot(X_train, y_train, \"b.\",label='Training points')\n",
    "plt.plot(X_test, y_test, \"g.\",label='Testing points')\n",
    "plt.xlabel(\"X\")\n",
    "plt.ylabel(\"y\")\n",
    "plt.legend()\n",
    "plt.show()\n"
   ]
  },
  {
   "cell_type": "code",
   "execution_count": null,
   "id": "2fc5bc50",
   "metadata": {},
   "outputs": [],
   "source": []
  },
  {
   "cell_type": "code",
   "execution_count": 18,
   "id": "b898c487",
   "metadata": {},
   "outputs": [],
   "source": [
    "# function to plot graph for a equation for a given degree\n",
    "\n",
    "def polynomial_regression(degree):\n",
    "    X_new=np.linspace(-3, 3, 100).reshape(100, 1)\n",
    "    X_new_poly = poly.transform(X_new)\n",
    "\n",
    "    polybig_features = PolynomialFeatures(degree=degree, include_bias=False)\n",
    "    std_scaler = StandardScaler()\n",
    "    lin_reg = LinearRegression()\n",
    "    #to assemble several steps that can be cross-validated together while setting different parameters\n",
    "    polynomial_regression = Pipeline([\n",
    "            (\"poly_features\", polybig_features),\n",
    "            (\"std_scaler\", std_scaler),\n",
    "            (\"lin_reg\", lin_reg),\n",
    "        ])\n",
    "    polynomial_regression.fit(X, y)\n",
    "    y_newbig = polynomial_regression.predict(X_new)\n",
    "    plt.plot(X_new, y_newbig,'r', label=\"Degree \" + str(degree), linewidth=2)\n",
    "\n",
    "    plt.plot(X_train, y_train, \"b.\", linewidth=3)\n",
    "    plt.plot(X_test, y_test, \"g.\", linewidth=3)\n",
    "    plt.legend(loc=\"upper left\")\n",
    "    plt.xlabel(\"X\")\n",
    "    plt.ylabel(\"y\")\n",
    "    plt.axis([-3, 3, 0, 10])\n",
    "    plt.show()"
   ]
  },
  {
   "cell_type": "code",
   "execution_count": 28,
   "id": "c5e79fd3",
   "metadata": {},
   "outputs": [
    {
     "data": {
      "image/png": "[encoded data removed]",
      "text/plain": [
       "<Figure size 432x288 with 1 Axes>"
      ]
     },
     "metadata": {
      "needs_background": "light"
     },
     "output_type": "display_data"
    }
   ],
   "source": [
    "polynomial_regression(6)"
   ]
  },
  {
   "cell_type": "code",
   "execution_count": 22,
   "id": "d0962700",
   "metadata": {},
   "outputs": [
    {
     "data": {
      "image/png": "[encoded data removed]",
      "text/plain": [
       "<Figure size 432x288 with 1 Axes>"
      ]
     },
     "metadata": {
      "needs_background": "light"
     },
     "output_type": "display_data"
    }
   ],
   "source": [
    "polynomial_regression(45)\n",
    "# overfitting, model performs well/ converges on training data\n",
    "# and not perform well on testing data"
   ]
  },
  {
   "cell_type": "code",
   "execution_count": null,
   "id": "97b191da",
   "metadata": {},
   "outputs": [],
   "source": []
  },
  {
   "cell_type": "code",
   "execution_count": null,
   "id": "6cce8f44",
   "metadata": {},
   "outputs": [],
   "source": []
  },
  {
   "cell_type": "code",
   "execution_count": 30,
   "id": "d2a6324d",
   "metadata": {},
   "outputs": [],
   "source": [
    "# 3D polynomial regression\n",
    "x = 7 * np.random.rand(100, 1) - 2.8\n",
    "y = 7 * np.random.rand(100, 1) - 2.8\n",
    "\n",
    "z = x**2 + y**2 + 0.2*x + 0.2*y + 0.1*x*y +2 + np.random.randn(100, 1)\n",
    "# z = x^2 + y^2 + 0.2x + 0.2y + 0.1xy + 2"
   ]
  },
  {
   "cell_type": "code",
   "execution_count": 37,
   "id": "229577eb",
   "metadata": {},
   "outputs": [
    {
     "data": {
      "application/vnd.plotly.v1+json": {
       "config": {
        "plotlyServerURL": "https://plot.ly"
       },
       "data": [
        {
         "hovertemplate": "x=%{x}<br>y=%{y}<br>z=%{z}<extra></extra>",
         "legendgroup": "",
         "marker": {
          "color": "#636efa",
          "symbol": "circle"
         },
         "mode": "markers",
         "name": "",
         "scene": "scene",
         "showlegend": false,
         "type": "scatter3d",
         "x": [
          -0.6889048084719964,
          0.7330244009067299,
          2.471038286409753,
          -0.192704657339136,
          4.163111453715713,
          -0.9767831602311421,
          2.6443192989999664,
          3.994516133334929,
          1.6016472634194514,
          1.5873027227767649,
          -1.3316770649481797,
          3.204290817532164,
          1.9895840184036029,
          -1.2915276539987621,
          -0.9297489035707711,
          -0.14333666222137387,
          3.013390663257262,
          4.117909882085669,
          -1.8481449171992548,
          3.9148199261457357,
          3.219978769405257,
          1.086621525936999,
          -2.7952941459247715,
          -0.5109213697028681,
          -0.549445022833309,
          3.143590032164167,
          3.4757520126554597,
          3.94574878700678,
          3.2966868687708093,
          0.42287749073814496,
          -1.5653030737522158,
          0.5900897939165182,
          3.9308694635475723,
          1.3006083486899405,
          1.1008248242860934,
          -0.6841080340767336,
          3.29259225992229,
          1.3806167327223147,
          1.3434641361614919,
          1.557517312389746,
          -0.8146045435357725,
          -2.0234570035122057,
          3.309369212372909,
          1.815278532566456,
          -1.0242238330015851,
          2.875532762499679,
          0.08940707150009253,
          3.5252102805845675,
          2.492928893849772,
          -2.3002518957596494,
          -0.7145866129380525,
          -1.66074780337939,
          1.539229647615886,
          2.7732109495866943,
          -1.807656216698755,
          0.3669712239484717,
          -2.2158092468770563,
          2.384531798353544,
          1.4577357966017326,
          0.7022141508023663,
          -0.8832235580952765,
          1.2113227498113517,
          1.439693848417245,
          -0.153033141614209,
          2.5962222729850373,
          1.7177218663091969,
          -1.3242706599182248,
          2.7539655414766324,
          3.432390011267702,
          3.731248482155811,
          3.48250286444478,
          -0.852920647567611,
          1.5294864053116823,
          -0.9907758585520512,
          3.0574243883306114,
          -1.2329655297992135,
          1.4141189583518718,
          1.680005650834949,
          -1.2956991613597362,
          -2.4881077368417297,
          -0.4182120040927755,
          -1.2271428900850054,
          2.3282357730110412,
          -1.746296437273364,
          2.7403657045172514,
          -1.1007905719149496,
          -1.5537651866432038,
          2.3911985738769355,
          -2.1497467935972567,
          -2.423398835010486,
          2.556644270715278,
          -0.13870696498754587,
          2.218552968085576,
          -0.9959790271970728,
          3.4632133995893355,
          0.2451561845164716,
          2.3960349379179524,
          -1.032522331392316,
          -1.5764176384618023,
          1.8644484190613353
         ],
         "y": [
          0.08341301179471916,
          3.5818270377900996,
          -1.9006407590301044,
          -1.8894083411828304,
          1.7540457080017529,
          0.9120460590089663,
          1.3208072672751774,
          2.456495750655354,
          -1.2933848511270594,
          -0.9024600030663001,
          0.15077361672628964,
          0.23328057705299932,
          3.862622308672771,
          -2.1801160257531333,
          1.47740723129143,
          0.9075190448068371,
          -0.6633866199746921,
          2.7247087999839286,
          -2.070158631504306,
          0.5916388744583934,
          -1.2631655490995213,
          -0.7566881116287045,
          0.9360336688786228,
          -2.0830019888468914,
          -2.5609090124281106,
          -1.235426315649788,
          3.6286306552910483,
          -0.9006913857589858,
          -0.8700038887685859,
          3.4106308784269626,
          1.1548941946206157,
          2.216124036763425,
          0.4232655278718944,
          -1.3177151607561204,
          4.105412699701464,
          1.4803486658783838,
          -0.0747674628897701,
          -0.7412322751249629,
          -1.4013364640156278,
          3.789803648998105,
          -2.3587016374549474,
          3.153956008535574,
          -0.18509572048000278,
          -2.161509881719832,
          3.1316894164107634,
          4.128318628914099,
          0.34973470566377873,
          3.0256975896803437,
          2.988332015425204,
          2.1130336958696017,
          -1.1914092345566256,
          1.3266746812149863,
          0.5860456305015633,
          -1.1146052138538263,
          2.3686962901375184,
          3.486204802286454,
          3.6369085558637115,
          3.959852886048729,
          -2.6847549784844214,
          2.4144360116838044,
          3.258959039468902,
          -2.4276462865981085,
          0.39708877364543804,
          -1.9309791018470663,
          -1.3768696738111732,
          -0.2758961488137106,
          2.552845831735759,
          3.315161767151804,
          2.3876666225039838,
          -0.7388058757330467,
          4.194057749507425,
          -2.393087719516738,
          -1.6231044195700082,
          -1.5875319573842166,
          4.076028278896524,
          -1.896074361784637,
          4.149993052366452,
          1.5448059707878272,
          3.484512392422027,
          1.400101961562525,
          0.09648048616703209,
          -0.6021370131969204,
          -0.7911303711437352,
          -2.6078882188815777,
          3.0241886585613686,
          0.4953704220007076,
          3.8371998597683517,
          2.3082750836814583,
          1.4477099479399165,
          -0.13897617234179194,
          1.1217691171964184,
          1.8441485166442932,
          3.5437008964747747,
          -0.2200092436875094,
          2.636483074906729,
          2.494506612811276,
          2.9735838300847286,
          2.9208452166861587,
          2.544047136974336,
          -1.0803039150102671
         ],
         "z": [
          3.5514207361866745,
          15.656226724691972,
          11.95142388953213,
          4.074442052819532,
          24.80889297982059,
          3.028625152531317,
          12.223301935161762,
          26.36000281081346,
          5.382512170705803,
          5.626979899441302,
          3.801215965164896,
          12.057603358669748,
          24.439071771597966,
          8.38100559976195,
          3.9490145128056717,
          3.4771418979924746,
          12.126324363732481,
          29.18082056306928,
          7.663217715954353,
          19.021033619079155,
          14.749761676568301,
          3.0391995490266637,
          10.671464792166013,
          6.457609096739157,
          9.236760360048164,
          12.540401322391785,
          32.27598293368252,
          17.071289493059723,
          13.194029814379935,
          13.989874039811545,
          5.6463486385794885,
          7.544275812287227,
          18.64234477185164,
          5.249660032590503,
          19.68679451336303,
          4.822216359941411,
          13.605227338384916,
          2.5572870775208907,
          5.378767913681742,
          19.687893457680516,
          6.86330517370563,
          15.55307877744635,
          11.52723367693952,
          9.234716104586909,
          13.751127271752978,
          30.31037371298423,
          1.739403817107,
          26.25500356857441,
          18.896543724050726,
          11.078919973746602,
          4.2023486529382135,
          5.167485954493984,
          4.70324635854277,
          9.376962080504182,
          8.528843645926486,
          15.815095398394345,
          18.919466964930514,
          25.891578349888324,
          10.781825764735926,
          10.113480854765811,
          13.198818783858805,
          7.612285449411755,
          3.8309005725553993,
          5.2051315870540815,
          10.117965057078202,
          4.962140054024633,
          8.671347026759623,
          20.888474751747587,
          22.1231193740219,
          16.127196439810646,
          35.15962837610028,
          7.498084345767705,
          6.935581378178579,
          5.287349005848102,
          32.124551113850785,
          6.717673562296705,
          23.630962795738697,
          8.517372090125201,
          14.911507940343439,
          10.078937326791493,
          1.3516198395415313,
          2.4451657169476064,
          8.059720608747824,
          9.935558093688236,
          20.477494559001578,
          1.8111202373165665,
          19.167511484436094,
          14.350186761674212,
          8.454673847805267,
          8.874926417691793,
          11.922250064363213,
          6.055966236230868,
          20.284345541743498,
          2.7838590616175525,
          23.678544120479227,
          8.628421058291183,
          17.78653393551518,
          11.974482583238265,
          9.301573350195952,
          6.151120027672731
         ]
        }
       ],
       "layout": {
        "legend": {
         "tracegroupgap": 0
        },
        "margin": {
         "t": 60
        },
        "scene": {
         "domain": {
          "x": [
           0,
           1
          ],
          "y": [
           0,
           1
          ]
         },
         "xaxis": {
          "title": {
           "text": "x"
          }
         },
         "yaxis": {
          "title": {
           "text": "y"
          }
         },
         "zaxis": {
          "title": {
           "text": "z"
          }
         }
        },
        "template": {
         "data": {
          "bar": [
           {
            "error_x": {
             "color": "#2a3f5f"
            },
            "error_y": {
             "color": "#2a3f5f"
            },
            "marker": {
             "line": {
              "color": "#E5ECF6",
              "width": 0.5
             },
             "pattern": {
              "fillmode": "overlay",
              "size": 10,
              "solidity": 0.2
             }
            },
            "type": "bar"
           }
          ],
          "barpolar": [
           {
            "marker": {
             "line": {
              "color": "#E5ECF6",
              "width": 0.5
             },
             "pattern": {
              "fillmode": "overlay",
              "size": 10,
              "solidity": 0.2
             }
            },
            "type": "barpolar"
           }
          ],
          "carpet": [
           {
            "aaxis": {
             "endlinecolor": "#2a3f5f",
             "gridcolor": "white",
             "linecolor": "white",
             "minorgridcolor": "white",
             "startlinecolor": "#2a3f5f"
            },
            "baxis": {
             "endlinecolor": "#2a3f5f",
             "gridcolor": "white",
             "linecolor": "white",
             "minorgridcolor": "white",
             "startlinecolor": "#2a3f5f"
            },
            "type": "carpet"
           }
          ],
          "choropleth": [
           {
            "colorbar": {
             "outlinewidth": 0,
             "ticks": ""
            },
            "type": "choropleth"
           }
          ],
          "contour": [
           {
            "colorbar": {
             "outlinewidth": 0,
             "ticks": ""
            },
            "colorscale": [
             [
              0,
              "#0d0887"
             ],
             [
              0.1111111111111111,
              "#46039f"
             ],
             [
              0.2222222222222222,
              "#7201a8"
             ],
             [
              0.3333333333333333,
              "#9c179e"
             ],
             [
              0.4444444444444444,
              "#bd3786"
             ],
             [
              0.5555555555555556,
              "#d8576b"
             ],
             [
              0.6666666666666666,
              "#ed7953"
             ],
             [
              0.7777777777777778,
              "#fb9f3a"
             ],
             [
              0.8888888888888888,
              "#fdca26"
             ],
             [
              1,
              "#f0f921"
             ]
            ],
            "type": "contour"
           }
          ],
          "contourcarpet": [
           {
            "colorbar": {
             "outlinewidth": 0,
             "ticks": ""
            },
            "type": "contourcarpet"
           }
          ],
          "heatmap": [
           {
            "colorbar": {
             "outlinewidth": 0,
             "ticks": ""
            },
            "colorscale": [
             [
              0,
              "#0d0887"
             ],
             [
              0.1111111111111111,
              "#46039f"
             ],
             [
              0.2222222222222222,
              "#7201a8"
             ],
             [
              0.3333333333333333,
              "#9c179e"
             ],
             [
              0.4444444444444444,
              "#bd3786"
             ],
             [
              0.5555555555555556,
              "#d8576b"
             ],
             [
              0.6666666666666666,
              "#ed7953"
             ],
             [
              0.7777777777777778,
              "#fb9f3a"
             ],
             [
              0.8888888888888888,
              "#fdca26"
             ],
             [
              1,
              "#f0f921"
             ]
            ],
            "type": "heatmap"
           }
          ],
          "heatmapgl": [
           {
            "colorbar": {
             "outlinewidth": 0,
             "ticks": ""
            },
            "colorscale": [
             [
              0,
              "#0d0887"
             ],
             [
              0.1111111111111111,
              "#46039f"
             ],
             [
              0.2222222222222222,
              "#7201a8"
             ],
             [
              0.3333333333333333,
              "#9c179e"
             ],
             [
              0.4444444444444444,
              "#bd3786"
             ],
             [
              0.5555555555555556,
              "#d8576b"
             ],
             [
              0.6666666666666666,
              "#ed7953"
             ],
             [
              0.7777777777777778,
              "#fb9f3a"
             ],
             [
              0.8888888888888888,
              "#fdca26"
             ],
             [
              1,
              "#f0f921"
             ]
            ],
            "type": "heatmapgl"
           }
          ],
          "histogram": [
           {
            "marker": {
             "pattern": {
              "fillmode": "overlay",
              "size": 10,
              "solidity": 0.2
             }
            },
            "type": "histogram"
           }
          ],
          "histogram2d": [
           {
            "colorbar": {
             "outlinewidth": 0,
             "ticks": ""
            },
            "colorscale": [
             [
              0,
              "#0d0887"
             ],
             [
              0.1111111111111111,
              "#46039f"
             ],
             [
              0.2222222222222222,
              "#7201a8"
             ],
             [
              0.3333333333333333,
              "#9c179e"
             ],
             [
              0.4444444444444444,
              "#bd3786"
             ],
             [
              0.5555555555555556,
              "#d8576b"
             ],
             [
              0.6666666666666666,
              "#ed7953"
             ],
             [
              0.7777777777777778,
              "#fb9f3a"
             ],
             [
              0.8888888888888888,
              "#fdca26"
             ],
             [
              1,
              "#f0f921"
             ]
            ],
            "type": "histogram2d"
           }
          ],
          "histogram2dcontour": [
           {
            "colorbar": {
             "outlinewidth": 0,
             "ticks": ""
            },
            "colorscale": [
             [
              0,
              "#0d0887"
             ],
             [
              0.1111111111111111,
              "#46039f"
             ],
             [
              0.2222222222222222,
              "#7201a8"
             ],
             [
              0.3333333333333333,
              "#9c179e"
             ],
             [
              0.4444444444444444,
              "#bd3786"
             ],
             [
              0.5555555555555556,
              "#d8576b"
             ],
             [
              0.6666666666666666,
              "#ed7953"
             ],
             [
              0.7777777777777778,
              "#fb9f3a"
             ],
             [
              0.8888888888888888,
              "#fdca26"
             ],
             [
              1,
              "#f0f921"
             ]
            ],
            "type": "histogram2dcontour"
           }
          ],
          "mesh3d": [
           {
            "colorbar": {
             "outlinewidth": 0,
             "ticks": ""
            },
            "type": "mesh3d"
           }
          ],
          "parcoords": [
           {
            "line": {
             "colorbar": {
              "outlinewidth": 0,
              "ticks": ""
             }
            },
            "type": "parcoords"
           }
          ],
          "pie": [
           {
            "automargin": true,
            "type": "pie"
           }
          ],
          "scatter": [
           {
            "marker": {
             "colorbar": {
              "outlinewidth": 0,
              "ticks": ""
             }
            },
            "type": "scatter"
           }
          ],
          "scatter3d": [
           {
            "line": {
             "colorbar": {
              "outlinewidth": 0,
              "ticks": ""
             }
            },
            "marker": {
             "colorbar": {
              "outlinewidth": 0,
              "ticks": ""
             }
            },
            "type": "scatter3d"
           }
          ],
          "scattercarpet": [
           {
            "marker": {
             "colorbar": {
              "outlinewidth": 0,
              "ticks": ""
             }
            },
            "type": "scattercarpet"
           }
          ],
          "scattergeo": [
           {
            "marker": {
             "colorbar": {
              "outlinewidth": 0,
              "ticks": ""
             }
            },
            "type": "scattergeo"
           }
          ],
          "scattergl": [
           {
            "marker": {
             "colorbar": {
              "outlinewidth": 0,
              "ticks": ""
             }
            },
            "type": "scattergl"
           }
          ],
          "scattermapbox": [
           {
            "marker": {
             "colorbar": {
              "outlinewidth": 0,
              "ticks": ""
             }
            },
            "type": "scattermapbox"
           }
          ],
          "scatterpolar": [
           {
            "marker": {
             "colorbar": {
              "outlinewidth": 0,
              "ticks": ""
             }
            },
            "type": "scatterpolar"
           }
          ],
          "scatterpolargl": [
           {
            "marker": {
             "colorbar": {
              "outlinewidth": 0,
              "ticks": ""
             }
            },
            "type": "scatterpolargl"
           }
          ],
          "scatterternary": [
           {
            "marker": {
             "colorbar": {
              "outlinewidth": 0,
              "ticks": ""
             }
            },
            "type": "scatterternary"
           }
          ],
          "surface": [
           {
            "colorbar": {
             "outlinewidth": 0,
             "ticks": ""
            },
            "colorscale": [
             [
              0,
              "#0d0887"
             ],
             [
              0.1111111111111111,
              "#46039f"
             ],
             [
              0.2222222222222222,
              "#7201a8"
             ],
             [
              0.3333333333333333,
              "#9c179e"
             ],
             [
              0.4444444444444444,
              "#bd3786"
             ],
             [
              0.5555555555555556,
              "#d8576b"
             ],
             [
              0.6666666666666666,
              "#ed7953"
             ],
             [
              0.7777777777777778,
              "#fb9f3a"
             ],
             [
              0.8888888888888888,
              "#fdca26"
             ],
             [
              1,
              "#f0f921"
             ]
            ],
            "type": "surface"
           }
          ],
          "table": [
           {
            "cells": {
             "fill": {
              "color": "#EBF0F8"
             },
             "line": {
              "color": "white"
             }
            },
            "header": {
             "fill": {
              "color": "#C8D4E3"
             },
             "line": {
              "color": "white"
             }
            },
            "type": "table"
           }
          ]
         },
         "layout": {
          "annotationdefaults": {
           "arrowcolor": "#2a3f5f",
           "arrowhead": 0,
           "arrowwidth": 1
          },
          "autotypenumbers": "strict",
          "coloraxis": {
           "colorbar": {
            "outlinewidth": 0,
            "ticks": ""
           }
          },
          "colorscale": {
           "diverging": [
            [
             0,
             "#8e0152"
            ],
            [
             0.1,
             "#c51b7d"
            ],
            [
             0.2,
             "#de77ae"
            ],
            [
             0.3,
             "#f1b6da"
            ],
            [
             0.4,
             "#fde0ef"
            ],
            [
             0.5,
             "#f7f7f7"
            ],
            [
             0.6,
             "#e6f5d0"
            ],
            [
             0.7,
             "#b8e186"
            ],
            [
             0.8,
             "#7fbc41"
            ],
            [
             0.9,
             "#4d9221"
            ],
            [
             1,
             "#276419"
            ]
           ],
           "sequential": [
            [
             0,
             "#0d0887"
            ],
            [
             0.1111111111111111,
             "#46039f"
            ],
            [
             0.2222222222222222,
             "#7201a8"
            ],
            [
             0.3333333333333333,
             "#9c179e"
            ],
            [
             0.4444444444444444,
             "#bd3786"
            ],
            [
             0.5555555555555556,
             "#d8576b"
            ],
            [
             0.6666666666666666,
             "#ed7953"
            ],
            [
             0.7777777777777778,
             "#fb9f3a"
            ],
            [
             0.8888888888888888,
             "#fdca26"
            ],
            [
             1,
             "#f0f921"
            ]
           ],
           "sequentialminus": [
            [
             0,
             "#0d0887"
            ],
            [
             0.1111111111111111,
             "#46039f"
            ],
            [
             0.2222222222222222,
             "#7201a8"
            ],
            [
             0.3333333333333333,
             "#9c179e"
            ],
            [
             0.4444444444444444,
             "#bd3786"
            ],
            [
             0.5555555555555556,
             "#d8576b"
            ],
            [
             0.6666666666666666,
             "#ed7953"
            ],
            [
             0.7777777777777778,
             "#fb9f3a"
            ],
            [
             0.8888888888888888,
             "#fdca26"
            ],
            [
             1,
             "#f0f921"
            ]
           ]
          },
          "colorway": [
           "#636efa",
           "#EF553B",
           "#00cc96",
           "#ab63fa",
           "#FFA15A",
           "#19d3f3",
           "#FF6692",
           "#B6E880",
           "#FF97FF",
           "#FECB52"
          ],
          "font": {
           "color": "#2a3f5f"
          },
          "geo": {
           "bgcolor": "white",
           "lakecolor": "white",
           "landcolor": "#E5ECF6",
           "showlakes": true,
           "showland": true,
           "subunitcolor": "white"
          },
          "hoverlabel": {
           "align": "left"
          },
          "hovermode": "closest",
          "mapbox": {
           "style": "light"
          },
          "paper_bgcolor": "white",
          "plot_bgcolor": "#E5ECF6",
          "polar": {
           "angularaxis": {
            "gridcolor": "white",
            "linecolor": "white",
            "ticks": ""
           },
           "bgcolor": "#E5ECF6",
           "radialaxis": {
            "gridcolor": "white",
            "linecolor": "white",
            "ticks": ""
           }
          },
          "scene": {
           "xaxis": {
            "backgroundcolor": "#E5ECF6",
            "gridcolor": "white",
            "gridwidth": 2,
            "linecolor": "white",
            "showbackground": true,
            "ticks": "",
            "zerolinecolor": "white"
           },
           "yaxis": {
            "backgroundcolor": "#E5ECF6",
            "gridcolor": "white",
            "gridwidth": 2,
            "linecolor": "white",
            "showbackground": true,
            "ticks": "",
            "zerolinecolor": "white"
           },
           "zaxis": {
            "backgroundcolor": "#E5ECF6",
            "gridcolor": "white",
            "gridwidth": 2,
            "linecolor": "white",
            "showbackground": true,
            "ticks": "",
            "zerolinecolor": "white"
           }
          },
          "shapedefaults": {
           "line": {
            "color": "#2a3f5f"
           }
          },
          "ternary": {
           "aaxis": {
            "gridcolor": "white",
            "linecolor": "white",
            "ticks": ""
           },
           "baxis": {
            "gridcolor": "white",
            "linecolor": "white",
            "ticks": ""
           },
           "bgcolor": "#E5ECF6",
           "caxis": {
            "gridcolor": "white",
            "linecolor": "white",
            "ticks": ""
           }
          },
          "title": {
           "x": 0.05
          },
          "xaxis": {
           "automargin": true,
           "gridcolor": "white",
           "linecolor": "white",
           "ticks": "",
           "title": {
            "standoff": 15
           },
           "zerolinecolor": "white",
           "zerolinewidth": 2
          },
          "yaxis": {
           "automargin": true,
           "gridcolor": "white",
           "linecolor": "white",
           "ticks": "",
           "title": {
            "standoff": 15
           },
           "zerolinecolor": "white",
           "zerolinewidth": 2
          }
         }
        }
       }
      },
      "text/html": [
       "<div>                            <div id=\"aa9ba8db-7ad3-4050-88ad-f671c3d73138\" class=\"plotly-graph-div\" style=\"height:525px; width:100%;\"></div>            <script type=\"text/javascript\">                require([\"plotly\"], function(Plotly) {                    window.PLOTLYENV=window.PLOTLYENV || {};                                    if (document.getElementById(\"aa9ba8db-7ad3-4050-88ad-f671c3d73138\")) {                    Plotly.newPlot(                        \"aa9ba8db-7ad3-4050-88ad-f671c3d73138\",                        [{\"hovertemplate\":\"x=%{x}<br>y=%{y}<br>z=%{z}<extra></extra>\",\"legendgroup\":\"\",\"marker\":{\"color\":\"#636efa\",\"symbol\":\"circle\"},\"mode\":\"markers\",\"name\":\"\",\"scene\":\"scene\",\"showlegend\":false,\"x\":[-0.6889048084719964,0.7330244009067299,2.471038286409753,-0.192704657339136,4.163111453715713,-0.9767831602311421,2.6443192989999664,3.994516133334929,1.6016472634194514,1.5873027227767649,-1.3316770649481797,3.204290817532164,1.9895840184036029,-1.2915276539987621,-0.9297489035707711,-0.14333666222137387,3.013390663257262,4.117909882085669,-1.8481449171992548,3.9148199261457357,3.219978769405257,1.086621525936999,-2.7952941459247715,-0.5109213697028681,-0.549445022833309,3.143590032164167,3.4757520126554597,3.94574878700678,3.2966868687708093,0.42287749073814496,-1.5653030737522158,0.5900897939165182,3.9308694635475723,1.3006083486899405,1.1008248242860934,-0.6841080340767336,3.29259225992229,1.3806167327223147,1.3434641361614919,1.557517312389746,-0.8146045435357725,-2.0234570035122057,3.309369212372909,1.815278532566456,-1.0242238330015851,2.875532762499679,0.08940707150009253,3.5252102805845675,2.492928893849772,-2.3002518957596494,-0.7145866129380525,-1.66074780337939,1.539229647615886,2.7732109495866943,-1.807656216698755,0.3669712239484717,-2.2158092468770563,2.384531798353544,1.4577357966017326,0.7022141508023663,-0.8832235580952765,1.2113227498113517,1.439693848417245,-0.153033141614209,2.5962222729850373,1.7177218663091969,-1.3242706599182248,2.7539655414766324,3.432390011267702,3.731248482155811,3.48250286444478,-0.852920647567611,1.5294864053116823,-0.9907758585520512,3.0574243883306114,-1.2329655297992135,1.4141189583518718,1.680005650834949,-1.2956991613597362,-2.4881077368417297,-0.4182120040927755,-1.2271428900850054,2.3282357730110412,-1.746296437273364,2.7403657045172514,-1.1007905719149496,-1.5537651866432038,2.3911985738769355,-2.1497467935972567,-2.423398835010486,2.556644270715278,-0.13870696498754587,2.218552968085576,-0.9959790271970728,3.4632133995893355,0.2451561845164716,2.3960349379179524,-1.032522331392316,-1.5764176384618023,1.8644484190613353],\"y\":[0.08341301179471916,3.5818270377900996,-1.9006407590301044,-1.8894083411828304,1.7540457080017529,0.9120460590089663,1.3208072672751774,2.456495750655354,-1.2933848511270594,-0.9024600030663001,0.15077361672628964,0.23328057705299932,3.862622308672771,-2.1801160257531333,1.47740723129143,0.9075190448068371,-0.6633866199746921,2.7247087999839286,-2.070158631504306,0.5916388744583934,-1.2631655490995213,-0.7566881116287045,0.9360336688786228,-2.0830019888468914,-2.5609090124281106,-1.235426315649788,3.6286306552910483,-0.9006913857589858,-0.8700038887685859,3.4106308784269626,1.1548941946206157,2.216124036763425,0.4232655278718944,-1.3177151607561204,4.105412699701464,1.4803486658783838,-0.0747674628897701,-0.7412322751249629,-1.4013364640156278,3.789803648998105,-2.3587016374549474,3.153956008535574,-0.18509572048000278,-2.161509881719832,3.1316894164107634,4.128318628914099,0.34973470566377873,3.0256975896803437,2.988332015425204,2.1130336958696017,-1.1914092345566256,1.3266746812149863,0.5860456305015633,-1.1146052138538263,2.3686962901375184,3.486204802286454,3.6369085558637115,3.959852886048729,-2.6847549784844214,2.4144360116838044,3.258959039468902,-2.4276462865981085,0.39708877364543804,-1.9309791018470663,-1.3768696738111732,-0.2758961488137106,2.552845831735759,3.315161767151804,2.3876666225039838,-0.7388058757330467,4.194057749507425,-2.393087719516738,-1.6231044195700082,-1.5875319573842166,4.076028278896524,-1.896074361784637,4.149993052366452,1.5448059707878272,3.484512392422027,1.400101961562525,0.09648048616703209,-0.6021370131969204,-0.7911303711437352,-2.6078882188815777,3.0241886585613686,0.4953704220007076,3.8371998597683517,2.3082750836814583,1.4477099479399165,-0.13897617234179194,1.1217691171964184,1.8441485166442932,3.5437008964747747,-0.2200092436875094,2.636483074906729,2.494506612811276,2.9735838300847286,2.9208452166861587,2.544047136974336,-1.0803039150102671],\"z\":[3.5514207361866745,15.656226724691972,11.95142388953213,4.074442052819532,24.80889297982059,3.028625152531317,12.223301935161762,26.36000281081346,5.382512170705803,5.626979899441302,3.801215965164896,12.057603358669748,24.439071771597966,8.38100559976195,3.9490145128056717,3.4771418979924746,12.126324363732481,29.18082056306928,7.663217715954353,19.021033619079155,14.749761676568301,3.0391995490266637,10.671464792166013,6.457609096739157,9.236760360048164,12.540401322391785,32.27598293368252,17.071289493059723,13.194029814379935,13.989874039811545,5.6463486385794885,7.544275812287227,18.64234477185164,5.249660032590503,19.68679451336303,4.822216359941411,13.605227338384916,2.5572870775208907,5.378767913681742,19.687893457680516,6.86330517370563,15.55307877744635,11.52723367693952,9.234716104586909,13.751127271752978,30.31037371298423,1.739403817107,26.25500356857441,18.896543724050726,11.078919973746602,4.2023486529382135,5.167485954493984,4.70324635854277,9.376962080504182,8.528843645926486,15.815095398394345,18.919466964930514,25.891578349888324,10.781825764735926,10.113480854765811,13.198818783858805,7.612285449411755,3.8309005725553993,5.2051315870540815,10.117965057078202,4.962140054024633,8.671347026759623,20.888474751747587,22.1231193740219,16.127196439810646,35.15962837610028,7.498084345767705,6.935581378178579,5.287349005848102,32.124551113850785,6.717673562296705,23.630962795738697,8.517372090125201,14.911507940343439,10.078937326791493,1.3516198395415313,2.4451657169476064,8.059720608747824,9.935558093688236,20.477494559001578,1.8111202373165665,19.167511484436094,14.350186761674212,8.454673847805267,8.874926417691793,11.922250064363213,6.055966236230868,20.284345541743498,2.7838590616175525,23.678544120479227,8.628421058291183,17.78653393551518,11.974482583238265,9.301573350195952,6.151120027672731],\"type\":\"scatter3d\"}],                        {\"template\":{\"data\":{\"bar\":[{\"error_x\":{\"color\":\"#2a3f5f\"},\"error_y\":{\"color\":\"#2a3f5f\"},\"marker\":{\"line\":{\"color\":\"#E5ECF6\",\"width\":0.5},\"pattern\":{\"fillmode\":\"overlay\",\"size\":10,\"solidity\":0.2}},\"type\":\"bar\"}],\"barpolar\":[{\"marker\":{\"line\":{\"color\":\"#E5ECF6\",\"width\":0.5},\"pattern\":{\"fillmode\":\"overlay\",\"size\":10,\"solidity\":0.2}},\"type\":\"barpolar\"}],\"carpet\":[{\"aaxis\":{\"endlinecolor\":\"#2a3f5f\",\"gridcolor\":\"white\",\"linecolor\":\"white\",\"minorgridcolor\":\"white\",\"startlinecolor\":\"#2a3f5f\"},\"baxis\":{\"endlinecolor\":\"#2a3f5f\",\"gridcolor\":\"white\",\"linecolor\":\"white\",\"minorgridcolor\":\"white\",\"startlinecolor\":\"#2a3f5f\"},\"type\":\"carpet\"}],\"choropleth\":[{\"colorbar\":{\"outlinewidth\":0,\"ticks\":\"\"},\"type\":\"choropleth\"}],\"contour\":[{\"colorbar\":{\"outlinewidth\":0,\"ticks\":\"\"},\"colorscale\":[[0.0,\"#0d0887\"],[0.1111111111111111,\"#46039f\"],[0.2222222222222222,\"#7201a8\"],[0.3333333333333333,\"#9c179e\"],[0.4444444444444444,\"#bd3786\"],[0.5555555555555556,\"#d8576b\"],[0.6666666666666666,\"#ed7953\"],[0.7777777777777778,\"#fb9f3a\"],[0.8888888888888888,\"#fdca26\"],[1.0,\"#f0f921\"]],\"type\":\"contour\"}],\"contourcarpet\":[{\"colorbar\":{\"outlinewidth\":0,\"ticks\":\"\"},\"type\":\"contourcarpet\"}],\"heatmap\":[{\"colorbar\":{\"outlinewidth\":0,\"ticks\":\"\"},\"colorscale\":[[0.0,\"#0d0887\"],[0.1111111111111111,\"#46039f\"],[0.2222222222222222,\"#7201a8\"],[0.3333333333333333,\"#9c179e\"],[0.4444444444444444,\"#bd3786\"],[0.5555555555555556,\"#d8576b\"],[0.6666666666666666,\"#ed7953\"],[0.7777777777777778,\"#fb9f3a\"],[0.8888888888888888,\"#fdca26\"],[1.0,\"#f0f921\"]],\"type\":\"heatmap\"}],\"heatmapgl\":[{\"colorbar\":{\"outlinewidth\":0,\"ticks\":\"\"},\"colorscale\":[[0.0,\"#0d0887\"],[0.1111111111111111,\"#46039f\"],[0.2222222222222222,\"#7201a8\"],[0.3333333333333333,\"#9c179e\"],[0.4444444444444444,\"#bd3786\"],[0.5555555555555556,\"#d8576b\"],[0.6666666666666666,\"#ed7953\"],[0.7777777777777778,\"#fb9f3a\"],[0.8888888888888888,\"#fdca26\"],[1.0,\"#f0f921\"]],\"type\":\"heatmapgl\"}],\"histogram\":[{\"marker\":{\"pattern\":{\"fillmode\":\"overlay\",\"size\":10,\"solidity\":0.2}},\"type\":\"histogram\"}],\"histogram2d\":[{\"colorbar\":{\"outlinewidth\":0,\"ticks\":\"\"},\"colorscale\":[[0.0,\"#0d0887\"],[0.1111111111111111,\"#46039f\"],[0.2222222222222222,\"#7201a8\"],[0.3333333333333333,\"#9c179e\"],[0.4444444444444444,\"#bd3786\"],[0.5555555555555556,\"#d8576b\"],[0.6666666666666666,\"#ed7953\"],[0.7777777777777778,\"#fb9f3a\"],[0.8888888888888888,\"#fdca26\"],[1.0,\"#f0f921\"]],\"type\":\"histogram2d\"}],\"histogram2dcontour\":[{\"colorbar\":{\"outlinewidth\":0,\"ticks\":\"\"},\"colorscale\":[[0.0,\"#0d0887\"],[0.1111111111111111,\"#46039f\"],[0.2222222222222222,\"#7201a8\"],[0.3333333333333333,\"#9c179e\"],[0.4444444444444444,\"#bd3786\"],[0.5555555555555556,\"#d8576b\"],[0.6666666666666666,\"#ed7953\"],[0.7777777777777778,\"#fb9f3a\"],[0.8888888888888888,\"#fdca26\"],[1.0,\"#f0f921\"]],\"type\":\"histogram2dcontour\"}],\"mesh3d\":[{\"colorbar\":{\"outlinewidth\":0,\"ticks\":\"\"},\"type\":\"mesh3d\"}],\"parcoords\":[{\"line\":{\"colorbar\":{\"outlinewidth\":0,\"ticks\":\"\"}},\"type\":\"parcoords\"}],\"pie\":[{\"automargin\":true,\"type\":\"pie\"}],\"scatter\":[{\"marker\":{\"colorbar\":{\"outlinewidth\":0,\"ticks\":\"\"}},\"type\":\"scatter\"}],\"scatter3d\":[{\"line\":{\"colorbar\":{\"outlinewidth\":0,\"ticks\":\"\"}},\"marker\":{\"colorbar\":{\"outlinewidth\":0,\"ticks\":\"\"}},\"type\":\"scatter3d\"}],\"scattercarpet\":[{\"marker\":{\"colorbar\":{\"outlinewidth\":0,\"ticks\":\"\"}},\"type\":\"scattercarpet\"}],\"scattergeo\":[{\"marker\":{\"colorbar\":{\"outlinewidth\":0,\"ticks\":\"\"}},\"type\":\"scattergeo\"}],\"scattergl\":[{\"marker\":{\"colorbar\":{\"outlinewidth\":0,\"ticks\":\"\"}},\"type\":\"scattergl\"}],\"scattermapbox\":[{\"marker\":{\"colorbar\":{\"outlinewidth\":0,\"ticks\":\"\"}},\"type\":\"scattermapbox\"}],\"scatterpolar\":[{\"marker\":{\"colorbar\":{\"outlinewidth\":0,\"ticks\":\"\"}},\"type\":\"scatterpolar\"}],\"scatterpolargl\":[{\"marker\":{\"colorbar\":{\"outlinewidth\":0,\"ticks\":\"\"}},\"type\":\"scatterpolargl\"}],\"scatterternary\":[{\"marker\":{\"colorbar\":{\"outlinewidth\":0,\"ticks\":\"\"}},\"type\":\"scatterternary\"}],\"surface\":[{\"colorbar\":{\"outlinewidth\":0,\"ticks\":\"\"},\"colorscale\":[[0.0,\"#0d0887\"],[0.1111111111111111,\"#46039f\"],[0.2222222222222222,\"#7201a8\"],[0.3333333333333333,\"#9c179e\"],[0.4444444444444444,\"#bd3786\"],[0.5555555555555556,\"#d8576b\"],[0.6666666666666666,\"#ed7953\"],[0.7777777777777778,\"#fb9f3a\"],[0.8888888888888888,\"#fdca26\"],[1.0,\"#f0f921\"]],\"type\":\"surface\"}],\"table\":[{\"cells\":{\"fill\":{\"color\":\"#EBF0F8\"},\"line\":{\"color\":\"white\"}},\"header\":{\"fill\":{\"color\":\"#C8D4E3\"},\"line\":{\"color\":\"white\"}},\"type\":\"table\"}]},\"layout\":{\"annotationdefaults\":{\"arrowcolor\":\"#2a3f5f\",\"arrowhead\":0,\"arrowwidth\":1},\"autotypenumbers\":\"strict\",\"coloraxis\":{\"colorbar\":{\"outlinewidth\":0,\"ticks\":\"\"}},\"colorscale\":{\"diverging\":[[0,\"#8e0152\"],[0.1,\"#c51b7d\"],[0.2,\"#de77ae\"],[0.3,\"#f1b6da\"],[0.4,\"#fde0ef\"],[0.5,\"#f7f7f7\"],[0.6,\"#e6f5d0\"],[0.7,\"#b8e186\"],[0.8,\"#7fbc41\"],[0.9,\"#4d9221\"],[1,\"#276419\"]],\"sequential\":[[0.0,\"#0d0887\"],[0.1111111111111111,\"#46039f\"],[0.2222222222222222,\"#7201a8\"],[0.3333333333333333,\"#9c179e\"],[0.4444444444444444,\"#bd3786\"],[0.5555555555555556,\"#d8576b\"],[0.6666666666666666,\"#ed7953\"],[0.7777777777777778,\"#fb9f3a\"],[0.8888888888888888,\"#fdca26\"],[1.0,\"#f0f921\"]],\"sequentialminus\":[[0.0,\"#0d0887\"],[0.1111111111111111,\"#46039f\"],[0.2222222222222222,\"#7201a8\"],[0.3333333333333333,\"#9c179e\"],[0.4444444444444444,\"#bd3786\"],[0.5555555555555556,\"#d8576b\"],[0.6666666666666666,\"#ed7953\"],[0.7777777777777778,\"#fb9f3a\"],[0.8888888888888888,\"#fdca26\"],[1.0,\"#f0f921\"]]},\"colorway\":[\"#636efa\",\"#EF553B\",\"#00cc96\",\"#ab63fa\",\"#FFA15A\",\"#19d3f3\",\"#FF6692\",\"#B6E880\",\"#FF97FF\",\"#FECB52\"],\"font\":{\"color\":\"#2a3f5f\"},\"geo\":{\"bgcolor\":\"white\",\"lakecolor\":\"white\",\"landcolor\":\"#E5ECF6\",\"showlakes\":true,\"showland\":true,\"subunitcolor\":\"white\"},\"hoverlabel\":{\"align\":\"left\"},\"hovermode\":\"closest\",\"mapbox\":{\"style\":\"light\"},\"paper_bgcolor\":\"white\",\"plot_bgcolor\":\"#E5ECF6\",\"polar\":{\"angularaxis\":{\"gridcolor\":\"white\",\"linecolor\":\"white\",\"ticks\":\"\"},\"bgcolor\":\"#E5ECF6\",\"radialaxis\":{\"gridcolor\":\"white\",\"linecolor\":\"white\",\"ticks\":\"\"}},\"scene\":{\"xaxis\":{\"backgroundcolor\":\"#E5ECF6\",\"gridcolor\":\"white\",\"gridwidth\":2,\"linecolor\":\"white\",\"showbackground\":true,\"ticks\":\"\",\"zerolinecolor\":\"white\"},\"yaxis\":{\"backgroundcolor\":\"#E5ECF6\",\"gridcolor\":\"white\",\"gridwidth\":2,\"linecolor\":\"white\",\"showbackground\":true,\"ticks\":\"\",\"zerolinecolor\":\"white\"},\"zaxis\":{\"backgroundcolor\":\"#E5ECF6\",\"gridcolor\":\"white\",\"gridwidth\":2,\"linecolor\":\"white\",\"showbackground\":true,\"ticks\":\"\",\"zerolinecolor\":\"white\"}},\"shapedefaults\":{\"line\":{\"color\":\"#2a3f5f\"}},\"ternary\":{\"aaxis\":{\"gridcolor\":\"white\",\"linecolor\":\"white\",\"ticks\":\"\"},\"baxis\":{\"gridcolor\":\"white\",\"linecolor\":\"white\",\"ticks\":\"\"},\"bgcolor\":\"#E5ECF6\",\"caxis\":{\"gridcolor\":\"white\",\"linecolor\":\"white\",\"ticks\":\"\"}},\"title\":{\"x\":0.05},\"xaxis\":{\"automargin\":true,\"gridcolor\":\"white\",\"linecolor\":\"white\",\"ticks\":\"\",\"title\":{\"standoff\":15},\"zerolinecolor\":\"white\",\"zerolinewidth\":2},\"yaxis\":{\"automargin\":true,\"gridcolor\":\"white\",\"linecolor\":\"white\",\"ticks\":\"\",\"title\":{\"standoff\":15},\"zerolinecolor\":\"white\",\"zerolinewidth\":2}}},\"scene\":{\"domain\":{\"x\":[0.0,1.0],\"y\":[0.0,1.0]},\"xaxis\":{\"title\":{\"text\":\"x\"}},\"yaxis\":{\"title\":{\"text\":\"y\"}},\"zaxis\":{\"title\":{\"text\":\"z\"}}},\"legend\":{\"tracegroupgap\":0},\"margin\":{\"t\":60}},                        {\"responsive\": true}                    ).then(function(){\n",
       "                            \n",
       "var gd = document.getElementById('aa9ba8db-7ad3-4050-88ad-f671c3d73138');\n",
       "var x = new MutationObserver(function (mutations, observer) {{\n",
       "        var display = window.getComputedStyle(gd).display;\n",
       "        if (!display || display === 'none') {{\n",
       "            console.log([gd, 'removed!']);\n",
       "            Plotly.purge(gd);\n",
       "            observer.disconnect();\n",
       "        }}\n",
       "}});\n",
       "\n",
       "// Listen for the removal of the full notebook cells\n",
       "var notebookContainer = gd.closest('#notebook-container');\n",
       "if (notebookContainer) {{\n",
       "    x.observe(notebookContainer, {childList: true});\n",
       "}}\n",
       "\n",
       "// Listen for the clearing of the current output cell\n",
       "var outputEl = gd.closest('.output');\n",
       "if (outputEl) {{\n",
       "    x.observe(outputEl, {childList: true});\n",
       "}}\n",
       "\n",
       "                        })                };                });            </script>        </div>"
      ]
     },
     "metadata": {},
     "output_type": "display_data"
    }
   ],
   "source": [
    "import plotly.express as px\n",
    "df = px.data.iris()\n",
    "fig = px.scatter_3d(df, x=x.ravel(), y=y.ravel(), z=z.ravel())\n",
    "fig.show()"
   ]
  },
  {
   "cell_type": "code",
   "execution_count": 32,
   "id": "16c14f2e",
   "metadata": {},
   "outputs": [],
   "source": [
    "lr = LinearRegression()\n",
    "lr.fit(np.array([x,y]).reshape(100,2),z)\n",
    "\n",
    "# returns an array of evenly spaced values within the specified interval [start, stop]\n",
    "x_input = np.linspace(x.min(), x.max(), 10)\n",
    "y_input = np.linspace(y.min(), y.max(), 10)\n",
    "xGrid, yGrid = np.meshgrid(x_input,y_input)\n",
    "\n",
    "final = np.vstack((xGrid.ravel().reshape(1,100),yGrid.ravel().reshape(1,100))).T\n",
    "\n",
    "z_final = lr.predict(final).reshape(10,10)"
   ]
  },
  {
   "cell_type": "code",
   "execution_count": 34,
   "id": "bc7d1efb",
   "metadata": {},
   "outputs": [
    {
     "data": {
      "application/vnd.plotly.v1+json": {
       "config": {
        "plotlyServerURL": "https://plot.ly"
       },
       "data": [
        {
         "hovertemplate": "x=%{x}<br>y=%{y}<br>z=%{z}<extra></extra>",
         "legendgroup": "",
         "marker": {
          "color": "#636efa",
          "symbol": "circle"
         },
         "mode": "markers",
         "name": "",
         "scene": "scene",
         "showlegend": false,
         "type": "scatter3d",
         "x": [
          -0.6889048084719964,
          0.7330244009067299,
          2.471038286409753,
          -0.192704657339136,
          4.163111453715713,
          -0.9767831602311421,
          2.6443192989999664,
          3.994516133334929,
          1.6016472634194514,
          1.5873027227767649,
          -1.3316770649481797,
          3.204290817532164,
          1.9895840184036029,
          -1.2915276539987621,
          -0.9297489035707711,
          -0.14333666222137387,
          3.013390663257262,
          4.117909882085669,
          -1.8481449171992548,
          3.9148199261457357,
          3.219978769405257,
          1.086621525936999,
          -2.7952941459247715,
          -0.5109213697028681,
          -0.549445022833309,
          3.143590032164167,
          3.4757520126554597,
          3.94574878700678,
          3.2966868687708093,
          0.42287749073814496,
          -1.5653030737522158,
          0.5900897939165182,
          3.9308694635475723,
          1.3006083486899405,
          1.1008248242860934,
          -0.6841080340767336,
          3.29259225992229,
          1.3806167327223147,
          1.3434641361614919,
          1.557517312389746,
          -0.8146045435357725,
          -2.0234570035122057,
          3.309369212372909,
          1.815278532566456,
          -1.0242238330015851,
          2.875532762499679,
          0.08940707150009253,
          3.5252102805845675,
          2.492928893849772,
          -2.3002518957596494,
          -0.7145866129380525,
          -1.66074780337939,
          1.539229647615886,
          2.7732109495866943,
          -1.807656216698755,
          0.3669712239484717,
          -2.2158092468770563,
          2.384531798353544,
          1.4577357966017326,
          0.7022141508023663,
          -0.8832235580952765,
          1.2113227498113517,
          1.439693848417245,
          -0.153033141614209,
          2.5962222729850373,
          1.7177218663091969,
          -1.3242706599182248,
          2.7539655414766324,
          3.432390011267702,
          3.731248482155811,
          3.48250286444478,
          -0.852920647567611,
          1.5294864053116823,
          -0.9907758585520512,
          3.0574243883306114,
          -1.2329655297992135,
          1.4141189583518718,
          1.680005650834949,
          -1.2956991613597362,
          -2.4881077368417297,
          -0.4182120040927755,
          -1.2271428900850054,
          2.3282357730110412,
          -1.746296437273364,
          2.7403657045172514,
          -1.1007905719149496,
          -1.5537651866432038,
          2.3911985738769355,
          -2.1497467935972567,
          -2.423398835010486,
          2.556644270715278,
          -0.13870696498754587,
          2.218552968085576,
          -0.9959790271970728,
          3.4632133995893355,
          0.2451561845164716,
          2.3960349379179524,
          -1.032522331392316,
          -1.5764176384618023,
          1.8644484190613353
         ],
         "y": [
          0.08341301179471916,
          3.5818270377900996,
          -1.9006407590301044,
          -1.8894083411828304,
          1.7540457080017529,
          0.9120460590089663,
          1.3208072672751774,
          2.456495750655354,
          -1.2933848511270594,
          -0.9024600030663001,
          0.15077361672628964,
          0.23328057705299932,
          3.862622308672771,
          -2.1801160257531333,
          1.47740723129143,
          0.9075190448068371,
          -0.6633866199746921,
          2.7247087999839286,
          -2.070158631504306,
          0.5916388744583934,
          -1.2631655490995213,
          -0.7566881116287045,
          0.9360336688786228,
          -2.0830019888468914,
          -2.5609090124281106,
          -1.235426315649788,
          3.6286306552910483,
          -0.9006913857589858,
          -0.8700038887685859,
          3.4106308784269626,
          1.1548941946206157,
          2.216124036763425,
          0.4232655278718944,
          -1.3177151607561204,
          4.105412699701464,
          1.4803486658783838,
          -0.0747674628897701,
          -0.7412322751249629,
          -1.4013364640156278,
          3.789803648998105,
          -2.3587016374549474,
          3.153956008535574,
          -0.18509572048000278,
          -2.161509881719832,
          3.1316894164107634,
          4.128318628914099,
          0.34973470566377873,
          3.0256975896803437,
          2.988332015425204,
          2.1130336958696017,
          -1.1914092345566256,
          1.3266746812149863,
          0.5860456305015633,
          -1.1146052138538263,
          2.3686962901375184,
          3.486204802286454,
          3.6369085558637115,
          3.959852886048729,
          -2.6847549784844214,
          2.4144360116838044,
          3.258959039468902,
          -2.4276462865981085,
          0.39708877364543804,
          -1.9309791018470663,
          -1.3768696738111732,
          -0.2758961488137106,
          2.552845831735759,
          3.315161767151804,
          2.3876666225039838,
          -0.7388058757330467,
          4.194057749507425,
          -2.393087719516738,
          -1.6231044195700082,
          -1.5875319573842166,
          4.076028278896524,
          -1.896074361784637,
          4.149993052366452,
          1.5448059707878272,
          3.484512392422027,
          1.400101961562525,
          0.09648048616703209,
          -0.6021370131969204,
          -0.7911303711437352,
          -2.6078882188815777,
          3.0241886585613686,
          0.4953704220007076,
          3.8371998597683517,
          2.3082750836814583,
          1.4477099479399165,
          -0.13897617234179194,
          1.1217691171964184,
          1.8441485166442932,
          3.5437008964747747,
          -0.2200092436875094,
          2.636483074906729,
          2.494506612811276,
          2.9735838300847286,
          2.9208452166861587,
          2.544047136974336,
          -1.0803039150102671
         ],
         "z": [
          3.5514207361866745,
          15.656226724691972,
          11.95142388953213,
          4.074442052819532,
          24.80889297982059,
          3.028625152531317,
          12.223301935161762,
          26.36000281081346,
          5.382512170705803,
          5.626979899441302,
          3.801215965164896,
          12.057603358669748,
          24.439071771597966,
          8.38100559976195,
          3.9490145128056717,
          3.4771418979924746,
          12.126324363732481,
          29.18082056306928,
          7.663217715954353,
          19.021033619079155,
          14.749761676568301,
          3.0391995490266637,
          10.671464792166013,
          6.457609096739157,
          9.236760360048164,
          12.540401322391785,
          32.27598293368252,
          17.071289493059723,
          13.194029814379935,
          13.989874039811545,
          5.6463486385794885,
          7.544275812287227,
          18.64234477185164,
          5.249660032590503,
          19.68679451336303,
          4.822216359941411,
          13.605227338384916,
          2.5572870775208907,
          5.378767913681742,
          19.687893457680516,
          6.86330517370563,
          15.55307877744635,
          11.52723367693952,
          9.234716104586909,
          13.751127271752978,
          30.31037371298423,
          1.739403817107,
          26.25500356857441,
          18.896543724050726,
          11.078919973746602,
          4.2023486529382135,
          5.167485954493984,
          4.70324635854277,
          9.376962080504182,
          8.528843645926486,
          15.815095398394345,
          18.919466964930514,
          25.891578349888324,
          10.781825764735926,
          10.113480854765811,
          13.198818783858805,
          7.612285449411755,
          3.8309005725553993,
          5.2051315870540815,
          10.117965057078202,
          4.962140054024633,
          8.671347026759623,
          20.888474751747587,
          22.1231193740219,
          16.127196439810646,
          35.15962837610028,
          7.498084345767705,
          6.935581378178579,
          5.287349005848102,
          32.124551113850785,
          6.717673562296705,
          23.630962795738697,
          8.517372090125201,
          14.911507940343439,
          10.078937326791493,
          1.3516198395415313,
          2.4451657169476064,
          8.059720608747824,
          9.935558093688236,
          20.477494559001578,
          1.8111202373165665,
          19.167511484436094,
          14.350186761674212,
          8.454673847805267,
          8.874926417691793,
          11.922250064363213,
          6.055966236230868,
          20.284345541743498,
          2.7838590616175525,
          23.678544120479227,
          8.628421058291183,
          17.78653393551518,
          11.974482583238265,
          9.301573350195952,
          6.151120027672731
         ]
        },
        {
         "type": "surface",
         "x": [
          -2.7952941459247715,
          -2.0221379681869402,
          -1.2489817904491085,
          -0.4758256127112772,
          0.2973305650265545,
          1.0704867427643863,
          1.8436429205022171,
          2.616799098240049,
          3.3899552759778806,
          4.163111453715713
         ],
         "y": [
          -2.6847549784844214,
          -1.9204424531519941,
          -1.1561299278195667,
          -0.39181740248713925,
          0.37249512284528796,
          1.1368076481777152,
          1.9011201735101428,
          2.6654326988425696,
          3.4297452241749973,
          4.194057749507425
         ],
         "z": [
          [
           12.151835519827582,
           12.167546782906058,
           12.183258045984536,
           12.198969309063013,
           12.21468057214149,
           12.230391835219967,
           12.246103098298445,
           12.261814361376922,
           12.277525624455398,
           12.293236887533876
          ],
          [
           12.119056975359534,
           12.134768238438012,
           12.15047950151649,
           12.166190764594967,
           12.181902027673443,
           12.19761329075192,
           12.213324553830399,
           12.229035816908876,
           12.244747079987352,
           12.26045834306583
          ],
          [
           12.086278430891488,
           12.101989693969966,
           12.117700957048443,
           12.13341222012692,
           12.149123483205397,
           12.164834746283875,
           12.180546009362352,
           12.196257272440828,
           12.211968535519306,
           12.227679798597784
          ],
          [
           12.053499886423442,
           12.06921114950192,
           12.084922412580395,
           12.100633675658873,
           12.11634493873735,
           12.132056201815828,
           12.147767464894304,
           12.163478727972782,
           12.17918999105126,
           12.194901254129737
          ],
          [
           12.020721341955396,
           12.036432605033871,
           12.05214386811235,
           12.067855131190827,
           12.083566394269305,
           12.09927765734778,
           12.114988920426258,
           12.130700183504736,
           12.146411446583214,
           12.16212270966169
          ],
          [
           11.98794279748735,
           12.003654060565825,
           12.019365323644303,
           12.03507658672278,
           12.050787849801258,
           12.066499112879734,
           12.082210375958212,
           12.09792163903669,
           12.113632902115166,
           12.129344165193643
          ],
          [
           11.955164253019301,
           11.97087551609778,
           11.986586779176257,
           12.002298042254735,
           12.01800930533321,
           12.033720568411688,
           12.049431831490166,
           12.065143094568644,
           12.08085435764712,
           12.096565620725597
          ],
          [
           11.922385708551255,
           11.938096971629733,
           11.95380823470821,
           11.969519497786687,
           11.985230760865164,
           12.000942023943642,
           12.01665328702212,
           12.032364550100596,
           12.048075813179073,
           12.063787076257551
          ],
          [
           11.889607164083209,
           11.905318427161687,
           11.921029690240163,
           11.93674095331864,
           11.952452216397118,
           11.968163479475596,
           11.983874742554072,
           11.99958600563255,
           12.015297268711027,
           12.031008531789505
          ],
          [
           11.856828619615163,
           11.872539882693639,
           11.888251145772117,
           11.903962408850594,
           11.919673671929072,
           11.935384935007548,
           11.951096198086026,
           11.966807461164503,
           11.982518724242981,
           11.998229987321457
          ]
         ]
        }
       ],
       "layout": {
        "legend": {
         "tracegroupgap": 0
        },
        "margin": {
         "t": 60
        },
        "scene": {
         "domain": {
          "x": [
           0,
           1
          ],
          "y": [
           0,
           1
          ]
         },
         "xaxis": {
          "title": {
           "text": "x"
          }
         },
         "yaxis": {
          "title": {
           "text": "y"
          }
         },
         "zaxis": {
          "title": {
           "text": "z"
          }
         }
        },
        "template": {
         "data": {
          "bar": [
           {
            "error_x": {
             "color": "#2a3f5f"
            },
            "error_y": {
             "color": "#2a3f5f"
            },
            "marker": {
             "line": {
              "color": "#E5ECF6",
              "width": 0.5
             },
             "pattern": {
              "fillmode": "overlay",
              "size": 10,
              "solidity": 0.2
             }
            },
            "type": "bar"
           }
          ],
          "barpolar": [
           {
            "marker": {
             "line": {
              "color": "#E5ECF6",
              "width": 0.5
             },
             "pattern": {
              "fillmode": "overlay",
              "size": 10,
              "solidity": 0.2
             }
            },
            "type": "barpolar"
           }
          ],
          "carpet": [
           {
            "aaxis": {
             "endlinecolor": "#2a3f5f",
             "gridcolor": "white",
             "linecolor": "white",
             "minorgridcolor": "white",
             "startlinecolor": "#2a3f5f"
            },
            "baxis": {
             "endlinecolor": "#2a3f5f",
             "gridcolor": "white",
             "linecolor": "white",
             "minorgridcolor": "white",
             "startlinecolor": "#2a3f5f"
            },
            "type": "carpet"
           }
          ],
          "choropleth": [
           {
            "colorbar": {
             "outlinewidth": 0,
             "ticks": ""
            },
            "type": "choropleth"
           }
          ],
          "contour": [
           {
            "colorbar": {
             "outlinewidth": 0,
             "ticks": ""
            },
            "colorscale": [
             [
              0,
              "#0d0887"
             ],
             [
              0.1111111111111111,
              "#46039f"
             ],
             [
              0.2222222222222222,
              "#7201a8"
             ],
             [
              0.3333333333333333,
              "#9c179e"
             ],
             [
              0.4444444444444444,
              "#bd3786"
             ],
             [
              0.5555555555555556,
              "#d8576b"
             ],
             [
              0.6666666666666666,
              "#ed7953"
             ],
             [
              0.7777777777777778,
              "#fb9f3a"
             ],
             [
              0.8888888888888888,
              "#fdca26"
             ],
             [
              1,
              "#f0f921"
             ]
            ],
            "type": "contour"
           }
          ],
          "contourcarpet": [
           {
            "colorbar": {
             "outlinewidth": 0,
             "ticks": ""
            },
            "type": "contourcarpet"
           }
          ],
          "heatmap": [
           {
            "colorbar": {
             "outlinewidth": 0,
             "ticks": ""
            },
            "colorscale": [
             [
              0,
              "#0d0887"
             ],
             [
              0.1111111111111111,
              "#46039f"
             ],
             [
              0.2222222222222222,
              "#7201a8"
             ],
             [
              0.3333333333333333,
              "#9c179e"
             ],
             [
              0.4444444444444444,
              "#bd3786"
             ],
             [
              0.5555555555555556,
              "#d8576b"
             ],
             [
              0.6666666666666666,
              "#ed7953"
             ],
             [
              0.7777777777777778,
              "#fb9f3a"
             ],
             [
              0.8888888888888888,
              "#fdca26"
             ],
             [
              1,
              "#f0f921"
             ]
            ],
            "type": "heatmap"
           }
          ],
          "heatmapgl": [
           {
            "colorbar": {
             "outlinewidth": 0,
             "ticks": ""
            },
            "colorscale": [
             [
              0,
              "#0d0887"
             ],
             [
              0.1111111111111111,
              "#46039f"
             ],
             [
              0.2222222222222222,
              "#7201a8"
             ],
             [
              0.3333333333333333,
              "#9c179e"
             ],
             [
              0.4444444444444444,
              "#bd3786"
             ],
             [
              0.5555555555555556,
              "#d8576b"
             ],
             [
              0.6666666666666666,
              "#ed7953"
             ],
             [
              0.7777777777777778,
              "#fb9f3a"
             ],
             [
              0.8888888888888888,
              "#fdca26"
             ],
             [
              1,
              "#f0f921"
             ]
            ],
            "type": "heatmapgl"
           }
          ],
          "histogram": [
           {
            "marker": {
             "pattern": {
              "fillmode": "overlay",
              "size": 10,
              "solidity": 0.2
             }
            },
            "type": "histogram"
           }
          ],
          "histogram2d": [
           {
            "colorbar": {
             "outlinewidth": 0,
             "ticks": ""
            },
            "colorscale": [
             [
              0,
              "#0d0887"
             ],
             [
              0.1111111111111111,
              "#46039f"
             ],
             [
              0.2222222222222222,
              "#7201a8"
             ],
             [
              0.3333333333333333,
              "#9c179e"
             ],
             [
              0.4444444444444444,
              "#bd3786"
             ],
             [
              0.5555555555555556,
              "#d8576b"
             ],
             [
              0.6666666666666666,
              "#ed7953"
             ],
             [
              0.7777777777777778,
              "#fb9f3a"
             ],
             [
              0.8888888888888888,
              "#fdca26"
             ],
             [
              1,
              "#f0f921"
             ]
            ],
            "type": "histogram2d"
           }
          ],
          "histogram2dcontour": [
           {
            "colorbar": {
             "outlinewidth": 0,
             "ticks": ""
            },
            "colorscale": [
             [
              0,
              "#0d0887"
             ],
             [
              0.1111111111111111,
              "#46039f"
             ],
             [
              0.2222222222222222,
              "#7201a8"
             ],
             [
              0.3333333333333333,
              "#9c179e"
             ],
             [
              0.4444444444444444,
              "#bd3786"
             ],
             [
              0.5555555555555556,
              "#d8576b"
             ],
             [
              0.6666666666666666,
              "#ed7953"
             ],
             [
              0.7777777777777778,
              "#fb9f3a"
             ],
             [
              0.8888888888888888,
              "#fdca26"
             ],
             [
              1,
              "#f0f921"
             ]
            ],
            "type": "histogram2dcontour"
           }
          ],
          "mesh3d": [
           {
            "colorbar": {
             "outlinewidth": 0,
             "ticks": ""
            },
            "type": "mesh3d"
           }
          ],
          "parcoords": [
           {
            "line": {
             "colorbar": {
              "outlinewidth": 0,
              "ticks": ""
             }
            },
            "type": "parcoords"
           }
          ],
          "pie": [
           {
            "automargin": true,
            "type": "pie"
           }
          ],
          "scatter": [
           {
            "marker": {
             "colorbar": {
              "outlinewidth": 0,
              "ticks": ""
             }
            },
            "type": "scatter"
           }
          ],
          "scatter3d": [
           {
            "line": {
             "colorbar": {
              "outlinewidth": 0,
              "ticks": ""
             }
            },
            "marker": {
             "colorbar": {
              "outlinewidth": 0,
              "ticks": ""
             }
            },
            "type": "scatter3d"
           }
          ],
          "scattercarpet": [
           {
            "marker": {
             "colorbar": {
              "outlinewidth": 0,
              "ticks": ""
             }
            },
            "type": "scattercarpet"
           }
          ],
          "scattergeo": [
           {
            "marker": {
             "colorbar": {
              "outlinewidth": 0,
              "ticks": ""
             }
            },
            "type": "scattergeo"
           }
          ],
          "scattergl": [
           {
            "marker": {
             "colorbar": {
              "outlinewidth": 0,
              "ticks": ""
             }
            },
            "type": "scattergl"
           }
          ],
          "scattermapbox": [
           {
            "marker": {
             "colorbar": {
              "outlinewidth": 0,
              "ticks": ""
             }
            },
            "type": "scattermapbox"
           }
          ],
          "scatterpolar": [
           {
            "marker": {
             "colorbar": {
              "outlinewidth": 0,
              "ticks": ""
             }
            },
            "type": "scatterpolar"
           }
          ],
          "scatterpolargl": [
           {
            "marker": {
             "colorbar": {
              "outlinewidth": 0,
              "ticks": ""
             }
            },
            "type": "scatterpolargl"
           }
          ],
          "scatterternary": [
           {
            "marker": {
             "colorbar": {
              "outlinewidth": 0,
              "ticks": ""
             }
            },
            "type": "scatterternary"
           }
          ],
          "surface": [
           {
            "colorbar": {
             "outlinewidth": 0,
             "ticks": ""
            },
            "colorscale": [
             [
              0,
              "#0d0887"
             ],
             [
              0.1111111111111111,
              "#46039f"
             ],
             [
              0.2222222222222222,
              "#7201a8"
             ],
             [
              0.3333333333333333,
              "#9c179e"
             ],
             [
              0.4444444444444444,
              "#bd3786"
             ],
             [
              0.5555555555555556,
              "#d8576b"
             ],
             [
              0.6666666666666666,
              "#ed7953"
             ],
             [
              0.7777777777777778,
              "#fb9f3a"
             ],
             [
              0.8888888888888888,
              "#fdca26"
             ],
             [
              1,
              "#f0f921"
             ]
            ],
            "type": "surface"
           }
          ],
          "table": [
           {
            "cells": {
             "fill": {
              "color": "#EBF0F8"
             },
             "line": {
              "color": "white"
             }
            },
            "header": {
             "fill": {
              "color": "#C8D4E3"
             },
             "line": {
              "color": "white"
             }
            },
            "type": "table"
           }
          ]
         },
         "layout": {
          "annotationdefaults": {
           "arrowcolor": "#2a3f5f",
           "arrowhead": 0,
           "arrowwidth": 1
          },
          "autotypenumbers": "strict",
          "coloraxis": {
           "colorbar": {
            "outlinewidth": 0,
            "ticks": ""
           }
          },
          "colorscale": {
           "diverging": [
            [
             0,
             "#8e0152"
            ],
            [
             0.1,
             "#c51b7d"
            ],
            [
             0.2,
             "#de77ae"
            ],
            [
             0.3,
             "#f1b6da"
            ],
            [
             0.4,
             "#fde0ef"
            ],
            [
             0.5,
             "#f7f7f7"
            ],
            [
             0.6,
             "#e6f5d0"
            ],
            [
             0.7,
             "#b8e186"
            ],
            [
             0.8,
             "#7fbc41"
            ],
            [
             0.9,
             "#4d9221"
            ],
            [
             1,
             "#276419"
            ]
           ],
           "sequential": [
            [
             0,
             "#0d0887"
            ],
            [
             0.1111111111111111,
             "#46039f"
            ],
            [
             0.2222222222222222,
             "#7201a8"
            ],
            [
             0.3333333333333333,
             "#9c179e"
            ],
            [
             0.4444444444444444,
             "#bd3786"
            ],
            [
             0.5555555555555556,
             "#d8576b"
            ],
            [
             0.6666666666666666,
             "#ed7953"
            ],
            [
             0.7777777777777778,
             "#fb9f3a"
            ],
            [
             0.8888888888888888,
             "#fdca26"
            ],
            [
             1,
             "#f0f921"
            ]
           ],
           "sequentialminus": [
            [
             0,
             "#0d0887"
            ],
            [
             0.1111111111111111,
             "#46039f"
            ],
            [
             0.2222222222222222,
             "#7201a8"
            ],
            [
             0.3333333333333333,
             "#9c179e"
            ],
            [
             0.4444444444444444,
             "#bd3786"
            ],
            [
             0.5555555555555556,
             "#d8576b"
            ],
            [
             0.6666666666666666,
             "#ed7953"
            ],
            [
             0.7777777777777778,
             "#fb9f3a"
            ],
            [
             0.8888888888888888,
             "#fdca26"
            ],
            [
             1,
             "#f0f921"
            ]
           ]
          },
          "colorway": [
           "#636efa",
           "#EF553B",
           "#00cc96",
           "#ab63fa",
           "#FFA15A",
           "#19d3f3",
           "#FF6692",
           "#B6E880",
           "#FF97FF",
           "#FECB52"
          ],
          "font": {
           "color": "#2a3f5f"
          },
          "geo": {
           "bgcolor": "white",
           "lakecolor": "white",
           "landcolor": "#E5ECF6",
           "showlakes": true,
           "showland": true,
           "subunitcolor": "white"
          },
          "hoverlabel": {
           "align": "left"
          },
          "hovermode": "closest",
          "mapbox": {
           "style": "light"
          },
          "paper_bgcolor": "white",
          "plot_bgcolor": "#E5ECF6",
          "polar": {
           "angularaxis": {
            "gridcolor": "white",
            "linecolor": "white",
            "ticks": ""
           },
           "bgcolor": "#E5ECF6",
           "radialaxis": {
            "gridcolor": "white",
            "linecolor": "white",
            "ticks": ""
           }
          },
          "scene": {
           "xaxis": {
            "backgroundcolor": "#E5ECF6",
            "gridcolor": "white",
            "gridwidth": 2,
            "linecolor": "white",
            "showbackground": true,
            "ticks": "",
            "zerolinecolor": "white"
           },
           "yaxis": {
            "backgroundcolor": "#E5ECF6",
            "gridcolor": "white",
            "gridwidth": 2,
            "linecolor": "white",
            "showbackground": true,
            "ticks": "",
            "zerolinecolor": "white"
           },
           "zaxis": {
            "backgroundcolor": "#E5ECF6",
            "gridcolor": "white",
            "gridwidth": 2,
            "linecolor": "white",
            "showbackground": true,
            "ticks": "",
            "zerolinecolor": "white"
           }
          },
          "shapedefaults": {
           "line": {
            "color": "#2a3f5f"
           }
          },
          "ternary": {
           "aaxis": {
            "gridcolor": "white",
            "linecolor": "white",
            "ticks": ""
           },
           "baxis": {
            "gridcolor": "white",
            "linecolor": "white",
            "ticks": ""
           },
           "bgcolor": "#E5ECF6",
           "caxis": {
            "gridcolor": "white",
            "linecolor": "white",
            "ticks": ""
           }
          },
          "title": {
           "x": 0.05
          },
          "xaxis": {
           "automargin": true,
           "gridcolor": "white",
           "linecolor": "white",
           "ticks": "",
           "title": {
            "standoff": 15
           },
           "zerolinecolor": "white",
           "zerolinewidth": 2
          },
          "yaxis": {
           "automargin": true,
           "gridcolor": "white",
           "linecolor": "white",
           "ticks": "",
           "title": {
            "standoff": 15
           },
           "zerolinecolor": "white",
           "zerolinewidth": 2
          }
         }
        }
       }
      },
      "text/html": [
       "<div>                            <div id=\"cbbc0d7b-81fc-4c1f-8936-f0750b4746d2\" class=\"plotly-graph-div\" style=\"height:525px; width:100%;\"></div>            <script type=\"text/javascript\">                require([\"plotly\"], function(Plotly) {                    window.PLOTLYENV=window.PLOTLYENV || {};                                    if (document.getElementById(\"cbbc0d7b-81fc-4c1f-8936-f0750b4746d2\")) {                    Plotly.newPlot(                        \"cbbc0d7b-81fc-4c1f-8936-f0750b4746d2\",                        [{\"hovertemplate\":\"x=%{x}<br>y=%{y}<br>z=%{z}<extra></extra>\",\"legendgroup\":\"\",\"marker\":{\"color\":\"#636efa\",\"symbol\":\"circle\"},\"mode\":\"markers\",\"name\":\"\",\"scene\":\"scene\",\"showlegend\":false,\"x\":[-0.6889048084719964,0.7330244009067299,2.471038286409753,-0.192704657339136,4.163111453715713,-0.9767831602311421,2.6443192989999664,3.994516133334929,1.6016472634194514,1.5873027227767649,-1.3316770649481797,3.204290817532164,1.9895840184036029,-1.2915276539987621,-0.9297489035707711,-0.14333666222137387,3.013390663257262,4.117909882085669,-1.8481449171992548,3.9148199261457357,3.219978769405257,1.086621525936999,-2.7952941459247715,-0.5109213697028681,-0.549445022833309,3.143590032164167,3.4757520126554597,3.94574878700678,3.2966868687708093,0.42287749073814496,-1.5653030737522158,0.5900897939165182,3.9308694635475723,1.3006083486899405,1.1008248242860934,-0.6841080340767336,3.29259225992229,1.3806167327223147,1.3434641361614919,1.557517312389746,-0.8146045435357725,-2.0234570035122057,3.309369212372909,1.815278532566456,-1.0242238330015851,2.875532762499679,0.08940707150009253,3.5252102805845675,2.492928893849772,-2.3002518957596494,-0.7145866129380525,-1.66074780337939,1.539229647615886,2.7732109495866943,-1.807656216698755,0.3669712239484717,-2.2158092468770563,2.384531798353544,1.4577357966017326,0.7022141508023663,-0.8832235580952765,1.2113227498113517,1.439693848417245,-0.153033141614209,2.5962222729850373,1.7177218663091969,-1.3242706599182248,2.7539655414766324,3.432390011267702,3.731248482155811,3.48250286444478,-0.852920647567611,1.5294864053116823,-0.9907758585520512,3.0574243883306114,-1.2329655297992135,1.4141189583518718,1.680005650834949,-1.2956991613597362,-2.4881077368417297,-0.4182120040927755,-1.2271428900850054,2.3282357730110412,-1.746296437273364,2.7403657045172514,-1.1007905719149496,-1.5537651866432038,2.3911985738769355,-2.1497467935972567,-2.423398835010486,2.556644270715278,-0.13870696498754587,2.218552968085576,-0.9959790271970728,3.4632133995893355,0.2451561845164716,2.3960349379179524,-1.032522331392316,-1.5764176384618023,1.8644484190613353],\"y\":[0.08341301179471916,3.5818270377900996,-1.9006407590301044,-1.8894083411828304,1.7540457080017529,0.9120460590089663,1.3208072672751774,2.456495750655354,-1.2933848511270594,-0.9024600030663001,0.15077361672628964,0.23328057705299932,3.862622308672771,-2.1801160257531333,1.47740723129143,0.9075190448068371,-0.6633866199746921,2.7247087999839286,-2.070158631504306,0.5916388744583934,-1.2631655490995213,-0.7566881116287045,0.9360336688786228,-2.0830019888468914,-2.5609090124281106,-1.235426315649788,3.6286306552910483,-0.9006913857589858,-0.8700038887685859,3.4106308784269626,1.1548941946206157,2.216124036763425,0.4232655278718944,-1.3177151607561204,4.105412699701464,1.4803486658783838,-0.0747674628897701,-0.7412322751249629,-1.4013364640156278,3.789803648998105,-2.3587016374549474,3.153956008535574,-0.18509572048000278,-2.161509881719832,3.1316894164107634,4.128318628914099,0.34973470566377873,3.0256975896803437,2.988332015425204,2.1130336958696017,-1.1914092345566256,1.3266746812149863,0.5860456305015633,-1.1146052138538263,2.3686962901375184,3.486204802286454,3.6369085558637115,3.959852886048729,-2.6847549784844214,2.4144360116838044,3.258959039468902,-2.4276462865981085,0.39708877364543804,-1.9309791018470663,-1.3768696738111732,-0.2758961488137106,2.552845831735759,3.315161767151804,2.3876666225039838,-0.7388058757330467,4.194057749507425,-2.393087719516738,-1.6231044195700082,-1.5875319573842166,4.076028278896524,-1.896074361784637,4.149993052366452,1.5448059707878272,3.484512392422027,1.400101961562525,0.09648048616703209,-0.6021370131969204,-0.7911303711437352,-2.6078882188815777,3.0241886585613686,0.4953704220007076,3.8371998597683517,2.3082750836814583,1.4477099479399165,-0.13897617234179194,1.1217691171964184,1.8441485166442932,3.5437008964747747,-0.2200092436875094,2.636483074906729,2.494506612811276,2.9735838300847286,2.9208452166861587,2.544047136974336,-1.0803039150102671],\"z\":[3.5514207361866745,15.656226724691972,11.95142388953213,4.074442052819532,24.80889297982059,3.028625152531317,12.223301935161762,26.36000281081346,5.382512170705803,5.626979899441302,3.801215965164896,12.057603358669748,24.439071771597966,8.38100559976195,3.9490145128056717,3.4771418979924746,12.126324363732481,29.18082056306928,7.663217715954353,19.021033619079155,14.749761676568301,3.0391995490266637,10.671464792166013,6.457609096739157,9.236760360048164,12.540401322391785,32.27598293368252,17.071289493059723,13.194029814379935,13.989874039811545,5.6463486385794885,7.544275812287227,18.64234477185164,5.249660032590503,19.68679451336303,4.822216359941411,13.605227338384916,2.5572870775208907,5.378767913681742,19.687893457680516,6.86330517370563,15.55307877744635,11.52723367693952,9.234716104586909,13.751127271752978,30.31037371298423,1.739403817107,26.25500356857441,18.896543724050726,11.078919973746602,4.2023486529382135,5.167485954493984,4.70324635854277,9.376962080504182,8.528843645926486,15.815095398394345,18.919466964930514,25.891578349888324,10.781825764735926,10.113480854765811,13.198818783858805,7.612285449411755,3.8309005725553993,5.2051315870540815,10.117965057078202,4.962140054024633,8.671347026759623,20.888474751747587,22.1231193740219,16.127196439810646,35.15962837610028,7.498084345767705,6.935581378178579,5.287349005848102,32.124551113850785,6.717673562296705,23.630962795738697,8.517372090125201,14.911507940343439,10.078937326791493,1.3516198395415313,2.4451657169476064,8.059720608747824,9.935558093688236,20.477494559001578,1.8111202373165665,19.167511484436094,14.350186761674212,8.454673847805267,8.874926417691793,11.922250064363213,6.055966236230868,20.284345541743498,2.7838590616175525,23.678544120479227,8.628421058291183,17.78653393551518,11.974482583238265,9.301573350195952,6.151120027672731],\"type\":\"scatter3d\"},{\"x\":[-2.7952941459247715,-2.0221379681869402,-1.2489817904491085,-0.4758256127112772,0.2973305650265545,1.0704867427643863,1.8436429205022171,2.616799098240049,3.3899552759778806,4.163111453715713],\"y\":[-2.6847549784844214,-1.9204424531519941,-1.1561299278195667,-0.39181740248713925,0.37249512284528796,1.1368076481777152,1.9011201735101428,2.6654326988425696,3.4297452241749973,4.194057749507425],\"z\":[[12.151835519827582,12.167546782906058,12.183258045984536,12.198969309063013,12.21468057214149,12.230391835219967,12.246103098298445,12.261814361376922,12.277525624455398,12.293236887533876],[12.119056975359534,12.134768238438012,12.15047950151649,12.166190764594967,12.181902027673443,12.19761329075192,12.213324553830399,12.229035816908876,12.244747079987352,12.26045834306583],[12.086278430891488,12.101989693969966,12.117700957048443,12.13341222012692,12.149123483205397,12.164834746283875,12.180546009362352,12.196257272440828,12.211968535519306,12.227679798597784],[12.053499886423442,12.06921114950192,12.084922412580395,12.100633675658873,12.11634493873735,12.132056201815828,12.147767464894304,12.163478727972782,12.17918999105126,12.194901254129737],[12.020721341955396,12.036432605033871,12.05214386811235,12.067855131190827,12.083566394269305,12.09927765734778,12.114988920426258,12.130700183504736,12.146411446583214,12.16212270966169],[11.98794279748735,12.003654060565825,12.019365323644303,12.03507658672278,12.050787849801258,12.066499112879734,12.082210375958212,12.09792163903669,12.113632902115166,12.129344165193643],[11.955164253019301,11.97087551609778,11.986586779176257,12.002298042254735,12.01800930533321,12.033720568411688,12.049431831490166,12.065143094568644,12.08085435764712,12.096565620725597],[11.922385708551255,11.938096971629733,11.95380823470821,11.969519497786687,11.985230760865164,12.000942023943642,12.01665328702212,12.032364550100596,12.048075813179073,12.063787076257551],[11.889607164083209,11.905318427161687,11.921029690240163,11.93674095331864,11.952452216397118,11.968163479475596,11.983874742554072,11.99958600563255,12.015297268711027,12.031008531789505],[11.856828619615163,11.872539882693639,11.888251145772117,11.903962408850594,11.919673671929072,11.935384935007548,11.951096198086026,11.966807461164503,11.982518724242981,11.998229987321457]],\"type\":\"surface\"}],                        {\"template\":{\"data\":{\"bar\":[{\"error_x\":{\"color\":\"#2a3f5f\"},\"error_y\":{\"color\":\"#2a3f5f\"},\"marker\":{\"line\":{\"color\":\"#E5ECF6\",\"width\":0.5},\"pattern\":{\"fillmode\":\"overlay\",\"size\":10,\"solidity\":0.2}},\"type\":\"bar\"}],\"barpolar\":[{\"marker\":{\"line\":{\"color\":\"#E5ECF6\",\"width\":0.5},\"pattern\":{\"fillmode\":\"overlay\",\"size\":10,\"solidity\":0.2}},\"type\":\"barpolar\"}],\"carpet\":[{\"aaxis\":{\"endlinecolor\":\"#2a3f5f\",\"gridcolor\":\"white\",\"linecolor\":\"white\",\"minorgridcolor\":\"white\",\"startlinecolor\":\"#2a3f5f\"},\"baxis\":{\"endlinecolor\":\"#2a3f5f\",\"gridcolor\":\"white\",\"linecolor\":\"white\",\"minorgridcolor\":\"white\",\"startlinecolor\":\"#2a3f5f\"},\"type\":\"carpet\"}],\"choropleth\":[{\"colorbar\":{\"outlinewidth\":0,\"ticks\":\"\"},\"type\":\"choropleth\"}],\"contour\":[{\"colorbar\":{\"outlinewidth\":0,\"ticks\":\"\"},\"colorscale\":[[0.0,\"#0d0887\"],[0.1111111111111111,\"#46039f\"],[0.2222222222222222,\"#7201a8\"],[0.3333333333333333,\"#9c179e\"],[0.4444444444444444,\"#bd3786\"],[0.5555555555555556,\"#d8576b\"],[0.6666666666666666,\"#ed7953\"],[0.7777777777777778,\"#fb9f3a\"],[0.8888888888888888,\"#fdca26\"],[1.0,\"#f0f921\"]],\"type\":\"contour\"}],\"contourcarpet\":[{\"colorbar\":{\"outlinewidth\":0,\"ticks\":\"\"},\"type\":\"contourcarpet\"}],\"heatmap\":[{\"colorbar\":{\"outlinewidth\":0,\"ticks\":\"\"},\"colorscale\":[[0.0,\"#0d0887\"],[0.1111111111111111,\"#46039f\"],[0.2222222222222222,\"#7201a8\"],[0.3333333333333333,\"#9c179e\"],[0.4444444444444444,\"#bd3786\"],[0.5555555555555556,\"#d8576b\"],[0.6666666666666666,\"#ed7953\"],[0.7777777777777778,\"#fb9f3a\"],[0.8888888888888888,\"#fdca26\"],[1.0,\"#f0f921\"]],\"type\":\"heatmap\"}],\"heatmapgl\":[{\"colorbar\":{\"outlinewidth\":0,\"ticks\":\"\"},\"colorscale\":[[0.0,\"#0d0887\"],[0.1111111111111111,\"#46039f\"],[0.2222222222222222,\"#7201a8\"],[0.3333333333333333,\"#9c179e\"],[0.4444444444444444,\"#bd3786\"],[0.5555555555555556,\"#d8576b\"],[0.6666666666666666,\"#ed7953\"],[0.7777777777777778,\"#fb9f3a\"],[0.8888888888888888,\"#fdca26\"],[1.0,\"#f0f921\"]],\"type\":\"heatmapgl\"}],\"histogram\":[{\"marker\":{\"pattern\":{\"fillmode\":\"overlay\",\"size\":10,\"solidity\":0.2}},\"type\":\"histogram\"}],\"histogram2d\":[{\"colorbar\":{\"outlinewidth\":0,\"ticks\":\"\"},\"colorscale\":[[0.0,\"#0d0887\"],[0.1111111111111111,\"#46039f\"],[0.2222222222222222,\"#7201a8\"],[0.3333333333333333,\"#9c179e\"],[0.4444444444444444,\"#bd3786\"],[0.5555555555555556,\"#d8576b\"],[0.6666666666666666,\"#ed7953\"],[0.7777777777777778,\"#fb9f3a\"],[0.8888888888888888,\"#fdca26\"],[1.0,\"#f0f921\"]],\"type\":\"histogram2d\"}],\"histogram2dcontour\":[{\"colorbar\":{\"outlinewidth\":0,\"ticks\":\"\"},\"colorscale\":[[0.0,\"#0d0887\"],[0.1111111111111111,\"#46039f\"],[0.2222222222222222,\"#7201a8\"],[0.3333333333333333,\"#9c179e\"],[0.4444444444444444,\"#bd3786\"],[0.5555555555555556,\"#d8576b\"],[0.6666666666666666,\"#ed7953\"],[0.7777777777777778,\"#fb9f3a\"],[0.8888888888888888,\"#fdca26\"],[1.0,\"#f0f921\"]],\"type\":\"histogram2dcontour\"}],\"mesh3d\":[{\"colorbar\":{\"outlinewidth\":0,\"ticks\":\"\"},\"type\":\"mesh3d\"}],\"parcoords\":[{\"line\":{\"colorbar\":{\"outlinewidth\":0,\"ticks\":\"\"}},\"type\":\"parcoords\"}],\"pie\":[{\"automargin\":true,\"type\":\"pie\"}],\"scatter\":[{\"marker\":{\"colorbar\":{\"outlinewidth\":0,\"ticks\":\"\"}},\"type\":\"scatter\"}],\"scatter3d\":[{\"line\":{\"colorbar\":{\"outlinewidth\":0,\"ticks\":\"\"}},\"marker\":{\"colorbar\":{\"outlinewidth\":0,\"ticks\":\"\"}},\"type\":\"scatter3d\"}],\"scattercarpet\":[{\"marker\":{\"colorbar\":{\"outlinewidth\":0,\"ticks\":\"\"}},\"type\":\"scattercarpet\"}],\"scattergeo\":[{\"marker\":{\"colorbar\":{\"outlinewidth\":0,\"ticks\":\"\"}},\"type\":\"scattergeo\"}],\"scattergl\":[{\"marker\":{\"colorbar\":{\"outlinewidth\":0,\"ticks\":\"\"}},\"type\":\"scattergl\"}],\"scattermapbox\":[{\"marker\":{\"colorbar\":{\"outlinewidth\":0,\"ticks\":\"\"}},\"type\":\"scattermapbox\"}],\"scatterpolar\":[{\"marker\":{\"colorbar\":{\"outlinewidth\":0,\"ticks\":\"\"}},\"type\":\"scatterpolar\"}],\"scatterpolargl\":[{\"marker\":{\"colorbar\":{\"outlinewidth\":0,\"ticks\":\"\"}},\"type\":\"scatterpolargl\"}],\"scatterternary\":[{\"marker\":{\"colorbar\":{\"outlinewidth\":0,\"ticks\":\"\"}},\"type\":\"scatterternary\"}],\"surface\":[{\"colorbar\":{\"outlinewidth\":0,\"ticks\":\"\"},\"colorscale\":[[0.0,\"#0d0887\"],[0.1111111111111111,\"#46039f\"],[0.2222222222222222,\"#7201a8\"],[0.3333333333333333,\"#9c179e\"],[0.4444444444444444,\"#bd3786\"],[0.5555555555555556,\"#d8576b\"],[0.6666666666666666,\"#ed7953\"],[0.7777777777777778,\"#fb9f3a\"],[0.8888888888888888,\"#fdca26\"],[1.0,\"#f0f921\"]],\"type\":\"surface\"}],\"table\":[{\"cells\":{\"fill\":{\"color\":\"#EBF0F8\"},\"line\":{\"color\":\"white\"}},\"header\":{\"fill\":{\"color\":\"#C8D4E3\"},\"line\":{\"color\":\"white\"}},\"type\":\"table\"}]},\"layout\":{\"annotationdefaults\":{\"arrowcolor\":\"#2a3f5f\",\"arrowhead\":0,\"arrowwidth\":1},\"autotypenumbers\":\"strict\",\"coloraxis\":{\"colorbar\":{\"outlinewidth\":0,\"ticks\":\"\"}},\"colorscale\":{\"diverging\":[[0,\"#8e0152\"],[0.1,\"#c51b7d\"],[0.2,\"#de77ae\"],[0.3,\"#f1b6da\"],[0.4,\"#fde0ef\"],[0.5,\"#f7f7f7\"],[0.6,\"#e6f5d0\"],[0.7,\"#b8e186\"],[0.8,\"#7fbc41\"],[0.9,\"#4d9221\"],[1,\"#276419\"]],\"sequential\":[[0.0,\"#0d0887\"],[0.1111111111111111,\"#46039f\"],[0.2222222222222222,\"#7201a8\"],[0.3333333333333333,\"#9c179e\"],[0.4444444444444444,\"#bd3786\"],[0.5555555555555556,\"#d8576b\"],[0.6666666666666666,\"#ed7953\"],[0.7777777777777778,\"#fb9f3a\"],[0.8888888888888888,\"#fdca26\"],[1.0,\"#f0f921\"]],\"sequentialminus\":[[0.0,\"#0d0887\"],[0.1111111111111111,\"#46039f\"],[0.2222222222222222,\"#7201a8\"],[0.3333333333333333,\"#9c179e\"],[0.4444444444444444,\"#bd3786\"],[0.5555555555555556,\"#d8576b\"],[0.6666666666666666,\"#ed7953\"],[0.7777777777777778,\"#fb9f3a\"],[0.8888888888888888,\"#fdca26\"],[1.0,\"#f0f921\"]]},\"colorway\":[\"#636efa\",\"#EF553B\",\"#00cc96\",\"#ab63fa\",\"#FFA15A\",\"#19d3f3\",\"#FF6692\",\"#B6E880\",\"#FF97FF\",\"#FECB52\"],\"font\":{\"color\":\"#2a3f5f\"},\"geo\":{\"bgcolor\":\"white\",\"lakecolor\":\"white\",\"landcolor\":\"#E5ECF6\",\"showlakes\":true,\"showland\":true,\"subunitcolor\":\"white\"},\"hoverlabel\":{\"align\":\"left\"},\"hovermode\":\"closest\",\"mapbox\":{\"style\":\"light\"},\"paper_bgcolor\":\"white\",\"plot_bgcolor\":\"#E5ECF6\",\"polar\":{\"angularaxis\":{\"gridcolor\":\"white\",\"linecolor\":\"white\",\"ticks\":\"\"},\"bgcolor\":\"#E5ECF6\",\"radialaxis\":{\"gridcolor\":\"white\",\"linecolor\":\"white\",\"ticks\":\"\"}},\"scene\":{\"xaxis\":{\"backgroundcolor\":\"#E5ECF6\",\"gridcolor\":\"white\",\"gridwidth\":2,\"linecolor\":\"white\",\"showbackground\":true,\"ticks\":\"\",\"zerolinecolor\":\"white\"},\"yaxis\":{\"backgroundcolor\":\"#E5ECF6\",\"gridcolor\":\"white\",\"gridwidth\":2,\"linecolor\":\"white\",\"showbackground\":true,\"ticks\":\"\",\"zerolinecolor\":\"white\"},\"zaxis\":{\"backgroundcolor\":\"#E5ECF6\",\"gridcolor\":\"white\",\"gridwidth\":2,\"linecolor\":\"white\",\"showbackground\":true,\"ticks\":\"\",\"zerolinecolor\":\"white\"}},\"shapedefaults\":{\"line\":{\"color\":\"#2a3f5f\"}},\"ternary\":{\"aaxis\":{\"gridcolor\":\"white\",\"linecolor\":\"white\",\"ticks\":\"\"},\"baxis\":{\"gridcolor\":\"white\",\"linecolor\":\"white\",\"ticks\":\"\"},\"bgcolor\":\"#E5ECF6\",\"caxis\":{\"gridcolor\":\"white\",\"linecolor\":\"white\",\"ticks\":\"\"}},\"title\":{\"x\":0.05},\"xaxis\":{\"automargin\":true,\"gridcolor\":\"white\",\"linecolor\":\"white\",\"ticks\":\"\",\"title\":{\"standoff\":15},\"zerolinecolor\":\"white\",\"zerolinewidth\":2},\"yaxis\":{\"automargin\":true,\"gridcolor\":\"white\",\"linecolor\":\"white\",\"ticks\":\"\",\"title\":{\"standoff\":15},\"zerolinecolor\":\"white\",\"zerolinewidth\":2}}},\"scene\":{\"domain\":{\"x\":[0.0,1.0],\"y\":[0.0,1.0]},\"xaxis\":{\"title\":{\"text\":\"x\"}},\"yaxis\":{\"title\":{\"text\":\"y\"}},\"zaxis\":{\"title\":{\"text\":\"z\"}}},\"legend\":{\"tracegroupgap\":0},\"margin\":{\"t\":60}},                        {\"responsive\": true}                    ).then(function(){\n",
       "                            \n",
       "var gd = document.getElementById('cbbc0d7b-81fc-4c1f-8936-f0750b4746d2');\n",
       "var x = new MutationObserver(function (mutations, observer) {{\n",
       "        var display = window.getComputedStyle(gd).display;\n",
       "        if (!display || display === 'none') {{\n",
       "            console.log([gd, 'removed!']);\n",
       "            Plotly.purge(gd);\n",
       "            observer.disconnect();\n",
       "        }}\n",
       "}});\n",
       "\n",
       "// Listen for the removal of the full notebook cells\n",
       "var notebookContainer = gd.closest('#notebook-container');\n",
       "if (notebookContainer) {{\n",
       "    x.observe(notebookContainer, {childList: true});\n",
       "}}\n",
       "\n",
       "// Listen for the clearing of the current output cell\n",
       "var outputEl = gd.closest('.output');\n",
       "if (outputEl) {{\n",
       "    x.observe(outputEl, {childList: true});\n",
       "}}\n",
       "\n",
       "                        })                };                });            </script>        </div>"
      ]
     },
     "metadata": {},
     "output_type": "display_data"
    }
   ],
   "source": [
    "import plotly.graph_objects as go\n",
    "\n",
    "fig = px.scatter_3d(df, x=x.ravel(), y=y.ravel(), z=z.ravel())\n",
    "fig.add_trace(go.Surface(x = x_input, y = y_input, z =z_final ))\n",
    "\n",
    "fig.show()\n"
   ]
  },
  {
   "cell_type": "code",
   "execution_count": 35,
   "id": "f836bf23",
   "metadata": {},
   "outputs": [
    {
     "data": {
      "text/plain": [
       "(100, 2)"
      ]
     },
     "execution_count": 35,
     "metadata": {},
     "output_type": "execute_result"
    }
   ],
   "source": [
    "X_multi = np.array([x,y]).reshape(100,2)\n",
    "X_multi.shape"
   ]
  },
  {
   "cell_type": "code",
   "execution_count": 52,
   "id": "377b8f31",
   "metadata": {},
   "outputs": [],
   "source": [
    "poly = PolynomialFeatures(degree=8)\n",
    "X_multi_trans = poly.fit_transform(X_multi)"
   ]
  },
  {
   "cell_type": "code",
   "execution_count": 53,
   "id": "4602f9ff",
   "metadata": {},
   "outputs": [
    {
     "name": "stdout",
     "output_type": "stream",
     "text": [
      "Input 2\n",
      "Ouput 45\n",
      "Powers\n",
      " [[0 0]\n",
      " [1 0]\n",
      " [0 1]\n",
      " [2 0]\n",
      " [1 1]\n",
      " [0 2]\n",
      " [3 0]\n",
      " [2 1]\n",
      " [1 2]\n",
      " [0 3]\n",
      " [4 0]\n",
      " [3 1]\n",
      " [2 2]\n",
      " [1 3]\n",
      " [0 4]\n",
      " [5 0]\n",
      " [4 1]\n",
      " [3 2]\n",
      " [2 3]\n",
      " [1 4]\n",
      " [0 5]\n",
      " [6 0]\n",
      " [5 1]\n",
      " [4 2]\n",
      " [3 3]\n",
      " [2 4]\n",
      " [1 5]\n",
      " [0 6]\n",
      " [7 0]\n",
      " [6 1]\n",
      " [5 2]\n",
      " [4 3]\n",
      " [3 4]\n",
      " [2 5]\n",
      " [1 6]\n",
      " [0 7]\n",
      " [8 0]\n",
      " [7 1]\n",
      " [6 2]\n",
      " [5 3]\n",
      " [4 4]\n",
      " [3 5]\n",
      " [2 6]\n",
      " [1 7]\n",
      " [0 8]]\n"
     ]
    },
    {
     "name": "stderr",
     "output_type": "stream",
     "text": [
      "C:\\Users\\Sayali Ambure\\anaconda3\\lib\\site-packages\\sklearn\\utils\\deprecation.py:103: FutureWarning:\n",
      "\n",
      "The attribute `n_input_features_` was deprecated in version 1.0 and will be removed in 1.2.\n",
      "\n"
     ]
    }
   ],
   "source": [
    "print(\"Input\",poly.n_input_features_)\n",
    "print(\"Ouput\",poly.n_output_features_)\n",
    "print(\"Powers\\n\",poly.powers_)"
   ]
  },
  {
   "cell_type": "code",
   "execution_count": 54,
   "id": "de622d3e",
   "metadata": {},
   "outputs": [
    {
     "data": {
      "text/plain": [
       "(100, 45)"
      ]
     },
     "execution_count": 54,
     "metadata": {},
     "output_type": "execute_result"
    }
   ],
   "source": [
    "X_multi_trans.shape"
   ]
  },
  {
   "cell_type": "code",
   "execution_count": 55,
   "id": "4efc8ea4",
   "metadata": {},
   "outputs": [
    {
     "data": {
      "text/plain": [
       "LinearRegression()"
      ]
     },
     "execution_count": 55,
     "metadata": {},
     "output_type": "execute_result"
    }
   ],
   "source": [
    "lr = LinearRegression()\n",
    "lr.fit(X_multi_trans,z)"
   ]
  },
  {
   "cell_type": "code",
   "execution_count": 56,
   "id": "04e25f88",
   "metadata": {},
   "outputs": [],
   "source": [
    "X_test_multi = poly.transform(final)"
   ]
  },
  {
   "cell_type": "code",
   "execution_count": 57,
   "id": "948d2784",
   "metadata": {},
   "outputs": [],
   "source": [
    "z_final = lr.predict(X_multi_trans).reshape(10,10)"
   ]
  },
  {
   "cell_type": "code",
   "execution_count": 58,
   "id": "c668b6eb",
   "metadata": {},
   "outputs": [
    {
     "data": {
      "application/vnd.plotly.v1+json": {
       "config": {
        "plotlyServerURL": "https://plot.ly"
       },
       "data": [
        {
         "hovertemplate": "x=%{x}<br>y=%{y}<br>z=%{z}<extra></extra>",
         "legendgroup": "",
         "marker": {
          "color": "#636efa",
          "symbol": "circle"
         },
         "mode": "markers",
         "name": "",
         "scene": "scene",
         "showlegend": false,
         "type": "scatter3d",
         "x": [
          -0.6889048084719964,
          0.7330244009067299,
          2.471038286409753,
          -0.192704657339136,
          4.163111453715713,
          -0.9767831602311421,
          2.6443192989999664,
          3.994516133334929,
          1.6016472634194514,
          1.5873027227767649,
          -1.3316770649481797,
          3.204290817532164,
          1.9895840184036029,
          -1.2915276539987621,
          -0.9297489035707711,
          -0.14333666222137387,
          3.013390663257262,
          4.117909882085669,
          -1.8481449171992548,
          3.9148199261457357,
          3.219978769405257,
          1.086621525936999,
          -2.7952941459247715,
          -0.5109213697028681,
          -0.549445022833309,
          3.143590032164167,
          3.4757520126554597,
          3.94574878700678,
          3.2966868687708093,
          0.42287749073814496,
          -1.5653030737522158,
          0.5900897939165182,
          3.9308694635475723,
          1.3006083486899405,
          1.1008248242860934,
          -0.6841080340767336,
          3.29259225992229,
          1.3806167327223147,
          1.3434641361614919,
          1.557517312389746,
          -0.8146045435357725,
          -2.0234570035122057,
          3.309369212372909,
          1.815278532566456,
          -1.0242238330015851,
          2.875532762499679,
          0.08940707150009253,
          3.5252102805845675,
          2.492928893849772,
          -2.3002518957596494,
          -0.7145866129380525,
          -1.66074780337939,
          1.539229647615886,
          2.7732109495866943,
          -1.807656216698755,
          0.3669712239484717,
          -2.2158092468770563,
          2.384531798353544,
          1.4577357966017326,
          0.7022141508023663,
          -0.8832235580952765,
          1.2113227498113517,
          1.439693848417245,
          -0.153033141614209,
          2.5962222729850373,
          1.7177218663091969,
          -1.3242706599182248,
          2.7539655414766324,
          3.432390011267702,
          3.731248482155811,
          3.48250286444478,
          -0.852920647567611,
          1.5294864053116823,
          -0.9907758585520512,
          3.0574243883306114,
          -1.2329655297992135,
          1.4141189583518718,
          1.680005650834949,
          -1.2956991613597362,
          -2.4881077368417297,
          -0.4182120040927755,
          -1.2271428900850054,
          2.3282357730110412,
          -1.746296437273364,
          2.7403657045172514,
          -1.1007905719149496,
          -1.5537651866432038,
          2.3911985738769355,
          -2.1497467935972567,
          -2.423398835010486,
          2.556644270715278,
          -0.13870696498754587,
          2.218552968085576,
          -0.9959790271970728,
          3.4632133995893355,
          0.2451561845164716,
          2.3960349379179524,
          -1.032522331392316,
          -1.5764176384618023,
          1.8644484190613353
         ],
         "y": [
          0.08341301179471916,
          3.5818270377900996,
          -1.9006407590301044,
          -1.8894083411828304,
          1.7540457080017529,
          0.9120460590089663,
          1.3208072672751774,
          2.456495750655354,
          -1.2933848511270594,
          -0.9024600030663001,
          0.15077361672628964,
          0.23328057705299932,
          3.862622308672771,
          -2.1801160257531333,
          1.47740723129143,
          0.9075190448068371,
          -0.6633866199746921,
          2.7247087999839286,
          -2.070158631504306,
          0.5916388744583934,
          -1.2631655490995213,
          -0.7566881116287045,
          0.9360336688786228,
          -2.0830019888468914,
          -2.5609090124281106,
          -1.235426315649788,
          3.6286306552910483,
          -0.9006913857589858,
          -0.8700038887685859,
          3.4106308784269626,
          1.1548941946206157,
          2.216124036763425,
          0.4232655278718944,
          -1.3177151607561204,
          4.105412699701464,
          1.4803486658783838,
          -0.0747674628897701,
          -0.7412322751249629,
          -1.4013364640156278,
          3.789803648998105,
          -2.3587016374549474,
          3.153956008535574,
          -0.18509572048000278,
          -2.161509881719832,
          3.1316894164107634,
          4.128318628914099,
          0.34973470566377873,
          3.0256975896803437,
          2.988332015425204,
          2.1130336958696017,
          -1.1914092345566256,
          1.3266746812149863,
          0.5860456305015633,
          -1.1146052138538263,
          2.3686962901375184,
          3.486204802286454,
          3.6369085558637115,
          3.959852886048729,
          -2.6847549784844214,
          2.4144360116838044,
          3.258959039468902,
          -2.4276462865981085,
          0.39708877364543804,
          -1.9309791018470663,
          -1.3768696738111732,
          -0.2758961488137106,
          2.552845831735759,
          3.315161767151804,
          2.3876666225039838,
          -0.7388058757330467,
          4.194057749507425,
          -2.393087719516738,
          -1.6231044195700082,
          -1.5875319573842166,
          4.076028278896524,
          -1.896074361784637,
          4.149993052366452,
          1.5448059707878272,
          3.484512392422027,
          1.400101961562525,
          0.09648048616703209,
          -0.6021370131969204,
          -0.7911303711437352,
          -2.6078882188815777,
          3.0241886585613686,
          0.4953704220007076,
          3.8371998597683517,
          2.3082750836814583,
          1.4477099479399165,
          -0.13897617234179194,
          1.1217691171964184,
          1.8441485166442932,
          3.5437008964747747,
          -0.2200092436875094,
          2.636483074906729,
          2.494506612811276,
          2.9735838300847286,
          2.9208452166861587,
          2.544047136974336,
          -1.0803039150102671
         ],
         "z": [
          3.5514207361866745,
          15.656226724691972,
          11.95142388953213,
          4.074442052819532,
          24.80889297982059,
          3.028625152531317,
          12.223301935161762,
          26.36000281081346,
          5.382512170705803,
          5.626979899441302,
          3.801215965164896,
          12.057603358669748,
          24.439071771597966,
          8.38100559976195,
          3.9490145128056717,
          3.4771418979924746,
          12.126324363732481,
          29.18082056306928,
          7.663217715954353,
          19.021033619079155,
          14.749761676568301,
          3.0391995490266637,
          10.671464792166013,
          6.457609096739157,
          9.236760360048164,
          12.540401322391785,
          32.27598293368252,
          17.071289493059723,
          13.194029814379935,
          13.989874039811545,
          5.6463486385794885,
          7.544275812287227,
          18.64234477185164,
          5.249660032590503,
          19.68679451336303,
          4.822216359941411,
          13.605227338384916,
          2.5572870775208907,
          5.378767913681742,
          19.687893457680516,
          6.86330517370563,
          15.55307877744635,
          11.52723367693952,
          9.234716104586909,
          13.751127271752978,
          30.31037371298423,
          1.739403817107,
          26.25500356857441,
          18.896543724050726,
          11.078919973746602,
          4.2023486529382135,
          5.167485954493984,
          4.70324635854277,
          9.376962080504182,
          8.528843645926486,
          15.815095398394345,
          18.919466964930514,
          25.891578349888324,
          10.781825764735926,
          10.113480854765811,
          13.198818783858805,
          7.612285449411755,
          3.8309005725553993,
          5.2051315870540815,
          10.117965057078202,
          4.962140054024633,
          8.671347026759623,
          20.888474751747587,
          22.1231193740219,
          16.127196439810646,
          35.15962837610028,
          7.498084345767705,
          6.935581378178579,
          5.287349005848102,
          32.124551113850785,
          6.717673562296705,
          23.630962795738697,
          8.517372090125201,
          14.911507940343439,
          10.078937326791493,
          1.3516198395415313,
          2.4451657169476064,
          8.059720608747824,
          9.935558093688236,
          20.477494559001578,
          1.8111202373165665,
          19.167511484436094,
          14.350186761674212,
          8.454673847805267,
          8.874926417691793,
          11.922250064363213,
          6.055966236230868,
          20.284345541743498,
          2.7838590616175525,
          23.678544120479227,
          8.628421058291183,
          17.78653393551518,
          11.974482583238265,
          9.301573350195952,
          6.151120027672731
         ]
        },
        {
         "type": "surface",
         "x": [
          -2.7952941459247715,
          -2.0221379681869402,
          -1.2489817904491085,
          -0.4758256127112772,
          0.2973305650265545,
          1.0704867427643863,
          1.8436429205022171,
          2.616799098240049,
          3.3899552759778806,
          4.163111453715713
         ],
         "y": [
          -2.6847549784844214,
          -1.9204424531519941,
          -1.1561299278195667,
          -0.39181740248713925,
          0.37249512284528796,
          1.1368076481777152,
          1.9011201735101428,
          2.6654326988425696,
          3.4297452241749973,
          4.194057749507425
         ],
         "z": [
          [
           1.905120849609375,
           26.41063690185547,
           18.29370880126953,
           15.457542419433594,
           17.705787658691406,
           16.405235290527344,
           20.96137237548828,
           9.610443115234375,
           -3.1393203735351562,
           33.5997314453125
          ],
          [
           12.100349426269531,
           51.078033447265625,
           5.63720703125,
           10.129196166992188,
           15.469566345214844,
           11.045509338378906,
           15.298164367675781,
           13.506317138671875,
           9.272773742675781,
           12.738983154296875
          ],
          [
           17.449562072753906,
           8.292190551757812,
           12.537834167480469,
           11.878204345703125,
           -30.90239715576172,
           9.656005859375,
           39.2398681640625,
           23.442535400390625,
           5.56488037109375,
           10.478385925292969
          ],
          [
           0.960235595703125,
           17.208450317382812,
           24.111724853515625,
           13.466049194335938,
           -0.433837890625,
           -1.8485794067382812,
           15.895698547363281,
           19.57123565673828,
           16.045242309570312,
           45.6600341796875
          ],
          [
           8.639183044433594,
           24.765579223632812,
           24.475433349609375,
           7.4420928955078125,
           16.330307006835938,
           25.739456176757812,
           25.36878204345703,
           16.36431121826172,
           26.243247985839844,
           5.1775054931640625
          ],
          [
           9.146385192871094,
           9.26385498046875,
           15.412879943847656,
           31.397865295410156,
           7.069923400878906,
           5.675758361816406,
           38.35413360595703,
           10.184494018554688,
           11.937278747558594,
           49.27995300292969
          ],
          [
           8.012519836425781,
           -29.622299194335938,
           -76.09000396728516,
           -5.7760009765625,
           -5.908721923828125,
           23.672744750976562,
           5.414405822753906,
           16.654922485351562,
           12.066741943359375,
           -15.822273254394531
          ],
          [
           9.2352294921875,
           0.021575927734375,
           -4.1432647705078125,
           26.8564453125,
           17.394790649414062,
           1.9235153198242188,
           7.665962219238281,
           19.553756713867188,
           35.232688903808594,
           22.83045196533203
          ],
          [
           6.436119079589844,
           -7.0628509521484375,
           9.759986877441406,
           8.610260009765625,
           26.09899139404297,
           -1.562103271484375,
           7.869285583496094,
           1.27838134765625,
           15.187294006347656,
           5.73101806640625
          ],
          [
           12.259086608886719,
           4.477027893066406,
           18.202926635742188,
           -6.174201965332031,
           17.246849060058594,
           14.55120849609375,
           11.722099304199219,
           22.540611267089844,
           5.97576904296875,
           26.26287078857422
          ]
         ]
        }
       ],
       "layout": {
        "legend": {
         "tracegroupgap": 0
        },
        "margin": {
         "t": 60
        },
        "scene": {
         "domain": {
          "x": [
           0,
           1
          ],
          "y": [
           0,
           1
          ]
         },
         "xaxis": {
          "title": {
           "text": "x"
          }
         },
         "yaxis": {
          "title": {
           "text": "y"
          }
         },
         "zaxis": {
          "range": [
           0,
           35
          ],
          "title": {
           "text": "z"
          }
         }
        },
        "template": {
         "data": {
          "bar": [
           {
            "error_x": {
             "color": "#2a3f5f"
            },
            "error_y": {
             "color": "#2a3f5f"
            },
            "marker": {
             "line": {
              "color": "#E5ECF6",
              "width": 0.5
             },
             "pattern": {
              "fillmode": "overlay",
              "size": 10,
              "solidity": 0.2
             }
            },
            "type": "bar"
           }
          ],
          "barpolar": [
           {
            "marker": {
             "line": {
              "color": "#E5ECF6",
              "width": 0.5
             },
             "pattern": {
              "fillmode": "overlay",
              "size": 10,
              "solidity": 0.2
             }
            },
            "type": "barpolar"
           }
          ],
          "carpet": [
           {
            "aaxis": {
             "endlinecolor": "#2a3f5f",
             "gridcolor": "white",
             "linecolor": "white",
             "minorgridcolor": "white",
             "startlinecolor": "#2a3f5f"
            },
            "baxis": {
             "endlinecolor": "#2a3f5f",
             "gridcolor": "white",
             "linecolor": "white",
             "minorgridcolor": "white",
             "startlinecolor": "#2a3f5f"
            },
            "type": "carpet"
           }
          ],
          "choropleth": [
           {
            "colorbar": {
             "outlinewidth": 0,
             "ticks": ""
            },
            "type": "choropleth"
           }
          ],
          "contour": [
           {
            "colorbar": {
             "outlinewidth": 0,
             "ticks": ""
            },
            "colorscale": [
             [
              0,
              "#0d0887"
             ],
             [
              0.1111111111111111,
              "#46039f"
             ],
             [
              0.2222222222222222,
              "#7201a8"
             ],
             [
              0.3333333333333333,
              "#9c179e"
             ],
             [
              0.4444444444444444,
              "#bd3786"
             ],
             [
              0.5555555555555556,
              "#d8576b"
             ],
             [
              0.6666666666666666,
              "#ed7953"
             ],
             [
              0.7777777777777778,
              "#fb9f3a"
             ],
             [
              0.8888888888888888,
              "#fdca26"
             ],
             [
              1,
              "#f0f921"
             ]
            ],
            "type": "contour"
           }
          ],
          "contourcarpet": [
           {
            "colorbar": {
             "outlinewidth": 0,
             "ticks": ""
            },
            "type": "contourcarpet"
           }
          ],
          "heatmap": [
           {
            "colorbar": {
             "outlinewidth": 0,
             "ticks": ""
            },
            "colorscale": [
             [
              0,
              "#0d0887"
             ],
             [
              0.1111111111111111,
              "#46039f"
             ],
             [
              0.2222222222222222,
              "#7201a8"
             ],
             [
              0.3333333333333333,
              "#9c179e"
             ],
             [
              0.4444444444444444,
              "#bd3786"
             ],
             [
              0.5555555555555556,
              "#d8576b"
             ],
             [
              0.6666666666666666,
              "#ed7953"
             ],
             [
              0.7777777777777778,
              "#fb9f3a"
             ],
             [
              0.8888888888888888,
              "#fdca26"
             ],
             [
              1,
              "#f0f921"
             ]
            ],
            "type": "heatmap"
           }
          ],
          "heatmapgl": [
           {
            "colorbar": {
             "outlinewidth": 0,
             "ticks": ""
            },
            "colorscale": [
             [
              0,
              "#0d0887"
             ],
             [
              0.1111111111111111,
              "#46039f"
             ],
             [
              0.2222222222222222,
              "#7201a8"
             ],
             [
              0.3333333333333333,
              "#9c179e"
             ],
             [
              0.4444444444444444,
              "#bd3786"
             ],
             [
              0.5555555555555556,
              "#d8576b"
             ],
             [
              0.6666666666666666,
              "#ed7953"
             ],
             [
              0.7777777777777778,
              "#fb9f3a"
             ],
             [
              0.8888888888888888,
              "#fdca26"
             ],
             [
              1,
              "#f0f921"
             ]
            ],
            "type": "heatmapgl"
           }
          ],
          "histogram": [
           {
            "marker": {
             "pattern": {
              "fillmode": "overlay",
              "size": 10,
              "solidity": 0.2
             }
            },
            "type": "histogram"
           }
          ],
          "histogram2d": [
           {
            "colorbar": {
             "outlinewidth": 0,
             "ticks": ""
            },
            "colorscale": [
             [
              0,
              "#0d0887"
             ],
             [
              0.1111111111111111,
              "#46039f"
             ],
             [
              0.2222222222222222,
              "#7201a8"
             ],
             [
              0.3333333333333333,
              "#9c179e"
             ],
             [
              0.4444444444444444,
              "#bd3786"
             ],
             [
              0.5555555555555556,
              "#d8576b"
             ],
             [
              0.6666666666666666,
              "#ed7953"
             ],
             [
              0.7777777777777778,
              "#fb9f3a"
             ],
             [
              0.8888888888888888,
              "#fdca26"
             ],
             [
              1,
              "#f0f921"
             ]
            ],
            "type": "histogram2d"
           }
          ],
          "histogram2dcontour": [
           {
            "colorbar": {
             "outlinewidth": 0,
             "ticks": ""
            },
            "colorscale": [
             [
              0,
              "#0d0887"
             ],
             [
              0.1111111111111111,
              "#46039f"
             ],
             [
              0.2222222222222222,
              "#7201a8"
             ],
             [
              0.3333333333333333,
              "#9c179e"
             ],
             [
              0.4444444444444444,
              "#bd3786"
             ],
             [
              0.5555555555555556,
              "#d8576b"
             ],
             [
              0.6666666666666666,
              "#ed7953"
             ],
             [
              0.7777777777777778,
              "#fb9f3a"
             ],
             [
              0.8888888888888888,
              "#fdca26"
             ],
             [
              1,
              "#f0f921"
             ]
            ],
            "type": "histogram2dcontour"
           }
          ],
          "mesh3d": [
           {
            "colorbar": {
             "outlinewidth": 0,
             "ticks": ""
            },
            "type": "mesh3d"
           }
          ],
          "parcoords": [
           {
            "line": {
             "colorbar": {
              "outlinewidth": 0,
              "ticks": ""
             }
            },
            "type": "parcoords"
           }
          ],
          "pie": [
           {
            "automargin": true,
            "type": "pie"
           }
          ],
          "scatter": [
           {
            "marker": {
             "colorbar": {
              "outlinewidth": 0,
              "ticks": ""
             }
            },
            "type": "scatter"
           }
          ],
          "scatter3d": [
           {
            "line": {
             "colorbar": {
              "outlinewidth": 0,
              "ticks": ""
             }
            },
            "marker": {
             "colorbar": {
              "outlinewidth": 0,
              "ticks": ""
             }
            },
            "type": "scatter3d"
           }
          ],
          "scattercarpet": [
           {
            "marker": {
             "colorbar": {
              "outlinewidth": 0,
              "ticks": ""
             }
            },
            "type": "scattercarpet"
           }
          ],
          "scattergeo": [
           {
            "marker": {
             "colorbar": {
              "outlinewidth": 0,
              "ticks": ""
             }
            },
            "type": "scattergeo"
           }
          ],
          "scattergl": [
           {
            "marker": {
             "colorbar": {
              "outlinewidth": 0,
              "ticks": ""
             }
            },
            "type": "scattergl"
           }
          ],
          "scattermapbox": [
           {
            "marker": {
             "colorbar": {
              "outlinewidth": 0,
              "ticks": ""
             }
            },
            "type": "scattermapbox"
           }
          ],
          "scatterpolar": [
           {
            "marker": {
             "colorbar": {
              "outlinewidth": 0,
              "ticks": ""
             }
            },
            "type": "scatterpolar"
           }
          ],
          "scatterpolargl": [
           {
            "marker": {
             "colorbar": {
              "outlinewidth": 0,
              "ticks": ""
             }
            },
            "type": "scatterpolargl"
           }
          ],
          "scatterternary": [
           {
            "marker": {
             "colorbar": {
              "outlinewidth": 0,
              "ticks": ""
             }
            },
            "type": "scatterternary"
           }
          ],
          "surface": [
           {
            "colorbar": {
             "outlinewidth": 0,
             "ticks": ""
            },
            "colorscale": [
             [
              0,
              "#0d0887"
             ],
             [
              0.1111111111111111,
              "#46039f"
             ],
             [
              0.2222222222222222,
              "#7201a8"
             ],
             [
              0.3333333333333333,
              "#9c179e"
             ],
             [
              0.4444444444444444,
              "#bd3786"
             ],
             [
              0.5555555555555556,
              "#d8576b"
             ],
             [
              0.6666666666666666,
              "#ed7953"
             ],
             [
              0.7777777777777778,
              "#fb9f3a"
             ],
             [
              0.8888888888888888,
              "#fdca26"
             ],
             [
              1,
              "#f0f921"
             ]
            ],
            "type": "surface"
           }
          ],
          "table": [
           {
            "cells": {
             "fill": {
              "color": "#EBF0F8"
             },
             "line": {
              "color": "white"
             }
            },
            "header": {
             "fill": {
              "color": "#C8D4E3"
             },
             "line": {
              "color": "white"
             }
            },
            "type": "table"
           }
          ]
         },
         "layout": {
          "annotationdefaults": {
           "arrowcolor": "#2a3f5f",
           "arrowhead": 0,
           "arrowwidth": 1
          },
          "autotypenumbers": "strict",
          "coloraxis": {
           "colorbar": {
            "outlinewidth": 0,
            "ticks": ""
           }
          },
          "colorscale": {
           "diverging": [
            [
             0,
             "#8e0152"
            ],
            [
             0.1,
             "#c51b7d"
            ],
            [
             0.2,
             "#de77ae"
            ],
            [
             0.3,
             "#f1b6da"
            ],
            [
             0.4,
             "#fde0ef"
            ],
            [
             0.5,
             "#f7f7f7"
            ],
            [
             0.6,
             "#e6f5d0"
            ],
            [
             0.7,
             "#b8e186"
            ],
            [
             0.8,
             "#7fbc41"
            ],
            [
             0.9,
             "#4d9221"
            ],
            [
             1,
             "#276419"
            ]
           ],
           "sequential": [
            [
             0,
             "#0d0887"
            ],
            [
             0.1111111111111111,
             "#46039f"
            ],
            [
             0.2222222222222222,
             "#7201a8"
            ],
            [
             0.3333333333333333,
             "#9c179e"
            ],
            [
             0.4444444444444444,
             "#bd3786"
            ],
            [
             0.5555555555555556,
             "#d8576b"
            ],
            [
             0.6666666666666666,
             "#ed7953"
            ],
            [
             0.7777777777777778,
             "#fb9f3a"
            ],
            [
             0.8888888888888888,
             "#fdca26"
            ],
            [
             1,
             "#f0f921"
            ]
           ],
           "sequentialminus": [
            [
             0,
             "#0d0887"
            ],
            [
             0.1111111111111111,
             "#46039f"
            ],
            [
             0.2222222222222222,
             "#7201a8"
            ],
            [
             0.3333333333333333,
             "#9c179e"
            ],
            [
             0.4444444444444444,
             "#bd3786"
            ],
            [
             0.5555555555555556,
             "#d8576b"
            ],
            [
             0.6666666666666666,
             "#ed7953"
            ],
            [
             0.7777777777777778,
             "#fb9f3a"
            ],
            [
             0.8888888888888888,
             "#fdca26"
            ],
            [
             1,
             "#f0f921"
            ]
           ]
          },
          "colorway": [
           "#636efa",
           "#EF553B",
           "#00cc96",
           "#ab63fa",
           "#FFA15A",
           "#19d3f3",
           "#FF6692",
           "#B6E880",
           "#FF97FF",
           "#FECB52"
          ],
          "font": {
           "color": "#2a3f5f"
          },
          "geo": {
           "bgcolor": "white",
           "lakecolor": "white",
           "landcolor": "#E5ECF6",
           "showlakes": true,
           "showland": true,
           "subunitcolor": "white"
          },
          "hoverlabel": {
           "align": "left"
          },
          "hovermode": "closest",
          "mapbox": {
           "style": "light"
          },
          "paper_bgcolor": "white",
          "plot_bgcolor": "#E5ECF6",
          "polar": {
           "angularaxis": {
            "gridcolor": "white",
            "linecolor": "white",
            "ticks": ""
           },
           "bgcolor": "#E5ECF6",
           "radialaxis": {
            "gridcolor": "white",
            "linecolor": "white",
            "ticks": ""
           }
          },
          "scene": {
           "xaxis": {
            "backgroundcolor": "#E5ECF6",
            "gridcolor": "white",
            "gridwidth": 2,
            "linecolor": "white",
            "showbackground": true,
            "ticks": "",
            "zerolinecolor": "white"
           },
           "yaxis": {
            "backgroundcolor": "#E5ECF6",
            "gridcolor": "white",
            "gridwidth": 2,
            "linecolor": "white",
            "showbackground": true,
            "ticks": "",
            "zerolinecolor": "white"
           },
           "zaxis": {
            "backgroundcolor": "#E5ECF6",
            "gridcolor": "white",
            "gridwidth": 2,
            "linecolor": "white",
            "showbackground": true,
            "ticks": "",
            "zerolinecolor": "white"
           }
          },
          "shapedefaults": {
           "line": {
            "color": "#2a3f5f"
           }
          },
          "ternary": {
           "aaxis": {
            "gridcolor": "white",
            "linecolor": "white",
            "ticks": ""
           },
           "baxis": {
            "gridcolor": "white",
            "linecolor": "white",
            "ticks": ""
           },
           "bgcolor": "#E5ECF6",
           "caxis": {
            "gridcolor": "white",
            "linecolor": "white",
            "ticks": ""
           }
          },
          "title": {
           "x": 0.05
          },
          "xaxis": {
           "automargin": true,
           "gridcolor": "white",
           "linecolor": "white",
           "ticks": "",
           "title": {
            "standoff": 15
           },
           "zerolinecolor": "white",
           "zerolinewidth": 2
          },
          "yaxis": {
           "automargin": true,
           "gridcolor": "white",
           "linecolor": "white",
           "ticks": "",
           "title": {
            "standoff": 15
           },
           "zerolinecolor": "white",
           "zerolinewidth": 2
          }
         }
        }
       }
      },
      "text/html": [
       "<div>                            <div id=\"65091ed4-dba7-48db-825c-415cddc99477\" class=\"plotly-graph-div\" style=\"height:525px; width:100%;\"></div>            <script type=\"text/javascript\">                require([\"plotly\"], function(Plotly) {                    window.PLOTLYENV=window.PLOTLYENV || {};                                    if (document.getElementById(\"65091ed4-dba7-48db-825c-415cddc99477\")) {                    Plotly.newPlot(                        \"65091ed4-dba7-48db-825c-415cddc99477\",                        [{\"hovertemplate\":\"x=%{x}<br>y=%{y}<br>z=%{z}<extra></extra>\",\"legendgroup\":\"\",\"marker\":{\"color\":\"#636efa\",\"symbol\":\"circle\"},\"mode\":\"markers\",\"name\":\"\",\"scene\":\"scene\",\"showlegend\":false,\"x\":[-0.6889048084719964,0.7330244009067299,2.471038286409753,-0.192704657339136,4.163111453715713,-0.9767831602311421,2.6443192989999664,3.994516133334929,1.6016472634194514,1.5873027227767649,-1.3316770649481797,3.204290817532164,1.9895840184036029,-1.2915276539987621,-0.9297489035707711,-0.14333666222137387,3.013390663257262,4.117909882085669,-1.8481449171992548,3.9148199261457357,3.219978769405257,1.086621525936999,-2.7952941459247715,-0.5109213697028681,-0.549445022833309,3.143590032164167,3.4757520126554597,3.94574878700678,3.2966868687708093,0.42287749073814496,-1.5653030737522158,0.5900897939165182,3.9308694635475723,1.3006083486899405,1.1008248242860934,-0.6841080340767336,3.29259225992229,1.3806167327223147,1.3434641361614919,1.557517312389746,-0.8146045435357725,-2.0234570035122057,3.309369212372909,1.815278532566456,-1.0242238330015851,2.875532762499679,0.08940707150009253,3.5252102805845675,2.492928893849772,-2.3002518957596494,-0.7145866129380525,-1.66074780337939,1.539229647615886,2.7732109495866943,-1.807656216698755,0.3669712239484717,-2.2158092468770563,2.384531798353544,1.4577357966017326,0.7022141508023663,-0.8832235580952765,1.2113227498113517,1.439693848417245,-0.153033141614209,2.5962222729850373,1.7177218663091969,-1.3242706599182248,2.7539655414766324,3.432390011267702,3.731248482155811,3.48250286444478,-0.852920647567611,1.5294864053116823,-0.9907758585520512,3.0574243883306114,-1.2329655297992135,1.4141189583518718,1.680005650834949,-1.2956991613597362,-2.4881077368417297,-0.4182120040927755,-1.2271428900850054,2.3282357730110412,-1.746296437273364,2.7403657045172514,-1.1007905719149496,-1.5537651866432038,2.3911985738769355,-2.1497467935972567,-2.423398835010486,2.556644270715278,-0.13870696498754587,2.218552968085576,-0.9959790271970728,3.4632133995893355,0.2451561845164716,2.3960349379179524,-1.032522331392316,-1.5764176384618023,1.8644484190613353],\"y\":[0.08341301179471916,3.5818270377900996,-1.9006407590301044,-1.8894083411828304,1.7540457080017529,0.9120460590089663,1.3208072672751774,2.456495750655354,-1.2933848511270594,-0.9024600030663001,0.15077361672628964,0.23328057705299932,3.862622308672771,-2.1801160257531333,1.47740723129143,0.9075190448068371,-0.6633866199746921,2.7247087999839286,-2.070158631504306,0.5916388744583934,-1.2631655490995213,-0.7566881116287045,0.9360336688786228,-2.0830019888468914,-2.5609090124281106,-1.235426315649788,3.6286306552910483,-0.9006913857589858,-0.8700038887685859,3.4106308784269626,1.1548941946206157,2.216124036763425,0.4232655278718944,-1.3177151607561204,4.105412699701464,1.4803486658783838,-0.0747674628897701,-0.7412322751249629,-1.4013364640156278,3.789803648998105,-2.3587016374549474,3.153956008535574,-0.18509572048000278,-2.161509881719832,3.1316894164107634,4.128318628914099,0.34973470566377873,3.0256975896803437,2.988332015425204,2.1130336958696017,-1.1914092345566256,1.3266746812149863,0.5860456305015633,-1.1146052138538263,2.3686962901375184,3.486204802286454,3.6369085558637115,3.959852886048729,-2.6847549784844214,2.4144360116838044,3.258959039468902,-2.4276462865981085,0.39708877364543804,-1.9309791018470663,-1.3768696738111732,-0.2758961488137106,2.552845831735759,3.315161767151804,2.3876666225039838,-0.7388058757330467,4.194057749507425,-2.393087719516738,-1.6231044195700082,-1.5875319573842166,4.076028278896524,-1.896074361784637,4.149993052366452,1.5448059707878272,3.484512392422027,1.400101961562525,0.09648048616703209,-0.6021370131969204,-0.7911303711437352,-2.6078882188815777,3.0241886585613686,0.4953704220007076,3.8371998597683517,2.3082750836814583,1.4477099479399165,-0.13897617234179194,1.1217691171964184,1.8441485166442932,3.5437008964747747,-0.2200092436875094,2.636483074906729,2.494506612811276,2.9735838300847286,2.9208452166861587,2.544047136974336,-1.0803039150102671],\"z\":[3.5514207361866745,15.656226724691972,11.95142388953213,4.074442052819532,24.80889297982059,3.028625152531317,12.223301935161762,26.36000281081346,5.382512170705803,5.626979899441302,3.801215965164896,12.057603358669748,24.439071771597966,8.38100559976195,3.9490145128056717,3.4771418979924746,12.126324363732481,29.18082056306928,7.663217715954353,19.021033619079155,14.749761676568301,3.0391995490266637,10.671464792166013,6.457609096739157,9.236760360048164,12.540401322391785,32.27598293368252,17.071289493059723,13.194029814379935,13.989874039811545,5.6463486385794885,7.544275812287227,18.64234477185164,5.249660032590503,19.68679451336303,4.822216359941411,13.605227338384916,2.5572870775208907,5.378767913681742,19.687893457680516,6.86330517370563,15.55307877744635,11.52723367693952,9.234716104586909,13.751127271752978,30.31037371298423,1.739403817107,26.25500356857441,18.896543724050726,11.078919973746602,4.2023486529382135,5.167485954493984,4.70324635854277,9.376962080504182,8.528843645926486,15.815095398394345,18.919466964930514,25.891578349888324,10.781825764735926,10.113480854765811,13.198818783858805,7.612285449411755,3.8309005725553993,5.2051315870540815,10.117965057078202,4.962140054024633,8.671347026759623,20.888474751747587,22.1231193740219,16.127196439810646,35.15962837610028,7.498084345767705,6.935581378178579,5.287349005848102,32.124551113850785,6.717673562296705,23.630962795738697,8.517372090125201,14.911507940343439,10.078937326791493,1.3516198395415313,2.4451657169476064,8.059720608747824,9.935558093688236,20.477494559001578,1.8111202373165665,19.167511484436094,14.350186761674212,8.454673847805267,8.874926417691793,11.922250064363213,6.055966236230868,20.284345541743498,2.7838590616175525,23.678544120479227,8.628421058291183,17.78653393551518,11.974482583238265,9.301573350195952,6.151120027672731],\"type\":\"scatter3d\"},{\"x\":[-2.7952941459247715,-2.0221379681869402,-1.2489817904491085,-0.4758256127112772,0.2973305650265545,1.0704867427643863,1.8436429205022171,2.616799098240049,3.3899552759778806,4.163111453715713],\"y\":[-2.6847549784844214,-1.9204424531519941,-1.1561299278195667,-0.39181740248713925,0.37249512284528796,1.1368076481777152,1.9011201735101428,2.6654326988425696,3.4297452241749973,4.194057749507425],\"z\":[[1.905120849609375,26.41063690185547,18.29370880126953,15.457542419433594,17.705787658691406,16.405235290527344,20.96137237548828,9.610443115234375,-3.1393203735351562,33.5997314453125],[12.100349426269531,51.078033447265625,5.63720703125,10.129196166992188,15.469566345214844,11.045509338378906,15.298164367675781,13.506317138671875,9.272773742675781,12.738983154296875],[17.449562072753906,8.292190551757812,12.537834167480469,11.878204345703125,-30.90239715576172,9.656005859375,39.2398681640625,23.442535400390625,5.56488037109375,10.478385925292969],[0.960235595703125,17.208450317382812,24.111724853515625,13.466049194335938,-0.433837890625,-1.8485794067382812,15.895698547363281,19.57123565673828,16.045242309570312,45.6600341796875],[8.639183044433594,24.765579223632812,24.475433349609375,7.4420928955078125,16.330307006835938,25.739456176757812,25.36878204345703,16.36431121826172,26.243247985839844,5.1775054931640625],[9.146385192871094,9.26385498046875,15.412879943847656,31.397865295410156,7.069923400878906,5.675758361816406,38.35413360595703,10.184494018554688,11.937278747558594,49.27995300292969],[8.012519836425781,-29.622299194335938,-76.09000396728516,-5.7760009765625,-5.908721923828125,23.672744750976562,5.414405822753906,16.654922485351562,12.066741943359375,-15.822273254394531],[9.2352294921875,0.021575927734375,-4.1432647705078125,26.8564453125,17.394790649414062,1.9235153198242188,7.665962219238281,19.553756713867188,35.232688903808594,22.83045196533203],[6.436119079589844,-7.0628509521484375,9.759986877441406,8.610260009765625,26.09899139404297,-1.562103271484375,7.869285583496094,1.27838134765625,15.187294006347656,5.73101806640625],[12.259086608886719,4.477027893066406,18.202926635742188,-6.174201965332031,17.246849060058594,14.55120849609375,11.722099304199219,22.540611267089844,5.97576904296875,26.26287078857422]],\"type\":\"surface\"}],                        {\"template\":{\"data\":{\"bar\":[{\"error_x\":{\"color\":\"#2a3f5f\"},\"error_y\":{\"color\":\"#2a3f5f\"},\"marker\":{\"line\":{\"color\":\"#E5ECF6\",\"width\":0.5},\"pattern\":{\"fillmode\":\"overlay\",\"size\":10,\"solidity\":0.2}},\"type\":\"bar\"}],\"barpolar\":[{\"marker\":{\"line\":{\"color\":\"#E5ECF6\",\"width\":0.5},\"pattern\":{\"fillmode\":\"overlay\",\"size\":10,\"solidity\":0.2}},\"type\":\"barpolar\"}],\"carpet\":[{\"aaxis\":{\"endlinecolor\":\"#2a3f5f\",\"gridcolor\":\"white\",\"linecolor\":\"white\",\"minorgridcolor\":\"white\",\"startlinecolor\":\"#2a3f5f\"},\"baxis\":{\"endlinecolor\":\"#2a3f5f\",\"gridcolor\":\"white\",\"linecolor\":\"white\",\"minorgridcolor\":\"white\",\"startlinecolor\":\"#2a3f5f\"},\"type\":\"carpet\"}],\"choropleth\":[{\"colorbar\":{\"outlinewidth\":0,\"ticks\":\"\"},\"type\":\"choropleth\"}],\"contour\":[{\"colorbar\":{\"outlinewidth\":0,\"ticks\":\"\"},\"colorscale\":[[0.0,\"#0d0887\"],[0.1111111111111111,\"#46039f\"],[0.2222222222222222,\"#7201a8\"],[0.3333333333333333,\"#9c179e\"],[0.4444444444444444,\"#bd3786\"],[0.5555555555555556,\"#d8576b\"],[0.6666666666666666,\"#ed7953\"],[0.7777777777777778,\"#fb9f3a\"],[0.8888888888888888,\"#fdca26\"],[1.0,\"#f0f921\"]],\"type\":\"contour\"}],\"contourcarpet\":[{\"colorbar\":{\"outlinewidth\":0,\"ticks\":\"\"},\"type\":\"contourcarpet\"}],\"heatmap\":[{\"colorbar\":{\"outlinewidth\":0,\"ticks\":\"\"},\"colorscale\":[[0.0,\"#0d0887\"],[0.1111111111111111,\"#46039f\"],[0.2222222222222222,\"#7201a8\"],[0.3333333333333333,\"#9c179e\"],[0.4444444444444444,\"#bd3786\"],[0.5555555555555556,\"#d8576b\"],[0.6666666666666666,\"#ed7953\"],[0.7777777777777778,\"#fb9f3a\"],[0.8888888888888888,\"#fdca26\"],[1.0,\"#f0f921\"]],\"type\":\"heatmap\"}],\"heatmapgl\":[{\"colorbar\":{\"outlinewidth\":0,\"ticks\":\"\"},\"colorscale\":[[0.0,\"#0d0887\"],[0.1111111111111111,\"#46039f\"],[0.2222222222222222,\"#7201a8\"],[0.3333333333333333,\"#9c179e\"],[0.4444444444444444,\"#bd3786\"],[0.5555555555555556,\"#d8576b\"],[0.6666666666666666,\"#ed7953\"],[0.7777777777777778,\"#fb9f3a\"],[0.8888888888888888,\"#fdca26\"],[1.0,\"#f0f921\"]],\"type\":\"heatmapgl\"}],\"histogram\":[{\"marker\":{\"pattern\":{\"fillmode\":\"overlay\",\"size\":10,\"solidity\":0.2}},\"type\":\"histogram\"}],\"histogram2d\":[{\"colorbar\":{\"outlinewidth\":0,\"ticks\":\"\"},\"colorscale\":[[0.0,\"#0d0887\"],[0.1111111111111111,\"#46039f\"],[0.2222222222222222,\"#7201a8\"],[0.3333333333333333,\"#9c179e\"],[0.4444444444444444,\"#bd3786\"],[0.5555555555555556,\"#d8576b\"],[0.6666666666666666,\"#ed7953\"],[0.7777777777777778,\"#fb9f3a\"],[0.8888888888888888,\"#fdca26\"],[1.0,\"#f0f921\"]],\"type\":\"histogram2d\"}],\"histogram2dcontour\":[{\"colorbar\":{\"outlinewidth\":0,\"ticks\":\"\"},\"colorscale\":[[0.0,\"#0d0887\"],[0.1111111111111111,\"#46039f\"],[0.2222222222222222,\"#7201a8\"],[0.3333333333333333,\"#9c179e\"],[0.4444444444444444,\"#bd3786\"],[0.5555555555555556,\"#d8576b\"],[0.6666666666666666,\"#ed7953\"],[0.7777777777777778,\"#fb9f3a\"],[0.8888888888888888,\"#fdca26\"],[1.0,\"#f0f921\"]],\"type\":\"histogram2dcontour\"}],\"mesh3d\":[{\"colorbar\":{\"outlinewidth\":0,\"ticks\":\"\"},\"type\":\"mesh3d\"}],\"parcoords\":[{\"line\":{\"colorbar\":{\"outlinewidth\":0,\"ticks\":\"\"}},\"type\":\"parcoords\"}],\"pie\":[{\"automargin\":true,\"type\":\"pie\"}],\"scatter\":[{\"marker\":{\"colorbar\":{\"outlinewidth\":0,\"ticks\":\"\"}},\"type\":\"scatter\"}],\"scatter3d\":[{\"line\":{\"colorbar\":{\"outlinewidth\":0,\"ticks\":\"\"}},\"marker\":{\"colorbar\":{\"outlinewidth\":0,\"ticks\":\"\"}},\"type\":\"scatter3d\"}],\"scattercarpet\":[{\"marker\":{\"colorbar\":{\"outlinewidth\":0,\"ticks\":\"\"}},\"type\":\"scattercarpet\"}],\"scattergeo\":[{\"marker\":{\"colorbar\":{\"outlinewidth\":0,\"ticks\":\"\"}},\"type\":\"scattergeo\"}],\"scattergl\":[{\"marker\":{\"colorbar\":{\"outlinewidth\":0,\"ticks\":\"\"}},\"type\":\"scattergl\"}],\"scattermapbox\":[{\"marker\":{\"colorbar\":{\"outlinewidth\":0,\"ticks\":\"\"}},\"type\":\"scattermapbox\"}],\"scatterpolar\":[{\"marker\":{\"colorbar\":{\"outlinewidth\":0,\"ticks\":\"\"}},\"type\":\"scatterpolar\"}],\"scatterpolargl\":[{\"marker\":{\"colorbar\":{\"outlinewidth\":0,\"ticks\":\"\"}},\"type\":\"scatterpolargl\"}],\"scatterternary\":[{\"marker\":{\"colorbar\":{\"outlinewidth\":0,\"ticks\":\"\"}},\"type\":\"scatterternary\"}],\"surface\":[{\"colorbar\":{\"outlinewidth\":0,\"ticks\":\"\"},\"colorscale\":[[0.0,\"#0d0887\"],[0.1111111111111111,\"#46039f\"],[0.2222222222222222,\"#7201a8\"],[0.3333333333333333,\"#9c179e\"],[0.4444444444444444,\"#bd3786\"],[0.5555555555555556,\"#d8576b\"],[0.6666666666666666,\"#ed7953\"],[0.7777777777777778,\"#fb9f3a\"],[0.8888888888888888,\"#fdca26\"],[1.0,\"#f0f921\"]],\"type\":\"surface\"}],\"table\":[{\"cells\":{\"fill\":{\"color\":\"#EBF0F8\"},\"line\":{\"color\":\"white\"}},\"header\":{\"fill\":{\"color\":\"#C8D4E3\"},\"line\":{\"color\":\"white\"}},\"type\":\"table\"}]},\"layout\":{\"annotationdefaults\":{\"arrowcolor\":\"#2a3f5f\",\"arrowhead\":0,\"arrowwidth\":1},\"autotypenumbers\":\"strict\",\"coloraxis\":{\"colorbar\":{\"outlinewidth\":0,\"ticks\":\"\"}},\"colorscale\":{\"diverging\":[[0,\"#8e0152\"],[0.1,\"#c51b7d\"],[0.2,\"#de77ae\"],[0.3,\"#f1b6da\"],[0.4,\"#fde0ef\"],[0.5,\"#f7f7f7\"],[0.6,\"#e6f5d0\"],[0.7,\"#b8e186\"],[0.8,\"#7fbc41\"],[0.9,\"#4d9221\"],[1,\"#276419\"]],\"sequential\":[[0.0,\"#0d0887\"],[0.1111111111111111,\"#46039f\"],[0.2222222222222222,\"#7201a8\"],[0.3333333333333333,\"#9c179e\"],[0.4444444444444444,\"#bd3786\"],[0.5555555555555556,\"#d8576b\"],[0.6666666666666666,\"#ed7953\"],[0.7777777777777778,\"#fb9f3a\"],[0.8888888888888888,\"#fdca26\"],[1.0,\"#f0f921\"]],\"sequentialminus\":[[0.0,\"#0d0887\"],[0.1111111111111111,\"#46039f\"],[0.2222222222222222,\"#7201a8\"],[0.3333333333333333,\"#9c179e\"],[0.4444444444444444,\"#bd3786\"],[0.5555555555555556,\"#d8576b\"],[0.6666666666666666,\"#ed7953\"],[0.7777777777777778,\"#fb9f3a\"],[0.8888888888888888,\"#fdca26\"],[1.0,\"#f0f921\"]]},\"colorway\":[\"#636efa\",\"#EF553B\",\"#00cc96\",\"#ab63fa\",\"#FFA15A\",\"#19d3f3\",\"#FF6692\",\"#B6E880\",\"#FF97FF\",\"#FECB52\"],\"font\":{\"color\":\"#2a3f5f\"},\"geo\":{\"bgcolor\":\"white\",\"lakecolor\":\"white\",\"landcolor\":\"#E5ECF6\",\"showlakes\":true,\"showland\":true,\"subunitcolor\":\"white\"},\"hoverlabel\":{\"align\":\"left\"},\"hovermode\":\"closest\",\"mapbox\":{\"style\":\"light\"},\"paper_bgcolor\":\"white\",\"plot_bgcolor\":\"#E5ECF6\",\"polar\":{\"angularaxis\":{\"gridcolor\":\"white\",\"linecolor\":\"white\",\"ticks\":\"\"},\"bgcolor\":\"#E5ECF6\",\"radialaxis\":{\"gridcolor\":\"white\",\"linecolor\":\"white\",\"ticks\":\"\"}},\"scene\":{\"xaxis\":{\"backgroundcolor\":\"#E5ECF6\",\"gridcolor\":\"white\",\"gridwidth\":2,\"linecolor\":\"white\",\"showbackground\":true,\"ticks\":\"\",\"zerolinecolor\":\"white\"},\"yaxis\":{\"backgroundcolor\":\"#E5ECF6\",\"gridcolor\":\"white\",\"gridwidth\":2,\"linecolor\":\"white\",\"showbackground\":true,\"ticks\":\"\",\"zerolinecolor\":\"white\"},\"zaxis\":{\"backgroundcolor\":\"#E5ECF6\",\"gridcolor\":\"white\",\"gridwidth\":2,\"linecolor\":\"white\",\"showbackground\":true,\"ticks\":\"\",\"zerolinecolor\":\"white\"}},\"shapedefaults\":{\"line\":{\"color\":\"#2a3f5f\"}},\"ternary\":{\"aaxis\":{\"gridcolor\":\"white\",\"linecolor\":\"white\",\"ticks\":\"\"},\"baxis\":{\"gridcolor\":\"white\",\"linecolor\":\"white\",\"ticks\":\"\"},\"bgcolor\":\"#E5ECF6\",\"caxis\":{\"gridcolor\":\"white\",\"linecolor\":\"white\",\"ticks\":\"\"}},\"title\":{\"x\":0.05},\"xaxis\":{\"automargin\":true,\"gridcolor\":\"white\",\"linecolor\":\"white\",\"ticks\":\"\",\"title\":{\"standoff\":15},\"zerolinecolor\":\"white\",\"zerolinewidth\":2},\"yaxis\":{\"automargin\":true,\"gridcolor\":\"white\",\"linecolor\":\"white\",\"ticks\":\"\",\"title\":{\"standoff\":15},\"zerolinecolor\":\"white\",\"zerolinewidth\":2}}},\"scene\":{\"domain\":{\"x\":[0.0,1.0],\"y\":[0.0,1.0]},\"xaxis\":{\"title\":{\"text\":\"x\"}},\"yaxis\":{\"title\":{\"text\":\"y\"}},\"zaxis\":{\"title\":{\"text\":\"z\"},\"range\":[0,35]}},\"legend\":{\"tracegroupgap\":0},\"margin\":{\"t\":60}},                        {\"responsive\": true}                    ).then(function(){\n",
       "                            \n",
       "var gd = document.getElementById('65091ed4-dba7-48db-825c-415cddc99477');\n",
       "var x = new MutationObserver(function (mutations, observer) {{\n",
       "        var display = window.getComputedStyle(gd).display;\n",
       "        if (!display || display === 'none') {{\n",
       "            console.log([gd, 'removed!']);\n",
       "            Plotly.purge(gd);\n",
       "            observer.disconnect();\n",
       "        }}\n",
       "}});\n",
       "\n",
       "// Listen for the removal of the full notebook cells\n",
       "var notebookContainer = gd.closest('#notebook-container');\n",
       "if (notebookContainer) {{\n",
       "    x.observe(notebookContainer, {childList: true});\n",
       "}}\n",
       "\n",
       "// Listen for the clearing of the current output cell\n",
       "var outputEl = gd.closest('.output');\n",
       "if (outputEl) {{\n",
       "    x.observe(outputEl, {childList: true});\n",
       "}}\n",
       "\n",
       "                        })                };                });            </script>        </div>"
      ]
     },
     "metadata": {},
     "output_type": "display_data"
    }
   ],
   "source": [
    "fig = px.scatter_3d(x=x.ravel(), y=y.ravel(), z=z.ravel())\n",
    "\n",
    "fig.add_trace(go.Surface(x = x_input, y = y_input, z =z_final))\n",
    "fig.update_layout(scene = dict(zaxis = dict(range=[0,35])))\n",
    "\n",
    "fig.show()"
   ]
  },
  {
   "cell_type": "code",
   "execution_count": null,
   "id": "a3a92e82",
   "metadata": {},
   "outputs": [],
   "source": []
  }
 ],
 "metadata": {
  "kernelspec": {
   "display_name": "Python 3 (ipykernel)",
   "language": "python",
   "name": "python3"
  },
  "language_info": {
   "codemirror_mode": {
    "name": "ipython",
    "version": 3
   },
   "file_extension": ".py",
   "mimetype": "text/x-python",
   "name": "python",
   "nbconvert_exporter": "python",
   "pygments_lexer": "ipython3",
   "version": "3.9.7"
  }
 },
 "nbformat": 4,
 "nbformat_minor": 5
}
